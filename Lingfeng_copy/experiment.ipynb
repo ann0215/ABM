{
 "cells": [
  {
   "cell_type": "code",
   "execution_count": 1,
   "metadata": {},
   "outputs": [],
   "source": [
    "import importlib\n",
    "import gui\n",
    "import people\n",
    "import astar\n",
    "importlib.reload(gui)\n",
    "importlib.reload(people)\n",
    "importlib.reload(astar)\n",
    "from gui import GUI\n",
    "from people import PeopleList\n",
    "import matplotlib.pyplot as plt"
   ]
  },
  {
   "cell_type": "code",
   "execution_count": 2,
   "metadata": {},
   "outputs": [],
   "source": [
    "# [(start_boundray),(end_boundray),(door),(start_obstacle1),(end_obstacle1),(start_obstacle2),(end_obstacle2)...]\n",
    "# barrier_set = [(0,0),(27,17),(26,8),(10,4),(18,7),(10,10),(18,13)]\n",
    "barrier_set = [(0,0),(27,17),(26,8),(22,4),(23,7)]\n",
    "# barrier_set = [(0,0),(27,17),(26,8)] # -> No obstacles\n",
    "delta_time=0.005\n",
    "\n",
    "#  Build GUI\n",
    "gui = GUI()\n",
    "gui.add_barrier(barrier_set)\n",
    "gui.update_gui()\n",
    "\n",
    "\n",
    "#  Build Peoplelist saving each people object\n",
    "people_list = PeopleList()\n",
    "# Build direction matrix\n",
    "people_list.direction_matrix(barrier_set)\n",
    "# Assign groups\n",
    "group_split={4:1, 3:2, 2: 5}\n",
    "people_list.assign_groups(group_split)\n",
    "time = 0\n",
    "\n",
    "#  Initial each people\n",
    "for people in people_list.list:\n",
    "    gui.add_line(people, people_list.list, people.group_id)\n",
    "    gui.add_oval(people.loc[0]-people.r, people.loc[1]-people.r,\n",
    "                 people.loc[0]+people.r, people.loc[1]+people.r, people.id)\n",
    "gui.update_gui()\n",
    "\n",
    "\n",
    "#  move\n",
    "while people_list.list:\n",
    "    i = 0\n",
    "    while i < len(people_list.list):\n",
    "        gui.del_line(people_list.list[i].group_id)\n",
    "        gui.del_oval(people_list.list[i].id)\n",
    "        \n",
    "        if people_list.list[i].loc[0] > 1040:  # delete people if it goes out of room\n",
    "            people_list.list.pop(i)\n",
    "            continue\n",
    "        i += 1\n",
    "    people_list.move(barrier_set,delta_time=0.005, A=2000, B=-0.08, threshold_ped=1.4, threshold_obs=120,threshold_group=2, \n",
    "                     q_A=1, q_R=1, beta1=4, beta2=2, beta3=2)  # ped movement\n",
    "    for people in people_list.list:  # update position\n",
    "        gui.add_oval(int(people.loc[0]) - people.r, \n",
    "                     int(people.loc[1]) - people.r, int(people.loc[0]) + people.r,\n",
    "                     int(people.loc[1]) + people.r, people.id)\n",
    "        gui.add_line(people, people_list.list, people.group_id)\n",
    "    time = time + delta_time  # update time\n",
    "    gui.update_time(str(round(time, 3)))\n",
    "    gui.update_gui()\n",
    "\n",
    "gui.start()"
   ]
  }
 ],
 "metadata": {
  "kernelspec": {
   "display_name": "base",
   "language": "python",
   "name": "python3"
  },
  "language_info": {
   "codemirror_mode": {
    "name": "ipython",
    "version": 3
   },
   "file_extension": ".py",
   "mimetype": "text/x-python",
   "name": "python",
   "nbconvert_exporter": "python",
   "pygments_lexer": "ipython3",
   "version": "3.9.18"
  },
  "orig_nbformat": 4
 },
 "nbformat": 4,
 "nbformat_minor": 2
}
