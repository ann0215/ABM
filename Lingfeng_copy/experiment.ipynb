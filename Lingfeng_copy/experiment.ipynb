{
 "cells": [
  {
   "cell_type": "code",
   "execution_count": 1,
   "metadata": {},
   "outputs": [],
   "source": [
    "import importlib\n",
    "import gui\n",
    "import people\n",
    "import astar\n",
    "importlib.reload(gui)\n",
    "importlib.reload(people)\n",
    "importlib.reload(astar)\n",
    "from gui import GUI\n",
    "from people import PeopleList\n",
    "import matplotlib.pyplot as plt"
   ]
  },
  {
   "cell_type": "code",
   "execution_count": 2,
   "metadata": {},
   "outputs": [
    {
     "name": "stdout",
     "output_type": "stream",
     "text": [
      "Time when 50% of people moved out: 24.041 seconds\n"
     ]
    }
   ],
   "source": [
    "import time as real_time  # import real time\n",
    "\n",
    "# [(start_boundary), (end_boundary), (door), (start_obstacle1), (end_obstacle1), (start_obstacle2), (end_obstacle2)...]\n",
    "barrier_set = [(0, 0), (27, 17), (26, 8), (24, 4), (25, 7), (24, 10), (25, 13)]\n",
    "# = [(0, 0), (27, 17), (26, 8), (22, 4), (23, 7)]\n",
    "# barrier_set = [(0, 0), (27, 17), (26, 8)]  # -> No obstacles\n",
    "delta_time = 0.005\n",
    "percent_threshold = 50  # the percentage of people being moved out\n",
    "initial_people_count = None\n",
    "recorded_time = False\n",
    "\n",
    "# Build GUI\n",
    "gui = GUI()\n",
    "gui.add_barrier(barrier_set)\n",
    "gui.update_gui()\n",
    "\n",
    "# Build PeopleList saving each people object\n",
    "people_list = PeopleList()\n",
    "# Build direction matrix\n",
    "people_list.direction_matrix(barrier_set)\n",
    "# Assign groups\n",
    "group_split = {4: 1, 3: 2, 2: 5}\n",
    "people_list.assign_groups(group_split)\n",
    "time = 0\n",
    "\n",
    "# Initial each people\n",
    "for people in people_list.list:\n",
    "    gui.add_line(people, people_list.list, people.group_id)\n",
    "    gui.add_oval(people.loc[0] - people.r, people.loc[1] - people.r,\n",
    "                 people.loc[0] + people.r, people.loc[1] + people.r, people.id)\n",
    "gui.update_gui()\n",
    "\n",
    "initial_people_count = len(people_list.list)\n",
    "\n",
    "# Move\n",
    "start_time = real_time.time() \n",
    "\n",
    "while people_list.list:\n",
    "    i = 0\n",
    "    while i < len(people_list.list):\n",
    "        gui.del_line(people_list.list[i].group_id)\n",
    "        gui.del_oval(people_list.list[i].id)\n",
    "\n",
    "        if people_list.list[i].loc[0] > 1040:  # delete people if it goes out of room\n",
    "            people_list.list.pop(i)\n",
    "            continue\n",
    "        i += 1\n",
    "\n",
    "    # Check the percentage of people who have moved out\n",
    "    remaining_people_count = len(people_list.list)\n",
    "    moved_out_percentage = ((initial_people_count - remaining_people_count) / initial_people_count) * 100\n",
    "\n",
    "    if not recorded_time and moved_out_percentage >= percent_threshold:\n",
    "        print(f\"Time when {percent_threshold}% of people moved out: {round(time, 3)} seconds\") \n",
    "        recorded_time = True\n",
    "\n",
    "    people_list.move(barrier_set, delta_time=delta_time, A=2000, B=-0.08, threshold_ped=1.4, threshold_obs=120,\n",
    "                     threshold_group=2, q_A=1, q_R=1, beta1=4, beta2=2, beta3=2)  # ped movement\n",
    "\n",
    "    for people in people_list.list:  # update position\n",
    "        gui.add_oval(int(people.loc[0]) - people.r,\n",
    "                     int(people.loc[1]) - people.r, int(people.loc[0]) + people.r,\n",
    "                     int(people.loc[1]) + people.r, people.id)\n",
    "        gui.add_line(people, people_list.list, people.group_id)\n",
    "\n",
    "    time = real_time.time() - start_time  # update time\n",
    "    gui.update_time(str(round(time, 3)))\n",
    "    gui.update_gui()\n",
    "\n",
    "gui.start()\n"
   ]
  },
  {
   "cell_type": "code",
   "execution_count": 3,
   "metadata": {},
   "outputs": [
    {
     "data": {
      "text/plain": [
       "32.20889449119568"
      ]
     },
     "execution_count": 3,
     "metadata": {},
     "output_type": "execute_result"
    }
   ],
   "source": [
    "time \n"
   ]
  }
 ],
 "metadata": {
  "kernelspec": {
   "display_name": "base",
   "language": "python",
   "name": "python3"
  },
  "language_info": {
   "codemirror_mode": {
    "name": "ipython",
    "version": 3
   },
   "file_extension": ".py",
   "mimetype": "text/x-python",
   "name": "python",
   "nbconvert_exporter": "python",
   "pygments_lexer": "ipython3",
   "version": "3.9.18"
  },
  "orig_nbformat": 4
 },
 "nbformat": 4,
 "nbformat_minor": 2
}
