{
 "cells": [
  {
   "cell_type": "code",
   "execution_count": 21,
   "metadata": {},
   "outputs": [
    {
     "data": {
      "text/plain": [
       "<module 'gui' from 'd:\\\\vscode\\\\python_individual\\\\full_escape\\\\ABM\\\\Lingfeng_copy\\\\gui.py'>"
      ]
     },
     "execution_count": 21,
     "metadata": {},
     "output_type": "execute_result"
    },
    {
     "data": {
      "text/plain": [
       "<module 'people' from 'd:\\\\vscode\\\\python_individual\\\\full_escape\\\\ABM\\\\Lingfeng_copy\\\\people.py'>"
      ]
     },
     "execution_count": 21,
     "metadata": {},
     "output_type": "execute_result"
    },
    {
     "data": {
      "text/plain": [
       "<module 'astar' from 'd:\\\\vscode\\\\python_individual\\\\full_escape\\\\ABM\\\\Lingfeng_copy\\\\astar.py'>"
      ]
     },
     "execution_count": 21,
     "metadata": {},
     "output_type": "execute_result"
    }
   ],
   "source": [
    "import importlib\n",
    "import gui\n",
    "import people\n",
    "import astar\n",
    "importlib.reload(gui)\n",
    "importlib.reload(people)\n",
    "importlib.reload(astar)\n",
    "from gui import GUI\n",
    "from people import PeopleList\n",
    "import matplotlib.pyplot as plt\n",
    "import numpy as np\n",
    "from scipy import stats\n",
    "import pandas as pd"
   ]
  },
  {
   "cell_type": "code",
   "execution_count": 2,
   "metadata": {},
   "outputs": [],
   "source": [
    "from IPython.core.interactiveshell import InteractiveShell\n",
    "InteractiveShell.ast_node_interactivity = \"all\""
   ]
  },
  {
   "cell_type": "code",
   "execution_count": 27,
   "metadata": {},
   "outputs": [
    {
     "data": {
      "text/plain": [
       "<people.People at 0x20d7f003f40>"
      ]
     },
     "execution_count": 27,
     "metadata": {},
     "output_type": "execute_result"
    },
    {
     "data": {
      "text/plain": [
       "<people.People at 0x20d00aedd00>"
      ]
     },
     "execution_count": 27,
     "metadata": {},
     "output_type": "execute_result"
    },
    {
     "data": {
      "text/plain": [
       "<people.People at 0x20d7f003d90>"
      ]
     },
     "execution_count": 27,
     "metadata": {},
     "output_type": "execute_result"
    },
    {
     "data": {
      "text/plain": [
       "<people.People at 0x20d7efe5460>"
      ]
     },
     "execution_count": 27,
     "metadata": {},
     "output_type": "execute_result"
    },
    {
     "data": {
      "text/plain": [
       "<people.People at 0x20d7f003c10>"
      ]
     },
     "execution_count": 27,
     "metadata": {},
     "output_type": "execute_result"
    },
    {
     "data": {
      "text/plain": [
       "<people.People at 0x20d7efdbbe0>"
      ]
     },
     "execution_count": 27,
     "metadata": {},
     "output_type": "execute_result"
    },
    {
     "data": {
      "text/plain": [
       "<people.People at 0x20d7efdb2e0>"
      ]
     },
     "execution_count": 27,
     "metadata": {},
     "output_type": "execute_result"
    },
    {
     "data": {
      "text/plain": [
       "<people.People at 0x20d7f003a60>"
      ]
     },
     "execution_count": 27,
     "metadata": {},
     "output_type": "execute_result"
    },
    {
     "data": {
      "text/plain": [
       "<people.People at 0x20d7efe5070>"
      ]
     },
     "execution_count": 27,
     "metadata": {},
     "output_type": "execute_result"
    },
    {
     "data": {
      "text/plain": [
       "<people.People at 0x20d00aedd30>"
      ]
     },
     "execution_count": 27,
     "metadata": {},
     "output_type": "execute_result"
    },
    {
     "data": {
      "text/plain": [
       "<people.People at 0x20d7f003ac0>"
      ]
     },
     "execution_count": 27,
     "metadata": {},
     "output_type": "execute_result"
    },
    {
     "data": {
      "text/plain": [
       "<people.People at 0x20d7f003cd0>"
      ]
     },
     "execution_count": 27,
     "metadata": {},
     "output_type": "execute_result"
    },
    {
     "data": {
      "text/plain": [
       "<people.People at 0x20d7efdb040>"
      ]
     },
     "execution_count": 27,
     "metadata": {},
     "output_type": "execute_result"
    },
    {
     "data": {
      "text/plain": [
       "<people.People at 0x20d7f003e20>"
      ]
     },
     "execution_count": 27,
     "metadata": {},
     "output_type": "execute_result"
    },
    {
     "data": {
      "text/plain": [
       "<people.People at 0x20d7efe50a0>"
      ]
     },
     "execution_count": 27,
     "metadata": {},
     "output_type": "execute_result"
    },
    {
     "data": {
      "text/plain": [
       "<people.People at 0x20d7f003d60>"
      ]
     },
     "execution_count": 27,
     "metadata": {},
     "output_type": "execute_result"
    },
    {
     "data": {
      "text/plain": [
       "<people.People at 0x20d7efdb430>"
      ]
     },
     "execution_count": 27,
     "metadata": {},
     "output_type": "execute_result"
    },
    {
     "data": {
      "text/plain": [
       "<people.People at 0x20d7efdb070>"
      ]
     },
     "execution_count": 27,
     "metadata": {},
     "output_type": "execute_result"
    },
    {
     "data": {
      "text/plain": [
       "<people.People at 0x20d00177dc0>"
      ]
     },
     "execution_count": 27,
     "metadata": {},
     "output_type": "execute_result"
    },
    {
     "data": {
      "text/plain": [
       "<people.People at 0x20d7efdbc70>"
      ]
     },
     "execution_count": 27,
     "metadata": {},
     "output_type": "execute_result"
    },
    {
     "data": {
      "text/plain": [
       "<people.People at 0x20d7efe53a0>"
      ]
     },
     "execution_count": 27,
     "metadata": {},
     "output_type": "execute_result"
    },
    {
     "data": {
      "text/plain": [
       "<people.People at 0x20d7f0039a0>"
      ]
     },
     "execution_count": 27,
     "metadata": {},
     "output_type": "execute_result"
    },
    {
     "data": {
      "text/plain": [
       "<people.People at 0x20d7f003490>"
      ]
     },
     "execution_count": 27,
     "metadata": {},
     "output_type": "execute_result"
    },
    {
     "data": {
      "text/plain": [
       "<people.People at 0x20d7f003a00>"
      ]
     },
     "execution_count": 27,
     "metadata": {},
     "output_type": "execute_result"
    },
    {
     "data": {
      "text/plain": [
       "<people.People at 0x20d7efe50d0>"
      ]
     },
     "execution_count": 27,
     "metadata": {},
     "output_type": "execute_result"
    },
    {
     "data": {
      "text/plain": [
       "<people.People at 0x20d7f003f70>"
      ]
     },
     "execution_count": 27,
     "metadata": {},
     "output_type": "execute_result"
    },
    {
     "data": {
      "text/plain": [
       "<people.People at 0x20d7efe5ee0>"
      ]
     },
     "execution_count": 27,
     "metadata": {},
     "output_type": "execute_result"
    },
    {
     "data": {
      "text/plain": [
       "<people.People at 0x20d7f003bb0>"
      ]
     },
     "execution_count": 27,
     "metadata": {},
     "output_type": "execute_result"
    },
    {
     "data": {
      "text/plain": [
       "<people.People at 0x20d7efe5730>"
      ]
     },
     "execution_count": 27,
     "metadata": {},
     "output_type": "execute_result"
    },
    {
     "data": {
      "text/plain": [
       "<people.People at 0x20d7efdbfa0>"
      ]
     },
     "execution_count": 27,
     "metadata": {},
     "output_type": "execute_result"
    },
    {
     "data": {
      "text/plain": [
       "<people.People at 0x20d7efe5040>"
      ]
     },
     "execution_count": 27,
     "metadata": {},
     "output_type": "execute_result"
    },
    {
     "data": {
      "text/plain": [
       "<people.People at 0x20d7f003d00>"
      ]
     },
     "execution_count": 27,
     "metadata": {},
     "output_type": "execute_result"
    },
    {
     "data": {
      "text/plain": [
       "<people.People at 0x20d00177f70>"
      ]
     },
     "execution_count": 27,
     "metadata": {},
     "output_type": "execute_result"
    },
    {
     "data": {
      "text/plain": [
       "<people.People at 0x20d7f003250>"
      ]
     },
     "execution_count": 27,
     "metadata": {},
     "output_type": "execute_result"
    },
    {
     "data": {
      "text/plain": [
       "<people.People at 0x20d7f0037c0>"
      ]
     },
     "execution_count": 27,
     "metadata": {},
     "output_type": "execute_result"
    },
    {
     "data": {
      "text/plain": [
       "<people.People at 0x20d7f003610>"
      ]
     },
     "execution_count": 27,
     "metadata": {},
     "output_type": "execute_result"
    },
    {
     "data": {
      "text/plain": [
       "<people.People at 0x20d7efe5400>"
      ]
     },
     "execution_count": 27,
     "metadata": {},
     "output_type": "execute_result"
    },
    {
     "data": {
      "text/plain": [
       "<people.People at 0x20d7f003e50>"
      ]
     },
     "execution_count": 27,
     "metadata": {},
     "output_type": "execute_result"
    },
    {
     "data": {
      "text/plain": [
       "<people.People at 0x20d7efdbe20>"
      ]
     },
     "execution_count": 27,
     "metadata": {},
     "output_type": "execute_result"
    },
    {
     "data": {
      "text/plain": [
       "<people.People at 0x20d7efdbdc0>"
      ]
     },
     "execution_count": 27,
     "metadata": {},
     "output_type": "execute_result"
    },
    {
     "data": {
      "text/plain": [
       "<people.People at 0x20d7f003070>"
      ]
     },
     "execution_count": 27,
     "metadata": {},
     "output_type": "execute_result"
    },
    {
     "data": {
      "text/plain": [
       "<people.People at 0x20d7f003640>"
      ]
     },
     "execution_count": 27,
     "metadata": {},
     "output_type": "execute_result"
    },
    {
     "data": {
      "text/plain": [
       "<people.People at 0x20d7efe5490>"
      ]
     },
     "execution_count": 27,
     "metadata": {},
     "output_type": "execute_result"
    },
    {
     "data": {
      "text/plain": [
       "<people.People at 0x20d567bc310>"
      ]
     },
     "execution_count": 27,
     "metadata": {},
     "output_type": "execute_result"
    },
    {
     "data": {
      "text/plain": [
       "<people.People at 0x20d7efe51f0>"
      ]
     },
     "execution_count": 27,
     "metadata": {},
     "output_type": "execute_result"
    },
    {
     "name": "stdout",
     "output_type": "stream",
     "text": [
      "Time when 50% of people moved out: 18.765 seconds\n"
     ]
    },
    {
     "data": {
      "text/plain": [
       "<people.People at 0x20d7efdb5e0>"
      ]
     },
     "execution_count": 27,
     "metadata": {},
     "output_type": "execute_result"
    },
    {
     "data": {
      "text/plain": [
       "<people.People at 0x20d00aedd60>"
      ]
     },
     "execution_count": 27,
     "metadata": {},
     "output_type": "execute_result"
    },
    {
     "data": {
      "text/plain": [
       "<people.People at 0x20d7f003c70>"
      ]
     },
     "execution_count": 27,
     "metadata": {},
     "output_type": "execute_result"
    },
    {
     "data": {
      "text/plain": [
       "<people.People at 0x20d7efe5220>"
      ]
     },
     "execution_count": 27,
     "metadata": {},
     "output_type": "execute_result"
    },
    {
     "data": {
      "text/plain": [
       "<people.People at 0x20d7efdbd30>"
      ]
     },
     "execution_count": 27,
     "metadata": {},
     "output_type": "execute_result"
    },
    {
     "data": {
      "text/plain": [
       "<people.People at 0x20d7f003be0>"
      ]
     },
     "execution_count": 27,
     "metadata": {},
     "output_type": "execute_result"
    },
    {
     "data": {
      "text/plain": [
       "<people.People at 0x20d7efe5190>"
      ]
     },
     "execution_count": 27,
     "metadata": {},
     "output_type": "execute_result"
    },
    {
     "data": {
      "text/plain": [
       "<people.People at 0x20d7efe5670>"
      ]
     },
     "execution_count": 27,
     "metadata": {},
     "output_type": "execute_result"
    },
    {
     "data": {
      "text/plain": [
       "<people.People at 0x20d7f003220>"
      ]
     },
     "execution_count": 27,
     "metadata": {},
     "output_type": "execute_result"
    },
    {
     "data": {
      "text/plain": [
       "<people.People at 0x20d7f003d30>"
      ]
     },
     "execution_count": 27,
     "metadata": {},
     "output_type": "execute_result"
    },
    {
     "data": {
      "text/plain": [
       "<people.People at 0x20d7eef7c40>"
      ]
     },
     "execution_count": 27,
     "metadata": {},
     "output_type": "execute_result"
    },
    {
     "data": {
      "text/plain": [
       "<people.People at 0x20d7efdbf40>"
      ]
     },
     "execution_count": 27,
     "metadata": {},
     "output_type": "execute_result"
    },
    {
     "data": {
      "text/plain": [
       "<people.People at 0x20d7efe5f10>"
      ]
     },
     "execution_count": 27,
     "metadata": {},
     "output_type": "execute_result"
    },
    {
     "data": {
      "text/plain": [
       "<people.People at 0x20d7f0030d0>"
      ]
     },
     "execution_count": 27,
     "metadata": {},
     "output_type": "execute_result"
    },
    {
     "data": {
      "text/plain": [
       "<people.People at 0x20d00249d60>"
      ]
     },
     "execution_count": 27,
     "metadata": {},
     "output_type": "execute_result"
    },
    {
     "data": {
      "text/plain": [
       "<people.People at 0x20d7f0037f0>"
      ]
     },
     "execution_count": 27,
     "metadata": {},
     "output_type": "execute_result"
    },
    {
     "data": {
      "text/plain": [
       "<people.People at 0x20d7efdbf70>"
      ]
     },
     "execution_count": 27,
     "metadata": {},
     "output_type": "execute_result"
    },
    {
     "data": {
      "text/plain": [
       "<people.People at 0x20d7f003760>"
      ]
     },
     "execution_count": 27,
     "metadata": {},
     "output_type": "execute_result"
    },
    {
     "data": {
      "text/plain": [
       "<people.People at 0x20d00aedeb0>"
      ]
     },
     "execution_count": 27,
     "metadata": {},
     "output_type": "execute_result"
    },
    {
     "data": {
      "text/plain": [
       "<people.People at 0x20d001775e0>"
      ]
     },
     "execution_count": 27,
     "metadata": {},
     "output_type": "execute_result"
    },
    {
     "data": {
      "text/plain": [
       "<people.People at 0x20d7f0034c0>"
      ]
     },
     "execution_count": 27,
     "metadata": {},
     "output_type": "execute_result"
    },
    {
     "data": {
      "text/plain": [
       "<people.People at 0x20d7f003370>"
      ]
     },
     "execution_count": 27,
     "metadata": {},
     "output_type": "execute_result"
    },
    {
     "data": {
      "text/plain": [
       "<people.People at 0x20d001a4850>"
      ]
     },
     "execution_count": 27,
     "metadata": {},
     "output_type": "execute_result"
    },
    {
     "data": {
      "text/plain": [
       "<people.People at 0x20d00177f40>"
      ]
     },
     "execution_count": 27,
     "metadata": {},
     "output_type": "execute_result"
    },
    {
     "data": {
      "text/plain": [
       "<people.People at 0x20d7efdbc40>"
      ]
     },
     "execution_count": 27,
     "metadata": {},
     "output_type": "execute_result"
    },
    {
     "data": {
      "text/plain": [
       "<people.People at 0x20d7efdbc10>"
      ]
     },
     "execution_count": 27,
     "metadata": {},
     "output_type": "execute_result"
    },
    {
     "data": {
      "text/plain": [
       "<people.People at 0x20d7f003970>"
      ]
     },
     "execution_count": 27,
     "metadata": {},
     "output_type": "execute_result"
    },
    {
     "data": {
      "text/plain": [
       "<people.People at 0x20d001a4c10>"
      ]
     },
     "execution_count": 27,
     "metadata": {},
     "output_type": "execute_result"
    },
    {
     "data": {
      "text/plain": [
       "<people.People at 0x20d7efe5160>"
      ]
     },
     "execution_count": 27,
     "metadata": {},
     "output_type": "execute_result"
    },
    {
     "data": {
      "text/plain": [
       "<people.People at 0x20d7f003b50>"
      ]
     },
     "execution_count": 27,
     "metadata": {},
     "output_type": "execute_result"
    },
    {
     "data": {
      "text/plain": [
       "<people.People at 0x20d7efdbd90>"
      ]
     },
     "execution_count": 27,
     "metadata": {},
     "output_type": "execute_result"
    },
    {
     "data": {
      "text/plain": [
       "<people.People at 0x20d7f003fa0>"
      ]
     },
     "execution_count": 27,
     "metadata": {},
     "output_type": "execute_result"
    },
    {
     "data": {
      "text/plain": [
       "<people.People at 0x20d7efdb250>"
      ]
     },
     "execution_count": 27,
     "metadata": {},
     "output_type": "execute_result"
    },
    {
     "data": {
      "text/plain": [
       "<people.People at 0x20d7efdb850>"
      ]
     },
     "execution_count": 27,
     "metadata": {},
     "output_type": "execute_result"
    },
    {
     "data": {
      "text/plain": [
       "<people.People at 0x20d001778e0>"
      ]
     },
     "execution_count": 27,
     "metadata": {},
     "output_type": "execute_result"
    },
    {
     "data": {
      "text/plain": [
       "<people.People at 0x20d0032d0d0>"
      ]
     },
     "execution_count": 27,
     "metadata": {},
     "output_type": "execute_result"
    },
    {
     "data": {
      "text/plain": [
       "<people.People at 0x20d7efdba00>"
      ]
     },
     "execution_count": 27,
     "metadata": {},
     "output_type": "execute_result"
    },
    {
     "data": {
      "text/plain": [
       "<people.People at 0x20d7f0035b0>"
      ]
     },
     "execution_count": 27,
     "metadata": {},
     "output_type": "execute_result"
    },
    {
     "data": {
      "text/plain": [
       "<people.People at 0x20d001777f0>"
      ]
     },
     "execution_count": 27,
     "metadata": {},
     "output_type": "execute_result"
    },
    {
     "data": {
      "text/plain": [
       "<people.People at 0x20d7f003940>"
      ]
     },
     "execution_count": 27,
     "metadata": {},
     "output_type": "execute_result"
    },
    {
     "data": {
      "text/plain": [
       "<people.People at 0x20d7efe5910>"
      ]
     },
     "execution_count": 27,
     "metadata": {},
     "output_type": "execute_result"
    },
    {
     "data": {
      "text/plain": [
       "<people.People at 0x20d7efdb730>"
      ]
     },
     "execution_count": 27,
     "metadata": {},
     "output_type": "execute_result"
    },
    {
     "data": {
      "text/plain": [
       "<people.People at 0x20d7efdb670>"
      ]
     },
     "execution_count": 27,
     "metadata": {},
     "output_type": "execute_result"
    },
    {
     "data": {
      "text/plain": [
       "<people.People at 0x20d7efe5af0>"
      ]
     },
     "execution_count": 27,
     "metadata": {},
     "output_type": "execute_result"
    },
    {
     "data": {
      "text/plain": [
       "<people.People at 0x20d7efe52b0>"
      ]
     },
     "execution_count": 27,
     "metadata": {},
     "output_type": "execute_result"
    }
   ],
   "source": [
    "import time as real_time  # import real time\n",
    "\n",
    "# [(start_boundary), (end_boundary), (door), (start_obstacle1), (end_obstacle1), (start_obstacle2), (end_obstacle2)...]\n",
    "#barrier_set = [(0, 0), (27, 17), (26, 8), (22, 4), (23, 7), (22, 10), (23, 13)]\n",
    "barrier_set = [(0, 0), (27, 17), (26, 8), (23, 6), (24, 11)]\n",
    "#barrier_set = [(0, 0), (27, 17), (26, 8), (22, 8), (23, 9)]\n",
    "#barrier_set = [(0, 0), (27, 17), (26, 8)]\n",
    "# = [(0, 0), (27, 17), (26, 8), (22, 4), (23, 7)]\n",
    "# barrier_set = [(0, 0), (27, 17), (26, 8)]  # -> No obstacles\n",
    "\n",
    "delta_time = 0.005\n",
    "percent_threshold = 50  # the percentage of people being moved out\n",
    "initial_people_count = None\n",
    "recorded_time = False\n",
    "\n",
    "# Build GUI\n",
    "gui = GUI()\n",
    "gui.add_barrier(barrier_set)\n",
    "gui.update_gui()\n",
    "\n",
    "\n",
    "# Build PeopleList saving each people object\n",
    "people_list = PeopleList()\n",
    "# Build direction matrix\n",
    "people_list.direction_matrix(barrier_set)\n",
    "# Assign groups if don't want to use default group just comment this line\n",
    "#group_split = {4: 1, 3: 2, 2: 5}\n",
    "#people_list.assign_groups(group_split)\n",
    "time = 0\n",
    "\n",
    "# Initial each people\n",
    "for people in people_list.list:\n",
    "    gui.add_line(people, people_list.list, people.group_id)\n",
    "    gui.add_oval(people.loc[0] - people.r, people.loc[1] - people.r,\n",
    "                 people.loc[0] + people.r, people.loc[1] + people.r, people.id)\n",
    "gui.update_gui()\n",
    "\n",
    "initial_people_count = len(people_list.list)\n",
    "\n",
    "# Move\n",
    "start_time = real_time.time() \n",
    "\n",
    "while people_list.list:  # while there are people in the room\n",
    "    \n",
    "    i = 0\n",
    "    while i < len(people_list.list):\n",
    "        gui.del_line(people_list.list[i].group_id)\n",
    "        gui.del_oval(people_list.list[i].id)\n",
    "\n",
    "        if people_list.list[i].loc[0] > 1040:  # delete people if it goes out of room\n",
    "            people_list.list.pop(i)\n",
    "            continue\n",
    "        i += 1\n",
    "\n",
    "    # Check the percentage of people who have moved out\n",
    "    remaining_people_count = len(people_list.list)\n",
    "    moved_out_percentage = ((initial_people_count - remaining_people_count) / initial_people_count) * 100\n",
    "\n",
    "    if not recorded_time and moved_out_percentage >= percent_threshold:\n",
    "        print(f\"Time when {percent_threshold}% of people moved out: {round(time, 3)} seconds\") \n",
    "        recorded_time = True\n",
    "\n",
    "    people_list.move(barrier_set, delta_time=delta_time, A=2000, B=-0.08, threshold_ped=1.4, threshold_obs=120,\n",
    "                     threshold_group=2, q_A=1, q_R=1, beta1=4, beta2=2, beta3=2)  # ped movement\n",
    "    \n",
    "    \n",
    "\n",
    "    for people in people_list.list:  # update position\n",
    "        gui.add_oval(int(people.loc[0]) - people.r,\n",
    "                     int(people.loc[1]) - people.r, int(people.loc[0]) + people.r,\n",
    "                     int(people.loc[1]) + people.r, people.id)\n",
    "        gui.add_line(people, people_list.list, people.group_id)\n",
    "\n",
    "    #time = real_time.time() - start_time  # update time\n",
    "    time += delta_time \n",
    "    gui.update_time(str(round(time, 3)))\n",
    "    gui.update_gui()\n",
    "\n",
    "\n",
    "gui.start()\n"
   ]
  },
  {
   "cell_type": "code",
   "execution_count": 24,
   "metadata": {},
   "outputs": [
    {
     "data": {
      "text/plain": [
       "37.73500000000085"
      ]
     },
     "execution_count": 24,
     "metadata": {},
     "output_type": "execute_result"
    }
   ],
   "source": [
    "time \n"
   ]
  },
  {
   "cell_type": "markdown",
   "metadata": {},
   "source": [
    "##  define the function "
   ]
  },
  {
   "cell_type": "code",
   "execution_count": 25,
   "metadata": {},
   "outputs": [
    {
     "data": {
      "text/plain": [
       "'\\nlength is more meaning here, it can represent the length of the panel , also the distance between the panel and the door\\n'"
      ]
     },
     "execution_count": 25,
     "metadata": {},
     "output_type": "execute_result"
    }
   ],
   "source": [
    "import time as real_time  # import real time\n",
    "\n",
    "# [(start_boundary), (end_boundary), (door), (start_obstacle1), (end_obstacle1), (start_obstacle2), (end_obstacle2)...]\n",
    "#barrier_set = [(0, 0), (27, 17), (26, 8), (22, 4), (23, 7), (22, 10), (23, 13)]\n",
    "barrier_set = [(0, 0), (27, 17), (26, 8)]\n",
    "\n",
    "'''\n",
    "length is more meaning here, it can represent the length of the panel , also the distance between the panel and the door\n",
    "'''\n",
    "\n",
    "#barrier_set = [(0, 0), (27, 17), (26, 8), (20, 4), (21, 13)]\n",
    "length=barrier_set[-1][1]-barrier_set[-2][1]\n",
    "sim_run=20\n",
    "\n",
    "def panel_run(barrier_set, length, sim_run=20):\n",
    "\n",
    "    time_list=[]\n",
    "    sim_count=0\n",
    "\n",
    "\n",
    "    while sim_count<=sim_run:\n",
    "\n",
    "        delta_time = 0.005\n",
    "        percent_threshold = 80  # the percentage of people being moved out\n",
    "        initial_people_count = None\n",
    "        recorded_time = False\n",
    "\n",
    "\n",
    "        # Build PeopleList saving each people object\n",
    "        people_list = PeopleList()\n",
    "        # Build direction matrix\n",
    "        people_list.direction_matrix(barrier_set)\n",
    "        # Assign groups\n",
    "        #group_split = {4: 1, 3: 2, 2: 5}\n",
    "        #people_list.assign_groups(group_split)\n",
    "        time = 0\n",
    "\n",
    "\n",
    "        initial_people_count = len(people_list.list)\n",
    "\n",
    "        # Move\n",
    "        start_time = real_time.time() \n",
    "\n",
    "        while people_list.list:\n",
    "            i = 0\n",
    "            while i < len(people_list.list):\n",
    "\n",
    "                if people_list.list[i].loc[0] > 1040:  # delete people if it goes out of room\n",
    "                    people_list.list.pop(i)\n",
    "                    continue\n",
    "                i += 1\n",
    "\n",
    "            # Check the percentage of people who have moved out\n",
    "            remaining_people_count = len(people_list.list)\n",
    "            moved_out_percentage = ((initial_people_count - remaining_people_count) / initial_people_count) * 100\n",
    "\n",
    "            if not recorded_time and moved_out_percentage >= percent_threshold:\n",
    "                #print(f\"Time when {percent_threshold}% of people moved out: {round(time, 3)} seconds\") \n",
    "                recorded_time = True\n",
    "                #time_list.append(time)\n",
    "\n",
    "\n",
    "            people_list.move(barrier_set, delta_time=delta_time, A=2000, B=-0.08, threshold_ped=1.4, threshold_obs=120,\n",
    "                            threshold_group=2, q_A=1, q_R=1, beta1=4, beta2=2, beta3=2)  # ped movement\n",
    "\n",
    "            #time = real_time.time() - start_time  # update time\n",
    "            time += delta_time\n",
    "            \n",
    "            if time>200:\n",
    "                time=200\n",
    "                break\n",
    "        \n",
    "        time_list.append(time) \n",
    "        sim_count+=1\n",
    "\n",
    "    mean_time = np.mean(time_list)\n",
    "    std_time = np.std(time_list,ddof=1)\n",
    "    n = len(time_list)\n",
    "    t_critical = stats.t.ppf(0.975, df=n-1)\n",
    "\n",
    "    margin_error = t_critical * (std_time / np.sqrt(n))\n",
    "    ci_lower = mean_time - margin_error\n",
    "    ci_upper = mean_time + margin_error\n",
    "\n",
    "    return length, mean_time, ci_lower, ci_upper \n"
   ]
  },
  {
   "cell_type": "code",
   "execution_count": 26,
   "metadata": {},
   "outputs": [
    {
     "data": {
      "text/plain": [
       "(-9, 32.5549999999982, 32.5549999999982, 32.5549999999982)"
      ]
     },
     "execution_count": 26,
     "metadata": {},
     "output_type": "execute_result"
    }
   ],
   "source": [
    "panel_run(barrier_set,length,sim_run=3)"
   ]
  },
  {
   "cell_type": "code",
   "execution_count": 73,
   "metadata": {},
   "outputs": [],
   "source": [
    "# for panel simulation by changing the length of the barrier； \n",
    "\n",
    "\n",
    "initial_y_for_first_barrier = 8  # 对应 (22, 8)\n",
    "initial_y_for_second_barrier = 9  # 对应 (23, 9)\n",
    "length_list=[]\n",
    "mean_time_list=[]\n",
    "ci_lower_list=[]\n",
    "ci_upper_list=[]\n",
    "\n",
    "# 计算起始和结束的偏移量\n",
    "for offset in range(0, min(initial_y_for_first_barrier - 3, 14 - initial_y_for_second_barrier) + 1):\n",
    "    new_y_for_first_barrier = initial_y_for_first_barrier - offset\n",
    "    new_y_for_second_barrier = initial_y_for_second_barrier + offset\n",
    "\n",
    "    # 确保 first_barrier 的 y 值不低于 3，second_barrier 的 y 值不高于 14\n",
    "    if new_y_for_first_barrier >= 3 and new_y_for_second_barrier <= 14:\n",
    "        # 更新 barrier_set 的复制版本以避免修改原始列表\n",
    "        new_barrier_set = barrier_set[:]\n",
    "        new_barrier_set[3] = (new_barrier_set[3][0], new_y_for_first_barrier)\n",
    "        new_barrier_set[4] = (new_barrier_set[4][0], new_y_for_second_barrier)\n",
    "\n",
    "        \n",
    "    \n",
    "    length=new_barrier_set[-1][1]-new_barrier_set[-2][1]\n",
    "    sim_run=20\n",
    "    sim_result=panel_run(barrier_set=new_barrier_set,length=length,sim_run=sim_run)\n",
    "    length_list.append(sim_result[0])\n",
    "    mean_time_list.append(sim_result[1])\n",
    "    ci_lower_list.append(sim_result[2])\n",
    "    ci_upper_list.append(sim_result[3])\n",
    "\n",
    "\n"
   ]
  },
  {
   "cell_type": "code",
   "execution_count": 74,
   "metadata": {},
   "outputs": [
    {
     "data": {
      "text/plain": [
       "[1, 3, 5, 7, 9, 11]"
      ]
     },
     "execution_count": 74,
     "metadata": {},
     "output_type": "execute_result"
    },
    {
     "data": {
      "text/plain": [
       "[3.1170966852278936,\n",
       " 3.2869020870753696,\n",
       " 3.417194332395281,\n",
       " 4.276221082324073,\n",
       " 4.995589608237857,\n",
       " 5.132670493352981]"
      ]
     },
     "execution_count": 74,
     "metadata": {},
     "output_type": "execute_result"
    },
    {
     "data": {
      "text/plain": [
       "[3.1096756388741458,\n",
       " 3.280625863767753,\n",
       " 3.4116428461238577,\n",
       " 4.028117940930055,\n",
       " 4.930167290851282,\n",
       " 5.064440528551856]"
      ]
     },
     "execution_count": 74,
     "metadata": {},
     "output_type": "execute_result"
    },
    {
     "data": {
      "text/plain": [
       "[3.1245177315816415,\n",
       " 3.293178310382986,\n",
       " 3.422745818666704,\n",
       " 4.524324223718092,\n",
       " 5.061011925624433,\n",
       " 5.200900458154106]"
      ]
     },
     "execution_count": 74,
     "metadata": {},
     "output_type": "execute_result"
    }
   ],
   "source": [
    "length_list\n",
    "mean_time_list\n",
    "ci_lower_list\n",
    "ci_upper_list"
   ]
  },
  {
   "cell_type": "code",
   "execution_count": 71,
   "metadata": {},
   "outputs": [
    {
     "data": {
      "text/html": [
       "<div>\n",
       "<style scoped>\n",
       "    .dataframe tbody tr th:only-of-type {\n",
       "        vertical-align: middle;\n",
       "    }\n",
       "\n",
       "    .dataframe tbody tr th {\n",
       "        vertical-align: top;\n",
       "    }\n",
       "\n",
       "    .dataframe thead th {\n",
       "        text-align: right;\n",
       "    }\n",
       "</style>\n",
       "<table border=\"1\" class=\"dataframe\">\n",
       "  <thead>\n",
       "    <tr style=\"text-align: right;\">\n",
       "      <th></th>\n",
       "      <th>length</th>\n",
       "      <th>mean_time</th>\n",
       "      <th>ci_lower</th>\n",
       "      <th>ci_upper</th>\n",
       "    </tr>\n",
       "  </thead>\n",
       "  <tbody>\n",
       "    <tr>\n",
       "      <th>0</th>\n",
       "      <td>1</td>\n",
       "      <td>3.147152</td>\n",
       "      <td>3.141362</td>\n",
       "      <td>3.152943</td>\n",
       "    </tr>\n",
       "    <tr>\n",
       "      <th>1</th>\n",
       "      <td>3</td>\n",
       "      <td>3.309356</td>\n",
       "      <td>3.302600</td>\n",
       "      <td>3.316113</td>\n",
       "    </tr>\n",
       "    <tr>\n",
       "      <th>2</th>\n",
       "      <td>5</td>\n",
       "      <td>3.458245</td>\n",
       "      <td>3.452247</td>\n",
       "      <td>3.464243</td>\n",
       "    </tr>\n",
       "    <tr>\n",
       "      <th>3</th>\n",
       "      <td>7</td>\n",
       "      <td>3.635273</td>\n",
       "      <td>3.630426</td>\n",
       "      <td>3.640119</td>\n",
       "    </tr>\n",
       "    <tr>\n",
       "      <th>4</th>\n",
       "      <td>9</td>\n",
       "      <td>3.681859</td>\n",
       "      <td>3.677928</td>\n",
       "      <td>3.685791</td>\n",
       "    </tr>\n",
       "    <tr>\n",
       "      <th>5</th>\n",
       "      <td>11</td>\n",
       "      <td>4.410139</td>\n",
       "      <td>4.025521</td>\n",
       "      <td>4.794758</td>\n",
       "    </tr>\n",
       "  </tbody>\n",
       "</table>\n",
       "</div>"
      ],
      "text/plain": [
       "   length  mean_time  ci_lower  ci_upper\n",
       "0       1   3.147152  3.141362  3.152943\n",
       "1       3   3.309356  3.302600  3.316113\n",
       "2       5   3.458245  3.452247  3.464243\n",
       "3       7   3.635273  3.630426  3.640119\n",
       "4       9   3.681859  3.677928  3.685791\n",
       "5      11   4.410139  4.025521  4.794758"
      ]
     },
     "execution_count": 71,
     "metadata": {},
     "output_type": "execute_result"
    }
   ],
   "source": [
    "singel_panel=pd.DataFrame({'length':length_list,'mean_time':mean_time_list,'ci_lower':ci_lower_list,'ci_upper':ci_upper_list})\n",
    "singel_panel\n"
   ]
  },
  {
   "cell_type": "code",
   "execution_count": 112,
   "metadata": {},
   "outputs": [
    {
     "data": {
      "text/plain": [
       "<Figure size 1000x500 with 0 Axes>"
      ]
     },
     "execution_count": 112,
     "metadata": {},
     "output_type": "execute_result"
    },
    {
     "data": {
      "text/plain": [
       "[<matplotlib.lines.Line2D at 0x13ebfb8c490>]"
      ]
     },
     "execution_count": 112,
     "metadata": {},
     "output_type": "execute_result"
    },
    {
     "data": {
      "text/plain": [
       "<ErrorbarContainer object of 3 artists>"
      ]
     },
     "execution_count": 112,
     "metadata": {},
     "output_type": "execute_result"
    },
    {
     "data": {
      "text/plain": [
       "Text(0.5, 1.0, 'Mean Time with Individual Confidence Intervals')"
      ]
     },
     "execution_count": 112,
     "metadata": {},
     "output_type": "execute_result"
    },
    {
     "data": {
      "text/plain": [
       "Text(0.5, 0, 'Panel Length')"
      ]
     },
     "execution_count": 112,
     "metadata": {},
     "output_type": "execute_result"
    },
    {
     "data": {
      "text/plain": [
       "Text(0, 0.5, 'Average Time')"
      ]
     },
     "execution_count": 112,
     "metadata": {},
     "output_type": "execute_result"
    },
    {
     "data": {
      "text/plain": [
       "<matplotlib.legend.Legend at 0x13ebfb286d0>"
      ]
     },
     "execution_count": 112,
     "metadata": {},
     "output_type": "execute_result"
    },
    {
     "data": {
      "image/png": "[encoded data removed]",
      "text/plain": [
       "<Figure size 1000x500 with 1 Axes>"
      ]
     },
     "metadata": {},
     "output_type": "display_data"
    }
   ],
   "source": [
    "error = [singel_panel['mean_time'] - singel_panel['ci_lower'], singel_panel['ci_upper'] - singel_panel['mean_time']]\n",
    "\n",
    "plt.figure(figsize=(10, 5))\n",
    "plt.plot(singel_panel['length'], singel_panel['mean_time'], 'o-', color='deepskyblue', linewidth=2, markersize=8, label='Mean Time')\n",
    "plt.errorbar(singel_panel['length'], singel_panel['mean_time'], yerr=error, fmt='o', capsize=5, elinewidth=2, markeredgewidth=2, ecolor='lightgray', alpha=0.5)\n",
    "\n",
    "plt.title('Mean Time with Individual Confidence Intervals')\n",
    "plt.xlabel('Panel Length')\n",
    "plt.ylabel('Average Time')\n",
    "plt.grid(True, linestyle='--', alpha=0.6)\n",
    "plt.legend()\n",
    "plt.show()"
   ]
  },
  {
   "cell_type": "code",
   "execution_count": null,
   "metadata": {},
   "outputs": [],
   "source": []
  },
  {
   "cell_type": "code",
   "execution_count": 64,
   "metadata": {},
   "outputs": [
    {
     "data": {
      "text/html": [
       "<div>\n",
       "<style scoped>\n",
       "    .dataframe tbody tr th:only-of-type {\n",
       "        vertical-align: middle;\n",
       "    }\n",
       "\n",
       "    .dataframe tbody tr th {\n",
       "        vertical-align: top;\n",
       "    }\n",
       "\n",
       "    .dataframe thead th {\n",
       "        text-align: right;\n",
       "    }\n",
       "</style>\n",
       "<table border=\"1\" class=\"dataframe\">\n",
       "  <thead>\n",
       "    <tr style=\"text-align: right;\">\n",
       "      <th></th>\n",
       "      <th>length</th>\n",
       "      <th>mean_time</th>\n",
       "      <th>ci_lower</th>\n",
       "      <th>ci_upper</th>\n",
       "    </tr>\n",
       "  </thead>\n",
       "  <tbody>\n",
       "    <tr>\n",
       "      <th>0</th>\n",
       "      <td>1</td>\n",
       "      <td>9.261761</td>\n",
       "      <td>9.237309</td>\n",
       "      <td>9.286212</td>\n",
       "    </tr>\n",
       "    <tr>\n",
       "      <th>1</th>\n",
       "      <td>3</td>\n",
       "      <td>9.357017</td>\n",
       "      <td>9.332053</td>\n",
       "      <td>9.381982</td>\n",
       "    </tr>\n",
       "    <tr>\n",
       "      <th>2</th>\n",
       "      <td>5</td>\n",
       "      <td>10.355095</td>\n",
       "      <td>10.338194</td>\n",
       "      <td>10.371995</td>\n",
       "    </tr>\n",
       "    <tr>\n",
       "      <th>3</th>\n",
       "      <td>7</td>\n",
       "      <td>10.548611</td>\n",
       "      <td>10.528781</td>\n",
       "      <td>10.568440</td>\n",
       "    </tr>\n",
       "    <tr>\n",
       "      <th>4</th>\n",
       "      <td>9</td>\n",
       "      <td>10.397870</td>\n",
       "      <td>10.381070</td>\n",
       "      <td>10.414670</td>\n",
       "    </tr>\n",
       "    <tr>\n",
       "      <th>5</th>\n",
       "      <td>11</td>\n",
       "      <td>10.793797</td>\n",
       "      <td>10.777840</td>\n",
       "      <td>10.809754</td>\n",
       "    </tr>\n",
       "  </tbody>\n",
       "</table>\n",
       "</div>"
      ],
      "text/plain": [
       "   length  mean_time   ci_lower   ci_upper\n",
       "0       1   9.261761   9.237309   9.286212\n",
       "1       3   9.357017   9.332053   9.381982\n",
       "2       5  10.355095  10.338194  10.371995\n",
       "3       7  10.548611  10.528781  10.568440\n",
       "4       9  10.397870  10.381070  10.414670\n",
       "5      11  10.793797  10.777840  10.809754"
      ]
     },
     "execution_count": 64,
     "metadata": {},
     "output_type": "execute_result"
    }
   ],
   "source": [
    "group_panel=pd.DataFrame({'length':length_list,'mean_time':mean_time_list,'ci_lower':ci_lower_list,'ci_upper':ci_upper_list})\n",
    "group_panel "
   ]
  },
  {
   "cell_type": "code",
   "execution_count": 24,
   "metadata": {},
   "outputs": [],
   "source": [
    "import time as real_time  # import real time\n",
    "\n",
    "# [(start_boundary), (end_boundary), (door), (start_obstacle1), (end_obstacle1), (start_obstacle2), (end_obstacle2)...]\n",
    "#barrier_set = [(0, 0), (27, 17), (26, 8), (22, 4), (23, 7), (22, 10), (23, 13)]\n",
    "\n",
    "barrier_set = [(0, 0), (27, 17), (26, 8), (22, 4), (23, 13)]\n",
    "length=barrier_set[-1][1]-barrier_set[-2][1]\n",
    "\n",
    "\n",
    "def panel_percent(barrier_set,percent_threshold=70):\n",
    "\n",
    "\n",
    "    delta_time = 0.005\n",
    "    percent_threshold = percent_threshold  # the percentage of people being moved out\n",
    "    initial_people_count = None\n",
    "    recorded_time = False\n",
    "\n",
    "\n",
    "    # Build PeopleList saving each people object\n",
    "    people_list = PeopleList()\n",
    "    # Build direction matrix\n",
    "    people_list.direction_matrix(barrier_set)\n",
    "    # Assign groups\n",
    "    group_split = {4: 1, 3: 2, 2: 5}\n",
    "    people_list.assign_groups(group_split)\n",
    "    time = 0\n",
    "\n",
    "\n",
    "    initial_people_count = len(people_list.list)\n",
    "\n",
    "    # Move\n",
    "    start_time = real_time.time() \n",
    "\n",
    "    while people_list.list:\n",
    "        i = 0\n",
    "        while i < len(people_list.list):\n",
    "\n",
    "            if people_list.list[i].loc[0] > 1040:  # delete people if it goes out of room\n",
    "                people_list.list.pop(i)\n",
    "                continue\n",
    "            i += 1\n",
    "\n",
    "        # Check the percentage of people who have moved out\n",
    "        remaining_people_count = len(people_list.list)\n",
    "        moved_out_percentage = ((initial_people_count - remaining_people_count) / initial_people_count) * 100\n",
    "\n",
    "        if not recorded_time and moved_out_percentage >= percent_threshold:\n",
    "            print(f\"Time when {percent_threshold}% of people moved out: {round(time, 3)} seconds\") \n",
    "            recorded_time = True\n",
    "            return time \n",
    "\n",
    "        people_list.move(barrier_set, delta_time=delta_time, A=2000, B=-0.08, threshold_ped=1.4, threshold_obs=120,\n",
    "                        threshold_group=2, q_A=1, q_R=1, beta1=4, beta2=2, beta3=2)  # ped movement\n",
    "\n",
    "        time = real_time.time() - start_time  # update time\n",
    "    \n",
    "    \n",
    "    \n",
    "\n",
    "\n"
   ]
  },
  {
   "cell_type": "code",
   "execution_count": 26,
   "metadata": {},
   "outputs": [
    {
     "name": "stdout",
     "output_type": "stream",
     "text": [
      "Time when 30% of people moved out: 6.957 seconds\n"
     ]
    },
    {
     "data": {
      "text/plain": [
       "6.957154750823975"
      ]
     },
     "execution_count": 26,
     "metadata": {},
     "output_type": "execute_result"
    }
   ],
   "source": [
    "panel_percent(barrier_set,percent_threshold=30) "
   ]
  },
  {
   "cell_type": "code",
   "execution_count": null,
   "metadata": {},
   "outputs": [],
   "source": []
  },
  {
   "cell_type": "code",
   "execution_count": null,
   "metadata": {},
   "outputs": [],
   "source": []
  },
  {
   "cell_type": "markdown",
   "metadata": {},
   "source": [
    "####  change the distance between door and obstacle (especially for panel)"
   ]
  },
  {
   "cell_type": "code",
   "execution_count": 104,
   "metadata": {},
   "outputs": [],
   "source": [
    "#barrier_set = [(0, 0), (27, 17), (26, 8), (22, 4), (23, 13)]\n",
    "# based on the length of the panel is 7\n",
    "\n",
    "dispan_length_list=[]\n",
    "dispan_mean_time_list=[]\n",
    "dispan_ci_lower_list=[]\n",
    "dispan_ci_upper_list=[]\n",
    "\n",
    "steps = 12  \n",
    "\n",
    "# 当前障碍物的索引，假设你知道 (22, 4) 是 barrier_set[3]，(23, 13) 是 barrier_set[4]\n",
    "index_first_barrier = 3\n",
    "index_second_barrier = 4\n",
    "\n",
    "\n",
    "for step in range(0, steps + 1):\n",
    "    \n",
    "    new_x_first = barrier_set[index_first_barrier][0] - step\n",
    "    new_x_second = barrier_set[index_second_barrier][0] - step\n",
    "    distance=26-new_x_first\n",
    "   \n",
    "    new_barrier_set = barrier_set[:]  \n",
    "    new_barrier_set[index_first_barrier] = (new_x_first, new_barrier_set[index_first_barrier][1])\n",
    "    new_barrier_set[index_second_barrier] = (new_x_second, new_barrier_set[index_second_barrier][1])\n",
    "\n",
    "    # 打印每步的结果\n",
    "    #print(f\"Step {step}: {distance}\") \n",
    "    #print(f\"Step {step}: {new_barrier_set}\")\n",
    "\n",
    "    sim_run=20\n",
    "    sim_result=panel_run(barrier_set=new_barrier_set,length=distance,sim_run=sim_run)\n",
    "    dispan_length_list.append(sim_result[0])\n",
    "    dispan_mean_time_list.append(sim_result[1])\n",
    "    dispan_ci_lower_list.append(sim_result[2])\n",
    "    dispan_ci_upper_list.append(sim_result[3])\n",
    "    \n",
    "\n"
   ]
  },
  {
   "cell_type": "code",
   "execution_count": 109,
   "metadata": {},
   "outputs": [],
   "source": [
    "dispan_df=pd.DataFrame({'distance':dispan_length_list,'mean_time':dispan_mean_time_list,'ci_lower':dispan_ci_lower_list,'ci_upper':dispan_ci_upper_list})"
   ]
  },
  {
   "cell_type": "code",
   "execution_count": 111,
   "metadata": {},
   "outputs": [
    {
     "data": {
      "text/plain": [
       "<Figure size 1000x500 with 0 Axes>"
      ]
     },
     "execution_count": 111,
     "metadata": {},
     "output_type": "execute_result"
    },
    {
     "data": {
      "text/plain": [
       "<ErrorbarContainer object of 3 artists>"
      ]
     },
     "execution_count": 111,
     "metadata": {},
     "output_type": "execute_result"
    },
    {
     "data": {
      "text/plain": [
       "[<matplotlib.lines.Line2D at 0x13ebfb27070>]"
      ]
     },
     "execution_count": 111,
     "metadata": {},
     "output_type": "execute_result"
    },
    {
     "data": {
      "text/plain": [
       "Text(0.5, 1.0, 'Mean Time with Confidence Intervals by Distance')"
      ]
     },
     "execution_count": 111,
     "metadata": {},
     "output_type": "execute_result"
    },
    {
     "data": {
      "text/plain": [
       "Text(0.5, 0, 'Distance')"
      ]
     },
     "execution_count": 111,
     "metadata": {},
     "output_type": "execute_result"
    },
    {
     "data": {
      "text/plain": [
       "Text(0, 0.5, 'Mean Time')"
      ]
     },
     "execution_count": 111,
     "metadata": {},
     "output_type": "execute_result"
    },
    {
     "data": {
      "text/plain": [
       "<matplotlib.legend.Legend at 0x13ebfac0f70>"
      ]
     },
     "execution_count": 111,
     "metadata": {},
     "output_type": "execute_result"
    },
    {
     "data": {
      "image/png": "[encoded data removed]",
      "text/plain": [
       "<Figure size 1000x500 with 1 Axes>"
      ]
     },
     "metadata": {},
     "output_type": "display_data"
    }
   ],
   "source": [
    "error_lower = dispan_df['mean_time'] - dispan_df['ci_lower']\n",
    "error_upper = dispan_df['ci_upper'] - dispan_df['mean_time']\n",
    "errors = [error_lower, error_upper]\n",
    "plt.figure(figsize=(10, 5))\n",
    "plt.errorbar(dispan_df['distance'], dispan_df['mean_time'], yerr=errors, fmt='o', capsize=5, capthick=2, color='blue', label='Mean Time with CI')\n",
    "\n",
    "plt.plot(dispan_df['distance'], dispan_df['mean_time'], linestyle='-', marker='o', color='deepskyblue')\n",
    "\n",
    "plt.title('Mean Time with Confidence Intervals by Distance')\n",
    "plt.xlabel('Distance')\n",
    "plt.ylabel('Mean Time')\n",
    "plt.grid(True, linestyle='--', alpha=0.6)\n",
    "plt.legend()\n",
    "plt.show()"
   ]
  },
  {
   "cell_type": "code",
   "execution_count": null,
   "metadata": {},
   "outputs": [],
   "source": []
  },
  {
   "cell_type": "code",
   "execution_count": null,
   "metadata": {},
   "outputs": [],
   "source": []
  },
  {
   "cell_type": "code",
   "execution_count": null,
   "metadata": {},
   "outputs": [],
   "source": []
  },
  {
   "cell_type": "markdown",
   "metadata": {},
   "source": [
    "### About Pailar "
   ]
  },
  {
   "cell_type": "code",
   "execution_count": null,
   "metadata": {},
   "outputs": [],
   "source": [
    "\n"
   ]
  },
  {
   "cell_type": "code",
   "execution_count": null,
   "metadata": {},
   "outputs": [],
   "source": [
    "\n",
    "\n"
   ]
  }
 ],
 "metadata": {
  "kernelspec": {
   "display_name": "base",
   "language": "python",
   "name": "python3"
  },
  "language_info": {
   "codemirror_mode": {
    "name": "ipython",
    "version": 3
   },
   "file_extension": ".py",
   "mimetype": "text/x-python",
   "name": "python",
   "nbconvert_exporter": "python",
   "pygments_lexer": "ipython3",
   "version": "3.9.18"
  },
  "orig_nbformat": 4
 },
 "nbformat": 4,
 "nbformat_minor": 2
}
