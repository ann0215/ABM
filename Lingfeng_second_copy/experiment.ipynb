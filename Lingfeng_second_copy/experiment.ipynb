{
 "cells": [
  {
   "cell_type": "code",
   "execution_count": 1,
   "metadata": {},
   "outputs": [],
   "source": [
    "import importlib\n",
    "import gui\n",
    "import people\n",
    "import astar\n",
    "import main_functions\n",
    "importlib.reload(gui)\n",
    "importlib.reload(people)\n",
    "importlib.reload(astar)\n",
    "importlib.reload(main_functions)\n",
    "from gui import GUI\n",
    "from people import PeopleList\n",
    "from main_functions import group_num_calculator,one_simulation\n",
    "import matplotlib.pyplot as plt\n",
    "import numpy as np\n",
    "from scipy import stats\n",
    "import pandas as pd\n"
   ]
  },
  {
   "cell_type": "markdown",
   "metadata": {},
   "source": [
    "# Test Model"
   ]
  },
  {
   "cell_type": "code",
   "execution_count": 3,
   "metadata": {},
   "outputs": [
    {
     "name": "stdout",
     "output_type": "stream",
     "text": [
      "Time when 80% of people moved out: 26.3 seconds\n"
     ]
    }
   ],
   "source": [
    "# [(start_boundary), (end_boundary), (door), (start_obstacle1), (end_obstacle1), (start_obstacle2), (end_obstacle2)...]\n",
    "# Note the boader of room is of size 1, hence the real room is (1,1)->(26,16)\n",
    "#barrier_set = [(0, 0), (27, 17), (26, 8), (20, 4), (23, 7), (20, 10), (23, 13)]\n",
    "#barrier_set = [(0, 0), (27, 17), (26, 8), (22,6), (23, 11)]\n",
    "barrier_set = [(0, 0), (27, 17), (26, 8)]\n",
    "\n",
    "seed = 41\n",
    "delta_time = 0.005  # Timestrp\n",
    "percent_threshold = 80  # Checkpoint: the percentage of people being moved out\n",
    "\n",
    "initial_people_count = None\n",
    "recorded_time = False\n",
    "\n",
    "# Build GUI\n",
    "gui = GUI()\n",
    "gui.add_barrier(barrier_set)\n",
    "gui.update_gui()\n",
    "\n",
    "# Build PeopleList saving each people object\n",
    "people_list = PeopleList(seed)\n",
    "# Build direction matrix\n",
    "people_list.direction_matrix(barrier_set)\n",
    "# Assign groups\n",
    "r_1 = 0.6 # ratio of 1-ped group\n",
    "r_2 = 0.35 # ratio of 2-ped group\n",
    "r_3 = 0.05 # ratio of 3-ped group\n",
    "N = 15*9 # Total pedestrians\n",
    "(n_1,n_2,n_3) = group_num_calculator(N, r_1, r_2, r_3)\n",
    "group_split = {3: n_3, 2: n_2}\n",
    "people_list.assign_groups(group_split,seed)\n",
    "\n",
    "\n",
    "time = 0\n",
    "\n",
    "# Initial each people\n",
    "for people in people_list.list:\n",
    "    gui.add_line(people, people_list.list, people.group_id)\n",
    "    gui.add_oval(people.loc[0] - people.r, people.loc[1] - people.r,\n",
    "                 people.loc[0] + people.r, people.loc[1] + people.r, people.id)\n",
    "gui.update_gui()\n",
    "\n",
    "initial_people_count = len(people_list.list)\n",
    "\n",
    "# Move\n",
    "# start_time = real_time.time() \n",
    "\n",
    "while people_list.list:\n",
    "    i = 0\n",
    "    while i < len(people_list.list):\n",
    "        gui.del_line(people_list.list[i].group_id)\n",
    "        gui.del_oval(people_list.list[i].id)\n",
    "\n",
    "        if people_list.list[i].loc[0] > 1040 and people_list.list[i].loc[1] >300 and people_list.list[i].loc[1] <380:  # delete people if it goes out of room\n",
    "            people_list.list.pop(i)\n",
    "            continue\n",
    "        i += 1\n",
    "\n",
    "    # Check the percentage of people who have moved out\n",
    "    remaining_people_count = len(people_list.list)\n",
    "    moved_out_percentage = ((initial_people_count - remaining_people_count) / initial_people_count) * 100\n",
    "\n",
    "    if not recorded_time and moved_out_percentage >= percent_threshold:\n",
    "        print(f\"Time when {percent_threshold}% of people moved out: {round(time, 3)} seconds\") \n",
    "        recorded_time = True\n",
    "\n",
    "    people_list.move(barrier_set, delta_time=delta_time,  A_p=2000, A_o=5000, B=-0.08, threshold_ped=1.2, threshold_obs=120,\n",
    "                     threshold_group=2,q_A=1, beta1=0.4, beta2=0.2)  # ped movement\n",
    "\n",
    "    for people in people_list.list:  # update position\n",
    "        gui.add_oval(int(people.loc[0]) - people.r,\n",
    "                     int(people.loc[1]) - people.r, int(people.loc[0]) + people.r,\n",
    "                     int(people.loc[1]) + people.r, people.id)\n",
    "        gui.add_line(people, people_list.list, people.group_id)\n",
    "\n",
    "    # time = real_time.time() - start_time  # update time\n",
    "    time += delta_time\n",
    "    gui.update_time(str(round(time, 3)))\n",
    "    gui.update_gui()\n",
    "\n",
    "gui.start()\n"
   ]
  },
  {
   "cell_type": "code",
   "execution_count": 1,
   "metadata": {},
   "outputs": [
    {
     "ename": "NameError",
     "evalue": "name 'one_simulation' is not defined",
     "output_type": "error",
     "traceback": [
      "\u001b[1;31m---------------------------------------------------------------------------\u001b[0m",
      "\u001b[1;31mNameError\u001b[0m                                 Traceback (most recent call last)",
      "Cell \u001b[1;32mIn[1], line 14\u001b[0m\n\u001b[0;32m     12\u001b[0m beta1\u001b[38;5;241m=\u001b[39m\u001b[38;5;241m0.4\u001b[39m\n\u001b[0;32m     13\u001b[0m beta2\u001b[38;5;241m=\u001b[39m\u001b[38;5;241m0.2\u001b[39m\n\u001b[1;32m---> 14\u001b[0m time \u001b[38;5;241m=\u001b[39m \u001b[43mone_simulation\u001b[49m(barrier_set, percent_threshold,\n\u001b[0;32m     15\u001b[0m                    r_1, r_2, r_3, A_p, A_o, B, beta1, beta2,\n\u001b[0;32m     16\u001b[0m                    N, delta_time, seed, gui_display\u001b[38;5;241m=\u001b[39m\u001b[38;5;28;01mTrue\u001b[39;00m)  \n",
      "\u001b[1;31mNameError\u001b[0m: name 'one_simulation' is not defined"
     ]
    }
   ],
   "source": [
    "r_1 = 0.6 # ratio of 1-ped group\n",
    "r_2 = 0.35 # ratio of 2-ped group\n",
    "r_3 = 0.05 # ratio of 3-ped group\n",
    "N = 15*9 # Total pedestrians\n",
    "barrier_set = [(0, 0), (27, 17), (26, 8), (20, 4), (23, 7), (20, 10), (23, 13)]\n",
    "delta_time = 0.005\n",
    "seed = 41\n",
    "percent_threshold = 80\n",
    "A_p=2000\n",
    "A_o=5000\n",
    "B=-0.08\n",
    "beta1=0.4\n",
    "beta2=0.2\n",
    "time = one_simulation(barrier_set, percent_threshold,\n",
    "                   r_1, r_2, r_3, A_p, A_o, B, beta1, beta2,\n",
    "                   N, delta_time, seed, gui_display=True)  \n"
   ]
  },
  {
   "cell_type": "code",
   "execution_count": 14,
   "metadata": {},
   "outputs": [
    {
     "name": "stdout",
     "output_type": "stream",
     "text": [
      "Time when 100% of people moved out: 57.735 seconds\n"
     ]
    }
   ],
   "source": [
    "print(f\"Time when 100% of people moved out: {time:.3f} seconds\")"
   ]
  },
  {
   "cell_type": "code",
   "execution_count": 17,
   "metadata": {},
   "outputs": [
    {
     "name": "stdout",
     "output_type": "stream",
     "text": [
      "Time when 80% of people moved out: 31.54 seconds\n"
     ]
    }
   ],
   "source": [
    "# [(start_boundary), (end_boundary), (door), (start_obstacle1), (end_obstacle1), (start_obstacle2), (end_obstacle2)...]\n",
    "# Note the boader of room is of size 1, hence the real room is (1,1)->(26,16)\n",
    "barrier_set = [(0, 0), (27, 17), (26, 8), (22,6), (23, 11)]\n",
    "\n",
    "seed = 60\n",
    "delta_time = 0.005  # Timestrp\n",
    "percent_threshold = 80  # Checkpoint: the percentage of people being moved out\n",
    "\n",
    "initial_people_count = None\n",
    "recorded_time = False\n",
    "\n",
    "# Build GUI\n",
    "gui = GUI()\n",
    "gui.add_barrier(barrier_set)\n",
    "gui.update_gui()\n",
    "\n",
    "# Build PeopleList saving each people object\n",
    "people_list = PeopleList(seed)\n",
    "# Build direction matrix\n",
    "people_list.direction_matrix(barrier_set)\n",
    "# Assign groups\n",
    "r_1 = 0.6 # ratio of 1-ped group\n",
    "r_2 = 0.35 # ratio of 2-ped group\n",
    "r_3 = 0.05 # ratio of 3-ped group\n",
    "N = 15*9 # Total pedestrians\n",
    "(n_1,n_2,n_3) = group_num_calculator(N, r_1, r_2, r_3)\n",
    "group_split = {3: n_3, 2: n_2}\n",
    "people_list.assign_groups(group_split,seed)\n",
    "\n",
    "\n",
    "time = 0\n",
    "\n",
    "# Initial each people\n",
    "for people in people_list.list:\n",
    "    gui.add_line(people, people_list.list, people.group_id)\n",
    "    gui.add_oval(people.loc[0] - people.r, people.loc[1] - people.r,\n",
    "                 people.loc[0] + people.r, people.loc[1] + people.r, people.id)\n",
    "gui.update_gui()\n",
    "\n",
    "initial_people_count = len(people_list.list)\n",
    "\n",
    "# Move\n",
    "# start_time = real_time.time() \n",
    "\n",
    "while people_list.list:\n",
    "    i = 0\n",
    "    while i < len(people_list.list):\n",
    "        gui.del_line(people_list.list[i].group_id)\n",
    "        gui.del_oval(people_list.list[i].id)\n",
    "\n",
    "        if people_list.list[i].loc[0] > 1040 and people_list.list[i].loc[1] >300 and people_list.list[i].loc[1] <380:  # delete people if it goes out of room\n",
    "            people_list.list.pop(i)\n",
    "            continue\n",
    "        i += 1\n",
    "\n",
    "    # Check the percentage of people who have moved out\n",
    "    remaining_people_count = len(people_list.list)\n",
    "    moved_out_percentage = ((initial_people_count - remaining_people_count) / initial_people_count) * 100\n",
    "\n",
    "    if not recorded_time and moved_out_percentage >= percent_threshold:\n",
    "        print(f\"Time when {percent_threshold}% of people moved out: {round(time, 3)} seconds\") \n",
    "        recorded_time = True\n",
    "        \n",
    "\n",
    "    people_list.move(barrier_set, delta_time=delta_time,  A_p=2000, A_o=2000, B=-0.08, threshold_ped=1.2, threshold_obs=120,\n",
    "                     threshold_group=2,q_A=1, beta1=0.5, beta2=3)  # ped movement\n",
    "\n",
    "    for people in people_list.list:  # update position\n",
    "        gui.add_oval(int(people.loc[0]) - people.r,\n",
    "                     int(people.loc[1]) - people.r, int(people.loc[0]) + people.r,\n",
    "                     int(people.loc[1]) + people.r, people.id)\n",
    "        gui.add_line(people, people_list.list, people.group_id)\n",
    "\n",
    "    # time = real_time.time() - start_time  # update time\n",
    "    time += delta_time\n",
    "    gui.update_time(str(round(time, 3)))\n",
    "    gui.update_gui()\n",
    "\n",
    "gui.start()\n"
   ]
  },
  {
   "cell_type": "code",
   "execution_count": 18,
   "metadata": {},
   "outputs": [
    {
     "data": {
      "text/plain": [
       "61.26500000001289"
      ]
     },
     "execution_count": 18,
     "metadata": {},
     "output_type": "execute_result"
    }
   ],
   "source": [
    "time "
   ]
  },
  {
   "cell_type": "code",
   "execution_count": 4,
   "metadata": {},
   "outputs": [
    {
     "data": {
      "text/plain": [
       "array([1. , 1.5, 2. , 2.5, 3. , 3.5])"
      ]
     },
     "execution_count": 4,
     "metadata": {},
     "output_type": "execute_result"
    }
   ],
   "source": [
    "np.linspace(1,3.5,6)\n"
   ]
  },
  {
   "cell_type": "code",
   "execution_count": 6,
   "metadata": {},
   "outputs": [
    {
     "data": {
      "image/png": "[encoded data removed]",
      "text/plain": [
       "<Figure size 640x480 with 1 Axes>"
      ]
     },
     "metadata": {},
     "output_type": "display_data"
    }
   ],
   "source": [
    "import numpy as np\n",
    "import matplotlib.pyplot as plt\n",
    "from matplotlib.animation import FuncAnimation\n",
    "\n",
    "# 函数: 初始化数据\n",
    "def init_data():\n",
    "    data = np.zeros((10, 10))  # 创建一个10x10的矩阵，初始值为0\n",
    "    return data\n",
    "\n",
    "# 函数: 更新数据，这里我们简单模拟数据更新\n",
    "def update_data(data):\n",
    "    new_data = data + np.random.randn(10, 10)  # 给数据添加一些随机噪声\n",
    "    return new_data\n",
    "\n",
    "# 动画更新函数\n",
    "def update(frame_num, img, data):\n",
    "    new_data = update_data(data)  # 更新数据\n",
    "    img.set_data(new_data)  # 设置新数据到图像\n",
    "    data[:] = new_data  # 更新旧数据引用\n",
    "    return img,\n",
    "\n",
    "# 主函数设置\n",
    "def main():\n",
    "    # 初始化数据\n",
    "    data = init_data()\n",
    "\n",
    "    # 创建图表和轴\n",
    "    fig, ax = plt.subplots()\n",
    "    img = ax.imshow(data, cmap='hot', interpolation='nearest')\n",
    "\n",
    "    # 创建动画\n",
    "    ani = FuncAnimation(fig, update, fargs=(img, data), frames=100, interval=50, blit=True)\n",
    "\n",
    "    # 显示图表\n",
    "    plt.show()\n",
    "\n",
    "# 调用主函数\n",
    "if __name__ == \"__main__\":\n",
    "    main()\n",
    "\n",
    "\n",
    "\n"
   ]
  },
  {
   "cell_type": "code",
   "execution_count": 7,
   "metadata": {},
   "outputs": [
    {
     "data": {
      "text/plain": [
       "array([1000., 1250., 1500., 1750., 2000.])"
      ]
     },
     "execution_count": 7,
     "metadata": {},
     "output_type": "execute_result"
    }
   ],
   "source": [
    "beta_1_list = np.linspace(1000,2000,5)\n",
    "beta_1_list "
   ]
  },
  {
   "cell_type": "markdown",
   "metadata": {},
   "source": [
    "# Global Sensitive Analysis"
   ]
  },
  {
   "cell_type": "code",
   "execution_count": null,
   "metadata": {},
   "outputs": [],
   "source": []
  },
  {
   "cell_type": "markdown",
   "metadata": {},
   "source": [
    "# Local Sensitive Analysis"
   ]
  },
  {
   "cell_type": "code",
   "execution_count": null,
   "metadata": {},
   "outputs": [],
   "source": []
  },
  {
   "cell_type": "markdown",
   "metadata": {},
   "source": [
    "# Experiment"
   ]
  },
  {
   "cell_type": "code",
   "execution_count": 2,
   "metadata": {},
   "outputs": [
    {
     "name": "stdout",
     "output_type": "stream",
     "text": [
      "Time when 80% of people moved out: 41.79 seconds\n"
     ]
    }
   ],
   "source": [
    "r_1 = 0.6 # ratio of 1-ped group\n",
    "r_2 = 0.35 # ratio of 2-ped group\n",
    "r_3 = 0.05 # ratio of 3-ped group\n",
    "N = 15*9 # Total pedestrians\n",
    "barrier_set = [(0, 0), (27, 17), (26, 8), (20, 4), (23, 7), (20, 10), (23, 13)]\n",
    "delta_time = 0.005\n",
    "seed = 41\n",
    "percent_threshold = 80\n",
    "A_p=2000\n",
    "A_o=5000\n",
    "B=-0.08\n",
    "beta1=0.4\n",
    "beta2=0.2\n",
    "time = one_simulation(barrier_set, percent_threshold, \n",
    "                   r_1, r_2, r_3, A_p, A_o, B, beta1, beta2,\n",
    "                   N, delta_time, seed, gui_display=False)"
   ]
  },
  {
   "cell_type": "code",
   "execution_count": 3,
   "metadata": {},
   "outputs": [
    {
     "name": "stdout",
     "output_type": "stream",
     "text": [
      "Time when 100% of people moved out: 57.735 seconds\n"
     ]
    }
   ],
   "source": [
    "print(f\"Time when 100% of people moved out: {time:.3f} seconds\")"
   ]
  }
 ],
 "metadata": {
  "kernelspec": {
   "display_name": "base",
   "language": "python",
   "name": "python3"
  },
  "language_info": {
   "codemirror_mode": {
    "name": "ipython",
    "version": 3
   },
   "file_extension": ".py",
   "mimetype": "text/x-python",
   "name": "python",
   "nbconvert_exporter": "python",
   "pygments_lexer": "ipython3",
   "version": "3.9.18"
  },
  "orig_nbformat": 4
 },
 "nbformat": 4,
 "nbformat_minor": 2
}
