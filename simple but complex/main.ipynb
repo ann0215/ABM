{
 "cells": [
  {
   "cell_type": "code",
   "execution_count": 18,
   "metadata": {},
   "outputs": [],
   "source": [
    "import importlib\n",
    "import matplotlib.pyplot as plt\n",
    "import gui\n",
    "import forces\n",
    "importlib.reload(gui)\n",
    "importlib.reload(forces)\n",
    "from gui import Barrier, GUI\n",
    "from forces import People, PeopleList, Forces\n",
    "# from people import PeopleList"
   ]
  },
  {
   "cell_type": "code",
   "execution_count": 19,
   "metadata": {},
   "outputs": [
    {
     "ename": "IndexError",
     "evalue": "list index out of range",
     "output_type": "error",
     "traceback": [
      "\u001b[0;31m---------------------------------------------------------------------------\u001b[0m",
      "\u001b[0;31mIndexError\u001b[0m                                Traceback (most recent call last)",
      "\u001b[0;32m/var/folders/d6/3r9vzdns3x33pc8dtx6syqfw0000gn/T/ipykernel_10049/3924399522.py\u001b[0m in \u001b[0;36m<module>\u001b[0;34m\u001b[0m\n\u001b[1;32m     50\u001b[0m         \u001b[0mi\u001b[0m \u001b[0;34m+=\u001b[0m \u001b[0;36m1\u001b[0m\u001b[0;34m\u001b[0m\u001b[0;34m\u001b[0m\u001b[0m\n\u001b[1;32m     51\u001b[0m \u001b[0;34m\u001b[0m\u001b[0m\n\u001b[0;32m---> 52\u001b[0;31m         \u001b[0mforces\u001b[0m\u001b[0;34m.\u001b[0m\u001b[0mself_driven_force\u001b[0m\u001b[0;34m(\u001b[0m\u001b[0mpeople_list\u001b[0m\u001b[0;34m.\u001b[0m\u001b[0mped_list\u001b[0m\u001b[0;34m[\u001b[0m\u001b[0mi\u001b[0m\u001b[0;34m]\u001b[0m\u001b[0;34m,\u001b[0m \u001b[0mbarrier\u001b[0m\u001b[0;34m.\u001b[0m\u001b[0mbarrier_list\u001b[0m\u001b[0;34m,\u001b[0m \u001b[0mtau\u001b[0m\u001b[0;34m=\u001b[0m\u001b[0;36m0.5\u001b[0m\u001b[0;34m)\u001b[0m\u001b[0;34m\u001b[0m\u001b[0;34m\u001b[0m\u001b[0m\n\u001b[0m\u001b[1;32m     53\u001b[0m         \u001b[0mforces\u001b[0m\u001b[0;34m.\u001b[0m\u001b[0mped_repulsive_force\u001b[0m\u001b[0;34m(\u001b[0m\u001b[0mpeople_list\u001b[0m\u001b[0;34m.\u001b[0m\u001b[0mped_list\u001b[0m\u001b[0;34m[\u001b[0m\u001b[0mi\u001b[0m\u001b[0;34m]\u001b[0m\u001b[0;34m,\u001b[0m \u001b[0mpeople_list\u001b[0m\u001b[0;34m,\u001b[0m \u001b[0mA\u001b[0m\u001b[0;34m=\u001b[0m\u001b[0;36m2000\u001b[0m\u001b[0;34m,\u001b[0m \u001b[0mB\u001b[0m\u001b[0;34m=\u001b[0m\u001b[0;36m0.08\u001b[0m\u001b[0;34m,\u001b[0m \u001b[0mthreshold\u001b[0m\u001b[0;34m=\u001b[0m\u001b[0;36m1.4\u001b[0m\u001b[0;34m,\u001b[0m \u001b[0mk\u001b[0m\u001b[0;34m=\u001b[0m\u001b[0;36m819.62\u001b[0m\u001b[0;34m,\u001b[0m \u001b[0mkappa\u001b[0m \u001b[0;34m=\u001b[0m \u001b[0;36m510.49\u001b[0m\u001b[0;34m)\u001b[0m\u001b[0;34m\u001b[0m\u001b[0;34m\u001b[0m\u001b[0m\n\u001b[1;32m     54\u001b[0m         \u001b[0mforces\u001b[0m\u001b[0;34m.\u001b[0m\u001b[0mped_obstacle_force\u001b[0m\u001b[0;34m(\u001b[0m\u001b[0mpeople_list\u001b[0m\u001b[0;34m.\u001b[0m\u001b[0mped_list\u001b[0m\u001b[0;34m[\u001b[0m\u001b[0mi\u001b[0m\u001b[0;34m]\u001b[0m\u001b[0;34m,\u001b[0m \u001b[0mbarrier\u001b[0m\u001b[0;34m,\u001b[0m \u001b[0mA\u001b[0m\u001b[0;34m=\u001b[0m\u001b[0;36m2000\u001b[0m\u001b[0;34m,\u001b[0m \u001b[0mB\u001b[0m\u001b[0;34m=\u001b[0m\u001b[0;36m0.08\u001b[0m\u001b[0;34m,\u001b[0m \u001b[0mthreshold\u001b[0m\u001b[0;34m=\u001b[0m\u001b[0;36m1.4\u001b[0m\u001b[0;34m,\u001b[0m \u001b[0mk\u001b[0m\u001b[0;34m=\u001b[0m\u001b[0;36m819.62\u001b[0m\u001b[0;34m,\u001b[0m \u001b[0mkappa\u001b[0m \u001b[0;34m=\u001b[0m \u001b[0;36m510.49\u001b[0m\u001b[0;34m)\u001b[0m\u001b[0;34m\u001b[0m\u001b[0;34m\u001b[0m\u001b[0m\n",
      "\u001b[0;32m~/Social_Force_Model/src/forces.py\u001b[0m in \u001b[0;36mself_driven_force\u001b[0;34m(self, ped, barrier_list, tau)\u001b[0m\n\u001b[1;32m    120\u001b[0m     \u001b[0;32mdef\u001b[0m \u001b[0mself_driven_force\u001b[0m\u001b[0;34m(\u001b[0m\u001b[0mself\u001b[0m\u001b[0;34m,\u001b[0m \u001b[0mped\u001b[0m\u001b[0;34m,\u001b[0m \u001b[0mbarrier_list\u001b[0m\u001b[0;34m,\u001b[0m \u001b[0mtau\u001b[0m\u001b[0;34m=\u001b[0m\u001b[0;36m0.5\u001b[0m\u001b[0;34m)\u001b[0m\u001b[0;34m:\u001b[0m\u001b[0;34m\u001b[0m\u001b[0;34m\u001b[0m\u001b[0m\n\u001b[1;32m    121\u001b[0m         \u001b[0;34m\"\"\"ped is a People object\"\"\"\u001b[0m\u001b[0;34m\u001b[0m\u001b[0;34m\u001b[0m\u001b[0m\n\u001b[0;32m--> 122\u001b[0;31m         \u001b[0mnext_desired\u001b[0m \u001b[0;34m=\u001b[0m \u001b[0mAStar\u001b[0m\u001b[0;34m.\u001b[0m\u001b[0mnext_loc\u001b[0m\u001b[0;34m(\u001b[0m\u001b[0mped\u001b[0m\u001b[0;34m.\u001b[0m\u001b[0mloc\u001b[0m\u001b[0;34m[\u001b[0m\u001b[0;36m0\u001b[0m\u001b[0;34m]\u001b[0m\u001b[0;34m,\u001b[0m \u001b[0mped\u001b[0m\u001b[0;34m.\u001b[0m\u001b[0mloc\u001b[0m\u001b[0;34m[\u001b[0m\u001b[0;36m1\u001b[0m\u001b[0;34m]\u001b[0m\u001b[0;34m,\u001b[0m\u001b[0mbarrier_list\u001b[0m\u001b[0;34m)\u001b[0m \u001b[0;31m# Astar -> next desired location\u001b[0m\u001b[0;34m\u001b[0m\u001b[0;34m\u001b[0m\u001b[0m\n\u001b[0m\u001b[1;32m    123\u001b[0m         \u001b[0mself\u001b[0m\u001b[0;34m.\u001b[0m\u001b[0mself_force\u001b[0m \u001b[0;34m=\u001b[0m \u001b[0;34m(\u001b[0m\u001b[0mped\u001b[0m\u001b[0;34m.\u001b[0m\u001b[0mm\u001b[0m\u001b[0;34m/\u001b[0m\u001b[0mtau\u001b[0m\u001b[0;34m)\u001b[0m \u001b[0;34m*\u001b[0m \u001b[0;34m(\u001b[0m\u001b[0;34m(\u001b[0m\u001b[0mnext_desired\u001b[0m\u001b[0;34m-\u001b[0m\u001b[0mped\u001b[0m\u001b[0;34m.\u001b[0m\u001b[0mloc\u001b[0m\u001b[0;34m)\u001b[0m\u001b[0;34m*\u001b[0m\u001b[0mped\u001b[0m\u001b[0;34m.\u001b[0m\u001b[0md_v\u001b[0m \u001b[0;34m-\u001b[0m \u001b[0mped\u001b[0m\u001b[0;34m.\u001b[0m\u001b[0mv\u001b[0m\u001b[0;34m)\u001b[0m\u001b[0;34m\u001b[0m\u001b[0;34m\u001b[0m\u001b[0m\n\u001b[1;32m    124\u001b[0m \u001b[0;34m\u001b[0m\u001b[0m\n",
      "\u001b[0;32m~/Social_Force_Model/src/astar.py\u001b[0m in \u001b[0;36mnext_loc\u001b[0;34m(x, y, barrier_list)\u001b[0m\n\u001b[1;32m     44\u001b[0m \u001b[0;34m\u001b[0m\u001b[0m\n\u001b[1;32m     45\u001b[0m         \u001b[0;32mwhile\u001b[0m \u001b[0;32mTrue\u001b[0m\u001b[0;34m:\u001b[0m\u001b[0;34m\u001b[0m\u001b[0;34m\u001b[0m\u001b[0m\n\u001b[0;32m---> 46\u001b[0;31m             \u001b[0mnow_loc\u001b[0m \u001b[0;34m=\u001b[0m \u001b[0mopen_list\u001b[0m\u001b[0;34m[\u001b[0m\u001b[0;36m0\u001b[0m\u001b[0;34m]\u001b[0m\u001b[0;34m\u001b[0m\u001b[0;34m\u001b[0m\u001b[0m\n\u001b[0m\u001b[1;32m     47\u001b[0m             \u001b[0;32mfor\u001b[0m \u001b[0mi\u001b[0m \u001b[0;32min\u001b[0m \u001b[0mrange\u001b[0m\u001b[0;34m(\u001b[0m\u001b[0;36m1\u001b[0m\u001b[0;34m,\u001b[0m \u001b[0mlen\u001b[0m\u001b[0;34m(\u001b[0m\u001b[0mopen_list\u001b[0m\u001b[0;34m)\u001b[0m\u001b[0;34m)\u001b[0m\u001b[0;34m:\u001b[0m  \u001b[0;31m# （1）获取f值最小的点\u001b[0m\u001b[0;34m\u001b[0m\u001b[0;34m\u001b[0m\u001b[0m\n\u001b[1;32m     48\u001b[0m                 \u001b[0;32mif\u001b[0m \u001b[0mnode_matrix\u001b[0m\u001b[0;34m[\u001b[0m\u001b[0mopen_list\u001b[0m\u001b[0;34m[\u001b[0m\u001b[0mi\u001b[0m\u001b[0;34m]\u001b[0m\u001b[0;34m[\u001b[0m\u001b[0;36m0\u001b[0m\u001b[0;34m]\u001b[0m\u001b[0;34m]\u001b[0m\u001b[0;34m[\u001b[0m\u001b[0mopen_list\u001b[0m\u001b[0;34m[\u001b[0m\u001b[0mi\u001b[0m\u001b[0;34m]\u001b[0m\u001b[0;34m[\u001b[0m\u001b[0;36m1\u001b[0m\u001b[0;34m]\u001b[0m\u001b[0;34m]\u001b[0m\u001b[0;34m.\u001b[0m\u001b[0mf\u001b[0m \u001b[0;34m<\u001b[0m \u001b[0mnode_matrix\u001b[0m\u001b[0;34m[\u001b[0m\u001b[0mnow_loc\u001b[0m\u001b[0;34m[\u001b[0m\u001b[0;36m0\u001b[0m\u001b[0;34m]\u001b[0m\u001b[0;34m]\u001b[0m\u001b[0;34m[\u001b[0m\u001b[0mnow_loc\u001b[0m\u001b[0;34m[\u001b[0m\u001b[0;36m1\u001b[0m\u001b[0;34m]\u001b[0m\u001b[0;34m]\u001b[0m\u001b[0;34m.\u001b[0m\u001b[0mf\u001b[0m\u001b[0;34m:\u001b[0m\u001b[0;34m\u001b[0m\u001b[0;34m\u001b[0m\u001b[0m\n",
      "\u001b[0;31mIndexError\u001b[0m: list index out of range"
     ]
    }
   ],
   "source": [
    "# Build GUI\n",
    "gui = GUI()\n",
    "\n",
    "# Framework\n",
    "# gui.add_roomborder()\n",
    "\n",
    "barrier = Barrier()\n",
    "# obstacle\n",
    "barrier.rectangle_barrier(10, 4, 18, 7)\n",
    "gui.add_obstacles(barrier)\n",
    "barrier.rectangle_barrier(10, 10, 18, 13)\n",
    "gui.add_obstacles(barrier)\n",
    "\n",
    "# roomborder\n",
    "barrier.rectangle_barrier(0, 0, 27, 1)\n",
    "gui.add_obstacles(barrier)\n",
    "barrier.rectangle_barrier(0, 16, 27, 17)\n",
    "gui.add_obstacles(barrier)\n",
    "barrier.rectangle_barrier(0, 0, 1, 17)\n",
    "gui.add_obstacles(barrier)\n",
    "barrier.rectangle_barrier(26, 0, 27, 8)\n",
    "gui.add_obstacles(barrier)\n",
    "barrier.rectangle_barrier(26, 10, 27, 17)\n",
    "gui.add_obstacles(barrier)\n",
    "\n",
    "gui.update_gui()\n",
    "\n",
    "\n",
    "people_list = PeopleList(15) # 15*3 =45 peds\n",
    "# size_list = [4,3,3,2,2,2,2] + 27*[1]\n",
    "size_list = 45*[1]\n",
    "people_list.form_groups(size_list)\n",
    "\n",
    "\n",
    "for people in people_list.ped_list:\n",
    "    gui.add_oval(people.loc[0]-people.r, people.loc[1]-people.r,\n",
    "                 people.loc[0]+people.r, people.loc[1]+people.r, people.id)\n",
    "    \n",
    "gui.update_gui()\n",
    "\n",
    "#  各个行人开始移动\n",
    "forces = Forces()\n",
    "while people_list.ped_list:\n",
    "    i = 0\n",
    "    while i < len(people_list.ped_list):\n",
    "        gui.del_oval(people_list.ped_list[i].id)\n",
    "        if people_list.ped_list[i].loc[0] > 1040:  # 如果有人走出房间，则移除\n",
    "            people_list.list.pop(i)\n",
    "            continue\n",
    "        i += 1\n",
    "    \n",
    "        forces.self_driven_force(people_list.ped_list[i], barrier.barrier_list, tau=0.5)\n",
    "        forces.ped_repulsive_force(people_list.ped_list[i], people_list, A=2000, B=0.08, threshold=1.4, k=819.62, kappa = 510.49)\n",
    "        forces.ped_obstacle_force(people_list.ped_list[i], barrier, A=2000, B=0.08, threshold=1.4, k=819.62, kappa = 510.49)\n",
    "        forces.group_vis_force(people_list.ped_list[i], people_list,beta1=-4)\n",
    "        forces.group_att_force(people_list.ped_list[i], people_list, q_A=1, beta2=2, threshold=2) #q_A?\n",
    "        forces.group_rep_force(people_list.ped_list[i], people_list, q_R=1, beta3=2) #q_R?\n",
    "        forces.all_forces(people_list.ped_list[i])\n",
    "    forces.move()  # 行人移动\n",
    "    \n",
    "    for people in people_list.ped_list:  # 在GUI中更新行人位置\n",
    "        gui.add_oval(int(people.loc[0]) - people.r, \n",
    "                     int(people.loc[1]) - people.r, int(people.loc[0]) + people.r,\n",
    "                     int(people.loc[1]) + people.r, people.id)\n",
    "    time = time + 0.005  # 更新时间\n",
    "    gui.update_time(str(round(time, 3)))\n",
    "    gui.update_gui()\n",
    "\n",
    "gui.start()"
   ]
  },
  {
   "cell_type": "code",
   "execution_count": 12,
   "metadata": {},
   "outputs": [
    {
     "name": "stdout",
     "output_type": "stream",
     "text": [
      "45\n"
     ]
    }
   ],
   "source": [
    "print(len(people_list.ped_list))"
   ]
  },
  {
   "cell_type": "code",
   "execution_count": 8,
   "metadata": {},
   "outputs": [],
   "source": [
    "people_list = PeopleList(15) # 15*3 =45 peds\n",
    "size_list = [4,3,3,2,2,2,2] + 27*[1]\n",
    "people_list.form_groups(size_list)\n"
   ]
  },
  {
   "cell_type": "code",
   "execution_count": 36,
   "metadata": {},
   "outputs": [
    {
     "ename": "AttributeError",
     "evalue": "module 'gui' has no attribute 'update_gui'",
     "output_type": "error",
     "traceback": [
      "\u001b[0;31m---------------------------------------------------------------------------\u001b[0m",
      "\u001b[0;31mAttributeError\u001b[0m                            Traceback (most recent call last)",
      "\u001b[0;32m/var/folders/d6/3r9vzdns3x33pc8dtx6syqfw0000gn/T/ipykernel_9341/3104485525.py\u001b[0m in \u001b[0;36m<module>\u001b[0;34m\u001b[0m\n\u001b[1;32m      2\u001b[0m     gui.add_oval(people.loc[0]-people.r, people.loc[1]-people.r,\n\u001b[1;32m      3\u001b[0m                  people.loc[0]+people.r, people.loc[1]+people.r, people.id,people.group_size)\n\u001b[0;32m----> 4\u001b[0;31m \u001b[0mgui\u001b[0m\u001b[0;34m.\u001b[0m\u001b[0mupdate_gui\u001b[0m\u001b[0;34m(\u001b[0m\u001b[0;34m)\u001b[0m\u001b[0;34m\u001b[0m\u001b[0;34m\u001b[0m\u001b[0m\n\u001b[0m",
      "\u001b[0;31mAttributeError\u001b[0m: module 'gui' has no attribute 'update_gui'"
     ]
    }
   ],
   "source": [
    "for people in people_list.ped_list:\n",
    "    gui.add_oval(people.loc[0]-people.r, people.loc[1]-people.r,\n",
    "                 people.loc[0]+people.r, people.loc[1]+people.r, people.id,people.group_size)\n",
    "gui.update_gui()"
   ]
  },
  {
   "cell_type": "code",
   "execution_count": 12,
   "metadata": {},
   "outputs": [
    {
     "name": "stdout",
     "output_type": "stream",
     "text": [
      "(100, 140) 1\n",
      "(100, 380) 1\n",
      "(60, 380) 1\n",
      "(140, 460) 1\n",
      "(140, 540) 1\n",
      "(100, 60) 1\n",
      "(140, 260) 1\n",
      "(60, 500) 1\n",
      "(140, 60) 1\n",
      "(140, 180) 1\n",
      "(140, 620) 1\n",
      "(60, 220) 1\n",
      "(60, 180) 1\n",
      "(60, 140) 1\n",
      "(100, 540) 1\n",
      "(100, 620) 1\n",
      "(60, 580) 1\n",
      "(60, 300) 1\n",
      "(60, 100) 1\n",
      "(60, 340) 1\n",
      "(100, 220) 1\n",
      "(140, 100) 1\n",
      "(140, 340) 1\n",
      "(100, 180) 1\n",
      "(100, 340) 1\n",
      "(100, 300) 1\n",
      "(60, 620) 1\n",
      "(140, 420) 1\n",
      "(60, 60) 1\n",
      "(140, 300) 1\n",
      "(100, 100) 1\n",
      "(100, 260) 1\n",
      "(60, 540) 1\n",
      "(60, 460) 1\n",
      "(140, 140) 1\n",
      "(100, 460) 1\n",
      "(100, 580) 1\n",
      "(140, 220) 1\n",
      "(100, 420) 1\n",
      "(60, 420) 1\n",
      "(60, 260) 1\n",
      "(140, 580) 1\n",
      "(140, 500) 1\n",
      "(140, 380) 1\n",
      "(100, 500) 1\n"
     ]
    }
   ],
   "source": [
    "for people in people_list.ped_list:\n",
    "    print(people.loc, people.group_size)"
   ]
  },
  {
   "cell_type": "code",
   "execution_count": 6,
   "metadata": {},
   "outputs": [
    {
     "name": "stdout",
     "output_type": "stream",
     "text": [
      "[]\n"
     ]
    }
   ],
   "source": [
    "print(people_list.ped_list)"
   ]
  },
  {
   "cell_type": "code",
   "execution_count": 6,
   "metadata": {},
   "outputs": [],
   "source": [
    "#  创建GUI\n",
    "gui = GUI()\n",
    "gui.add_barrier()\n",
    "gui.update_gui()\n",
    "\n",
    "#  创建行人列表\n",
    "people_list = PeopleList()\n",
    "time = 0\n",
    "#  在GUI初始化各个行人\n",
    "for people in people_list.list:\n",
    "    gui.add_oval(people.loc[0]-people.r, people.loc[1]-people.r,\n",
    "                 people.loc[0]+people.r, people.loc[1]+people.r, people.id)\n",
    "gui.update_gui()\n",
    "\n",
    "#  各个行人开始移动\n",
    "while people_list.list:\n",
    "    i = 0\n",
    "    while i < len(people_list.list):\n",
    "        gui.del_oval(people_list.list[i].id)\n",
    "        if people_list.list[i].loc[0] > 1040:  # 如果有人走出房间，则移除\n",
    "            people_list.list.pop(i)\n",
    "            continue\n",
    "        i += 1\n",
    "    people_list.move()  # 行人移动\n",
    "    for people in people_list.list:  # 在GUI中更新行人位置\n",
    "        gui.add_oval(int(people.loc[0]) - people.r, \n",
    "                     int(people.loc[1]) - people.r, int(people.loc[0]) + people.r,\n",
    "                     int(people.loc[1]) + people.r, people.id)\n",
    "    time = time + 0.005  # 更新时间\n",
    "    gui.update_time(str(round(time, 3)))\n",
    "    gui.update_gui()\n",
    "\n",
    "gui.start()\n"
   ]
  },
  {
   "cell_type": "code",
   "execution_count": 40,
   "metadata": {},
   "outputs": [
    {
     "name": "stdout",
     "output_type": "stream",
     "text": [
      "[1, 4, 5]\n"
     ]
    }
   ],
   "source": [
    "group_sizes={4:5, 3:2, 2:1, 1:10}\n",
    "group_sizes[1]\n",
    "\n",
    "a = [1,4,5,7]\n",
    "a.remove(7)\n",
    "print(a)"
   ]
  },
  {
   "cell_type": "code",
   "execution_count": 19,
   "metadata": {},
   "outputs": [
    {
     "name": "stdout",
     "output_type": "stream",
     "text": [
      "[1, 2, 3, 4]\n",
      "[5, 6, 7, 8]\n",
      "[9, 10, 11, 12]\n"
     ]
    }
   ],
   "source": [
    "# del list  # 尝试删除当前的 list 定义\n",
    "# # 或者\n",
    "# list = __builtins__.list  # 显式地从 builtins 恢复 list 函数\n",
    "\n",
    "\n",
    "column1 = list(range(1, 5))\n",
    "column2 = list(range(5, 9))\n",
    "column3 = list(range(9, 13))\n",
    "points = column1 + column2 + column3\n",
    "print(column1)\n",
    "print(column2)\n",
    "print(column3)"
   ]
  }
 ],
 "metadata": {
  "kernelspec": {
   "display_name": "base",
   "language": "python",
   "name": "python3"
  },
  "language_info": {
   "codemirror_mode": {
    "name": "ipython",
    "version": 3
   },
   "file_extension": ".py",
   "mimetype": "text/x-python",
   "name": "python",
   "nbconvert_exporter": "python",
   "pygments_lexer": "ipython3",
   "version": "3.9.7"
  },
  "orig_nbformat": 4
 },
 "nbformat": 4,
 "nbformat_minor": 2
}
