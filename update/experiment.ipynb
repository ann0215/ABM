{
 "cells": [
  {
   "cell_type": "code",
   "execution_count": 1,
   "metadata": {},
   "outputs": [],
   "source": [
    "import importlib\n",
    "import gui\n",
    "import people\n",
    "import astar\n",
    "import main_functions\n",
    "importlib.reload(gui)\n",
    "importlib.reload(people)\n",
    "importlib.reload(astar)\n",
    "importlib.reload(main_functions)\n",
    "from gui import GUI\n",
    "from people import PeopleList\n",
    "from main_functions import group_num_calculator,one_simulation,plot_with_ci\n",
    "import matplotlib.pyplot as plt\n",
    "import numpy as np"
   ]
  },
  {
   "cell_type": "markdown",
   "metadata": {},
   "source": [
    "# Test Model"
   ]
  },
  {
   "cell_type": "code",
   "execution_count": null,
   "metadata": {},
   "outputs": [],
   "source": [
    "# group_split = [(0.3, 0.1, 0.6), (0.1, 0.3, 0.6), (0, 0, 1)]\n",
    "A_p=998.97\n",
    "A_o=998.97\n",
    "B=-0.08\n",
    "beta1=1\n",
    "beta2=3\n",
    "delta_time = 0.005\n",
    "seed = 1\n",
    "percent_threshold = 80"
   ]
  },
  {
   "cell_type": "code",
   "execution_count": null,
   "metadata": {},
   "outputs": [],
   "source": [
    "# # No Obstacle:\n",
    "# barrier_set_noobs = [(0, 0), (27, 17), (26, 8)]\n",
    "# initial_people_count = None\n",
    "# recorded_time = False\n",
    "# # Build GUI\n",
    "# gui = GUI()\n",
    "# gui.add_barrier(barrier_set)\n",
    "# gui.update_gui()\n",
    "\n",
    "# # Build PeopleList saving each people object\n",
    "# people_list = PeopleList(seed)\n",
    "# # Build direction matrix\n",
    "# people_list.direction_matrix(barrier_set)\n",
    "# # Assign groups\n",
    "# r_1 = 0.6 # ratio of 1-ped group\n",
    "# r_2 = 0.35 # ratio of 2-ped group\n",
    "# r_3 = 0.05 # ratio of 3-ped group\n",
    "# N = 15*9 # Total pedestrians\n",
    "# (n_1,n_2,n_3) = group_num_calculator(N, r_1, r_2, r_3)\n",
    "# group_split = {3: n_3, 2: n_2}\n",
    "# people_list.assign_groups(group_split,seed)\n",
    "\n",
    "\n",
    "# time = 0\n",
    "\n",
    "# # Initial each people\n",
    "# for people in people_list.list:\n",
    "#     gui.add_line(people, people_list.list, people.group_id)\n",
    "#     gui.add_oval(people.loc[0] - people.r, people.loc[1] - people.r,\n",
    "#                  people.loc[0] + people.r, people.loc[1] + people.r, people.id)\n",
    "# gui.update_gui()\n",
    "\n",
    "# initial_people_count = len(people_list.list)\n",
    "\n",
    "# # Move\n",
    "# # start_time = real_time.time() \n",
    "\n",
    "# while people_list.list:\n",
    "#     i = 0\n",
    "#     while i < len(people_list.list):\n",
    "#         gui.del_line(people_list.list[i].group_id)\n",
    "#         gui.del_oval(people_list.list[i].id)\n",
    "\n",
    "#         if people_list.list[i].loc[0] > 1040 and people_list.list[i].loc[1] >300 and people_list.list[i].loc[1] <380:  # delete people if it goes out of room\n",
    "#             people_list.list.pop(i)\n",
    "#             continue\n",
    "#         i += 1\n",
    "\n",
    "#     # Check the percentage of people who have moved out\n",
    "#     remaining_people_count = len(people_list.list)\n",
    "#     moved_out_percentage = ((initial_people_count - remaining_people_count) / initial_people_count) * 100\n",
    "\n",
    "#     if not recorded_time and moved_out_percentage >= percent_threshold:\n",
    "#         print(f\"Time when {percent_threshold}% of people moved out: {round(time, 3)} seconds\") \n",
    "#         recorded_time = True\n",
    "\n",
    "#     people_list.move(barrier_set, delta_time=delta_time,  A_p=2000, A_o=5000, B=-0.08, threshold_ped=1.2, threshold_obs=120,\n",
    "#                      threshold_group=2,q_A=1, beta1=0.4, beta2=0.2)  # ped movement\n",
    "\n",
    "#     for people in people_list.list:  # update position\n",
    "#         gui.add_oval(int(people.loc[0]) - people.r,\n",
    "#                      int(people.loc[1]) - people.r, int(people.loc[0]) + people.r,\n",
    "#                      int(people.loc[1]) + people.r, people.id)\n",
    "#         gui.add_line(people, people_list.list, people.group_id)\n",
    "\n",
    "#     # time = real_time.time() - start_time  # update time\n",
    "#     time += delta_time\n",
    "#     gui.update_time(str(round(time, 3)))\n",
    "#     gui.update_gui()\n",
    "\n",
    "# gui.start()"
   ]
  },
  {
   "cell_type": "code",
   "execution_count": null,
   "metadata": {},
   "outputs": [],
   "source": [
    "# # [(start_boundary), (end_boundary), (door), (start_obstacle1), (end_obstacle1), (start_obstacle2), (end_obstacle2)...]\n",
    "# # Note the boader of room is of size 1, hence the real room is (1,1)->(26,16)\n",
    "# barrier_set = [(0, 0), (27, 17), (26, 8), (20, 4), (23, 7), (20, 10), (23, 13)]\n",
    "\n",
    "# seed = 41\n",
    "# delta_time = 0.005  # Timestrp\n",
    "# percent_threshold = 50  # Checkpoint: the percentage of people being moved out\n",
    "\n",
    "# initial_people_count = None\n",
    "# recorded_time = False\n",
    "\n",
    "# # Build GUI\n",
    "# gui = GUI()\n",
    "# gui.add_barrier(barrier_set)\n",
    "# gui.update_gui()\n",
    "\n",
    "# # Build PeopleList saving each people object\n",
    "# people_list = PeopleList(seed)\n",
    "# # Build direction matrix\n",
    "# people_list.direction_matrix(barrier_set)\n",
    "# # Assign groups\n",
    "# r_1 = 0.6 # ratio of 1-ped group\n",
    "# r_2 = 0.35 # ratio of 2-ped group\n",
    "# r_3 = 0.05 # ratio of 3-ped group\n",
    "# N = 15*9 # Total pedestrians\n",
    "# (n_1,n_2,n_3) = group_num_calculator(N, r_1, r_2, r_3)\n",
    "# group_split = {3: n_3, 2: n_2}\n",
    "# people_list.assign_groups(group_split,seed)\n",
    "\n",
    "\n",
    "# time = 0\n",
    "\n",
    "# # Initial each people\n",
    "# for people in people_list.list:\n",
    "#     gui.add_line(people, people_list.list, people.group_id)\n",
    "#     gui.add_oval(people.loc[0] - people.r, people.loc[1] - people.r,\n",
    "#                  people.loc[0] + people.r, people.loc[1] + people.r, people.id)\n",
    "# gui.update_gui()\n",
    "\n",
    "# initial_people_count = len(people_list.list)\n",
    "\n",
    "# # Move\n",
    "# # start_time = real_time.time() \n",
    "\n",
    "# while people_list.list:\n",
    "#     i = 0\n",
    "#     while i < len(people_list.list):\n",
    "#         gui.del_line(people_list.list[i].group_id)\n",
    "#         gui.del_oval(people_list.list[i].id)\n",
    "\n",
    "#         if people_list.list[i].loc[0] > 1040 and people_list.list[i].loc[1] >300 and people_list.list[i].loc[1] <380:  # delete people if it goes out of room\n",
    "#             people_list.list.pop(i)\n",
    "#             continue\n",
    "#         i += 1\n",
    "\n",
    "#     # Check the percentage of people who have moved out\n",
    "#     remaining_people_count = len(people_list.list)\n",
    "#     moved_out_percentage = ((initial_people_count - remaining_people_count) / initial_people_count) * 100\n",
    "\n",
    "#     if not recorded_time and moved_out_percentage >= percent_threshold:\n",
    "#         print(f\"Time when {percent_threshold}% of people moved out: {round(time, 3)} seconds\") \n",
    "#         recorded_time = True\n",
    "\n",
    "#     people_list.move(barrier_set, delta_time=delta_time,  A_p=2000, A_o=5000, B=-0.08, threshold_ped=1.2, threshold_obs=120,\n",
    "#                      threshold_group=2,q_A=1, beta1=0.4, beta2=0.2)  # ped movement\n",
    "\n",
    "#     for people in people_list.list:  # update position\n",
    "#         gui.add_oval(int(people.loc[0]) - people.r,\n",
    "#                      int(people.loc[1]) - people.r, int(people.loc[0]) + people.r,\n",
    "#                      int(people.loc[1]) + people.r, people.id)\n",
    "#         gui.add_line(people, people_list.list, people.group_id)\n",
    "\n",
    "#     # time = real_time.time() - start_time  # update time\n",
    "#     time += delta_time\n",
    "#     gui.update_time(str(round(time, 3)))\n",
    "#     gui.update_gui()\n",
    "\n",
    "# gui.start()\n"
   ]
  },
  {
   "cell_type": "code",
   "execution_count": 13,
   "metadata": {},
   "outputs": [
    {
     "name": "stdout",
     "output_type": "stream",
     "text": [
      "Time when 50% of people moved out: 24.035 seconds\n"
     ]
    }
   ],
   "source": [
    "# # [(start_boundary), (end_boundary), (door), (start_obstacle1), (end_obstacle1), (start_obstacle2), (end_obstacle2)...]\n",
    "# # Note the boader of room is of size 1, hence the real room is (1,1)->(26,16)\n",
    "# barrier_set = [(0, 0), (27, 17), (26, 8), (20, 4), (23, 7), (20, 10), (23, 13)]\n",
    "\n",
    "# seed = 41\n",
    "# delta_time = 0.005  # Timestrp\n",
    "# percent_threshold = 50  # Checkpoint: the percentage of people being moved out\n",
    "\n",
    "# initial_people_count = None\n",
    "# recorded_time = False\n",
    "\n",
    "# # Build GUI\n",
    "# gui = GUI()\n",
    "# gui.add_barrier(barrier_set)\n",
    "# gui.update_gui()\n",
    "\n",
    "# # Build PeopleList saving each people object\n",
    "# people_list = PeopleList(seed)\n",
    "# # Build direction matrix\n",
    "# people_list.direction_matrix(barrier_set)\n",
    "# # Assign groups\n",
    "# r_1 = 0.6 # ratio of 1-ped group\n",
    "# r_2 = 0.35 # ratio of 2-ped group\n",
    "# r_3 = 0.05 # ratio of 3-ped group\n",
    "# N = 15*9 # Total pedestrians\n",
    "# (n_1,n_2,n_3) = group_num_calculator(N, r_1, r_2, r_3)\n",
    "# group_split = {3: n_3, 2: n_2}\n",
    "# people_list.assign_groups(group_split,seed)\n",
    "\n",
    "\n",
    "# time = 0\n",
    "\n",
    "# # Initial each people\n",
    "# for people in people_list.list:\n",
    "#     gui.add_line(people, people_list.list, people.group_id)\n",
    "#     gui.add_oval(people.loc[0] - people.r, people.loc[1] - people.r,\n",
    "#                  people.loc[0] + people.r, people.loc[1] + people.r, people.id)\n",
    "# gui.update_gui()\n",
    "\n",
    "# initial_people_count = len(people_list.list)\n",
    "\n",
    "# # Move\n",
    "# # start_time = real_time.time() \n",
    "\n",
    "# while people_list.list:\n",
    "#     i = 0\n",
    "#     while i < len(people_list.list):\n",
    "#         gui.del_line(people_list.list[i].group_id)\n",
    "#         gui.del_oval(people_list.list[i].id)\n",
    "\n",
    "#         if people_list.list[i].loc[0] > 1040 and people_list.list[i].loc[1] >300 and people_list.list[i].loc[1] <380:  # delete people if it goes out of room\n",
    "#             people_list.list.pop(i)\n",
    "#             continue\n",
    "#         i += 1\n",
    "\n",
    "#     # Check the percentage of people who have moved out\n",
    "#     remaining_people_count = len(people_list.list)\n",
    "#     moved_out_percentage = ((initial_people_count - remaining_people_count) / initial_people_count) * 100\n",
    "\n",
    "#     if not recorded_time and moved_out_percentage >= percent_threshold:\n",
    "#         print(f\"Time when {percent_threshold}% of people moved out: {round(time, 3)} seconds\") \n",
    "#         recorded_time = True\n",
    "\n",
    "#     people_list.move(barrier_set, delta_time=delta_time,  A_p=2000, A_o=5000, B=-0.08, threshold_ped=1.2, threshold_obs=120,\n",
    "#                      threshold_group=2,q_A=1, beta1=0.4, beta2=0.2)  # ped movement\n",
    "\n",
    "#     for people in people_list.list:  # update position\n",
    "#         gui.add_oval(int(people.loc[0]) - people.r,\n",
    "#                      int(people.loc[1]) - people.r, int(people.loc[0]) + people.r,\n",
    "#                      int(people.loc[1]) + people.r, people.id)\n",
    "#         gui.add_line(people, people_list.list, people.group_id)\n",
    "\n",
    "#     # time = real_time.time() - start_time  # update time\n",
    "#     time += delta_time\n",
    "#     gui.update_time(str(round(time, 3)))\n",
    "#     gui.update_gui()\n",
    "\n",
    "# gui.start()\n"
   ]
  },
  {
   "cell_type": "code",
   "execution_count": null,
   "metadata": {},
   "outputs": [],
   "source": [
    "# r_1 = 0.6 # ratio of 1-ped group\n",
    "# r_2 = 0.35 # ratio of 2-ped group\n",
    "# r_3 = 0.05 # ratio of 3-ped group\n",
    "# N = 15*9 # Total pedestrians\n",
    "# barrier_set = [(0, 0), (27, 17), (26, 8), (20, 4), (23, 7), (20, 10), (23, 13)]\n",
    "# delta_time = 0.005\n",
    "# seed = 41\n",
    "# percent_threshold = 80\n",
    "# A_p=2000\n",
    "# A_o=5000\n",
    "# B=-0.08\n",
    "# beta1=0.4\n",
    "# beta2=0.2\n",
    "# time = one_simulation(barrier_set, percent_threshold, \n",
    "#                    r_1, r_2, r_3, A_p, A_o, B, beta1, beta2,\n",
    "#                    N, delta_time, seed, gui_display=True)"
   ]
  },
  {
   "cell_type": "code",
   "execution_count": 14,
   "metadata": {},
   "outputs": [
    {
     "name": "stdout",
     "output_type": "stream",
     "text": [
      "Time when 100% of people moved out: 57.735 seconds\n"
     ]
    }
   ],
   "source": [
    "# print(f\"Time when 100% of people moved out: {time:.3f} seconds\")"
   ]
  },
  {
   "cell_type": "markdown",
   "metadata": {},
   "source": [
    "# Global Sensitive Analysis"
   ]
  },
  {
   "cell_type": "code",
   "execution_count": null,
   "metadata": {},
   "outputs": [],
   "source": []
  },
  {
   "cell_type": "markdown",
   "metadata": {},
   "source": [
    "# Local Sensitive Analysis"
   ]
  },
  {
   "cell_type": "code",
   "execution_count": null,
   "metadata": {},
   "outputs": [],
   "source": []
  },
  {
   "cell_type": "markdown",
   "metadata": {},
   "source": [
    "# Experiment"
   ]
  },
  {
   "cell_type": "markdown",
   "metadata": {},
   "source": [
    "## 1. Find an Optimal Obstacle (No Obstacle)"
   ]
  },
  {
   "cell_type": "code",
   "execution_count": 31,
   "metadata": {},
   "outputs": [],
   "source": [
    "# 😊Default Parameter Setting\n",
    "r_1 = 0.6 # ratio of 1-ped group\n",
    "r_2 = 0.35 # ratio of 2-ped group\n",
    "r_3 = 0.05 # ratio of 3-ped group\n",
    "N = 15*9 # Total pedestrians\n",
    "barrier_set = [(0, 0), (27, 17), (26, 8), (22, 7), (23, 10)]\n",
    "delta_time = 0.005\n",
    "seed = 41\n",
    "percent_threshold = 80\n",
    "A_p=2000\n",
    "A_o=2000\n",
    "B=-0.08\n",
    "beta1=1\n",
    "beta2=3\n",
    "\n",
    "time,time_perct = one_simulation(barrier_set, percent_threshold, \n",
    "                   r_1, r_2, r_3, A_p, A_o, B, beta1, beta2,\n",
    "                   N, delta_time, seed, gui_display=True)"
   ]
  },
  {
   "cell_type": "code",
   "execution_count": 32,
   "metadata": {},
   "outputs": [
    {
     "name": "stdout",
     "output_type": "stream",
     "text": [
      "Time when 80 of people moved out: 60.480 seconds\n",
      "Time when 100% of people moved out: 121.805 seconds\n"
     ]
    }
   ],
   "source": [
    "print(f\"Time when {percent_threshold} of people moved out: {time_perct:.3f} seconds\")\n",
    "print(f\"Time when 100% of people moved out: {time:.3f} seconds\")"
   ]
  },
  {
   "cell_type": "markdown",
   "metadata": {},
   "source": [
    "### No Obstacle"
   ]
  },
  {
   "cell_type": "code",
   "execution_count": 91,
   "metadata": {},
   "outputs": [
    {
     "name": "stdout",
     "output_type": "stream",
     "text": [
      "No.5 Simulation\n",
      "No.10 Simulation\n",
      "No.15 Simulation\n",
      "No.20 Simulation\n"
     ]
    }
   ],
   "source": [
    "barrier_set_noobs = [(0, 0), (27, 17), (26, 8)]\n",
    "\n",
    "r_1 = 1 # ratio of 1-ped group\n",
    "r_2 = 0 # ratio of 2-ped group\n",
    "r_3 = 0 # ratio of 3-ped group\n",
    "N = 15*9 # Total pedestrians\n",
    "delta_time = 0.005\n",
    "seed = 41\n",
    "percent_threshold = 80\n",
    "A_p=998.97\n",
    "A_o=998.97\n",
    "B=-0.08\n",
    "beta1=1\n",
    "beta2=3\n",
    "\n",
    "time_list_noobs = []\n",
    "time_perct_list_noobs = []\n",
    "for seed in range(20):\n",
    "    if (seed+1)%5==0:\n",
    "        print(f\"No.{seed+1} Simulation\")\n",
    "    time, time_perct = one_simulation(barrier_set_noobs, percent_threshold, \n",
    "                   r_1, r_2, r_3, A_p, A_o, B, beta1, beta2,\n",
    "                   N, delta_time, seed, gui_display=False)\n",
    "    time_list_noobs.append(time)\n",
    "    time_perct_list_noobs.append(time_perct)"
   ]
  },
  {
   "cell_type": "code",
   "execution_count": 92,
   "metadata": {},
   "outputs": [
    {
     "name": "stdout",
     "output_type": "stream",
     "text": [
      "Mean time (all out) for no-obstacle: 24.91 seconds\n",
      "Std-erro of time (all out) for no-obstacle: 3.55\n",
      "Mean time (80 out) for no-obstacle: 16.27 seconds\n",
      "Std-erro of time (80 out) for no-obstacle: 2.30\n"
     ]
    }
   ],
   "source": [
    "print(f\"Mean time (all out) for no-obstacle: {np.mean(time_list_noobs):.2f} seconds\")\n",
    "print(f\"Std-erro of time (all out) for no-obstacle: {np.std(time_list_noobs):.2f}\")\n",
    "print(f\"Mean time ({percent_threshold} out) for no-obstacle: {np.mean(time_perct_list_noobs):.2f} seconds\")\n",
    "print(f\"Std-erro of time ({percent_threshold} out) for no-obstacle: {np.std(time_perct_list_noobs):.2f}\")"
   ]
  },
  {
   "cell_type": "markdown",
   "metadata": {},
   "source": [
    "### Horizontal Panel"
   ]
  },
  {
   "cell_type": "code",
   "execution_count": 129,
   "metadata": {},
   "outputs": [
    {
     "name": "stdout",
     "output_type": "stream",
     "text": [
      "No.1 Simulation(d=2)\n",
      "No.2 Simulation(d=3)\n",
      "No.3 Simulation(d=4)\n",
      "No.4 Simulation(d=5)\n",
      "No.5 Simulation(d=6)\n"
     ]
    }
   ],
   "source": [
    "# length=3m\n",
    "r_1 = 1\n",
    "r_2 = 0\n",
    "r_3 = 0\n",
    "A_p=998.97\n",
    "A_o=998.97\n",
    "time_list_d = []\n",
    "time_perct_list_d = []\n",
    "for d in range(2,7):\n",
    "    print(f\"No.{d-1} Simulation(d={d})\")\n",
    "    time_list = []\n",
    "    time_perct_list = []\n",
    "    for seed in range(20):\n",
    "        barrier_set = barrier_set_noobs + [(26-d-1,7),(26-d,10)]\n",
    "        time, time_perct = one_simulation(barrier_set, percent_threshold, \n",
    "                    r_1, r_2, r_3, A_p, A_o, B, beta1, beta2,\n",
    "                    N, delta_time, seed, gui_display=False)\n",
    "        time_list.append(time)\n",
    "        time_perct_list.append(time_perct)\n",
    "    time_list_d.append(time_list)\n",
    "    time_perct_list_d.append(time_perct_list)"
   ]
  },
  {
   "cell_type": "code",
   "execution_count": 136,
   "metadata": {},
   "outputs": [
    {
     "name": "stdout",
     "output_type": "stream",
     "text": [
      "[[30.409999999998234, 36.470000000000205, 26.674999999998978, 31.89499999999794, 30.169999999998282, 25.374999999999236, 22.204999999999867, 24.864999999999338, 27.589999999998795, 30.53999999999821, 24.14999999999948, 30.02999999999831, 25.439999999999223, 27.909999999998732, 32.60999999999823, 23.509999999999607, 30.48999999999822, 28.914999999998532, 25.744999999999163, 33.93499999999891], [27.959999999998722, 30.969999999998123, 23.84999999999954, 28.334999999998647, 25.94999999999912, 24.019999999999506, 22.404999999999827, 22.69499999999977, 26.439999999999024, 29.754999999998365, 21.000000000000107, 28.499999999998614, 23.624999999999584, 27.20999999999887, 28.92499999999853, 22.859999999999737, 27.829999999998748, 28.0649999999987, 23.169999999999675, 31.099999999998097], [26.71499999999897, 30.109999999998294, 24.584999999999393, 27.834999999998747, 26.70499999999897, 23.724999999999564, 20.545000000000197, 22.009999999999906, 24.99999999999931, 27.004999999998912, 19.21500000000046, 26.839999999998945, 23.834999999999543, 25.834999999999145, 28.449999999998624, 22.004999999999907, 25.794999999999153, 26.10999999999909, 21.914999999999925, 32.269999999998056], [25.734999999999165, 30.33499999999825, 23.90499999999953, 26.489999999999014, 26.994999999998914, 23.24499999999966, 19.32500000000044, 22.59499999999979, 24.359999999999438, 26.489999999999014, 20.705000000000165, 27.239999999998865, 23.19499999999967, 24.224999999999465, 27.929999999998728, 21.105000000000086, 26.044999999999103, 25.374999999999236, 21.39000000000003, 31.48999999999802], [26.169999999999078, 29.264999999998462, 23.5399999999996, 29.32499999999845, 27.129999999998887, 22.43999999999982, 20.565000000000193, 23.284999999999652, 25.374999999999236, 26.834999999998946, 20.060000000000294, 26.249999999999062, 22.759999999999756, 25.85499999999914, 28.0649999999987, 21.150000000000077, 25.334999999999244, 26.0599999999991, 20.715000000000163, 30.854999999998146]]\n",
      "[[22.755, 25.8, 19.51, 23.24, 21.78, 18.43, 16.635, 17.75, 20.57, 22.69, 16.88, 21.405, 18.825, 20.985, 23.545, 16.815, 21.255, 20.295, 18.51, 25.015], [19.355, 21.555, 16.935, 20.09, 18.925, 16.375, 13.95, 16.26, 19.105, 19.345, 14.36, 19.3, 16.575, 19.295, 20.575, 15.29, 18.695, 18.275, 15.915, 22.615], [18.685, 20.35, 16.365, 19.095, 17.89, 15.605, 13.48, 15.69, 17.13, 18.68, 13.59, 19.515, 16.055, 17.36, 19.96, 14.865, 17.53, 17.41, 14.94, 21.56], [17.53, 21.24, 15.94, 18.435, 17.595, 15.065, 12.845, 15.2, 16.54, 18.205, 13.195, 18.11, 15.56, 16.88, 18.78, 14.255, 17.32, 17.465, 14.225, 22.0], [18.37, 20.24, 15.84, 18.41, 17.875, 15.02, 13.095, 14.765, 16.465, 18.31, 13.315, 17.7, 15.3, 17.595, 18.59, 14.35, 16.815, 17.405, 14.385, 21.285]]\n"
     ]
    },
    {
     "data": {
      "image/png": "[encoded data removed]",
      "text/plain": [
       "<Figure size 720x360 with 1 Axes>"
      ]
     },
     "metadata": {
      "needs_background": "light"
     },
     "output_type": "display_data"
    }
   ],
   "source": [
    "time_list_d_hori_len3 = time_list_d\n",
    "time_perct_list_d_hori_len3 = time_perct_list_d\n",
    "print(time_list_d_hori_len3)\n",
    "print(time_perct_list_d_hori_len3)\n",
    "plot_with_ci(time_list_d_hori_len3,range(2,7), obstacle_type='Horizontal Panel (Length=3m)', value_noobs=np.mean(time_list_noobs))"
   ]
  },
  {
   "cell_type": "markdown",
   "metadata": {},
   "source": [
    "### Vertical Panel"
   ]
  },
  {
   "cell_type": "code",
   "execution_count": 85,
   "metadata": {},
   "outputs": [
    {
     "name": "stdout",
     "output_type": "stream",
     "text": [
      "No.1 Simulation(d=2)\n",
      "No.2 Simulation(d=3)\n",
      "No.3 Simulation(d=4)\n",
      "No.4 Simulation(d=5)\n",
      "No.5 Simulation(d=6)\n"
     ]
    }
   ],
   "source": [
    "# length=4m\n",
    "r_1 = 1\n",
    "r_2 = 0\n",
    "r_3 = 0\n",
    "A_p=998.97\n",
    "A_o=998.97\n",
    "time_list_d = []\n",
    "time_perct_list_d = []\n",
    "for d in range(2, 7):\n",
    "    print(f\"No.{d-1} Simulation(d={d})\")\n",
    "    time_list_temp = []\n",
    "    time_perct_list_temp = []\n",
    "    for seed in range(20):\n",
    "        barrier_set = barrier_set_noobs + [(26-d-4, 8), (26-d, 9)]\n",
    "        time, time_perct = one_simulation(barrier_set, percent_threshold, \n",
    "                                          r_1, r_2, r_3, A_p, A_o, B, beta1, beta2,\n",
    "                                          N, delta_time, seed, gui_display=False)\n",
    "        time_list_temp.append(time)\n",
    "        time_perct_list_temp.append(time_perct)\n",
    "    time_list_d.append(time_list_temp)\n",
    "    time_perct_list_d.append(time_perct_list_temp)\n",
    "    "
   ]
  },
  {
   "cell_type": "code",
   "execution_count": 89,
   "metadata": {},
   "outputs": [
    {
     "name": "stdout",
     "output_type": "stream",
     "text": [
      "[[26.029999999999106, 29.43499999999843, 23.34999999999964, 27.444999999998824, 25.169999999999277, 22.94499999999972, 20.23500000000026, 21.83499999999994, 25.194999999999272, 28.159999999998682, 20.38500000000023, 26.429999999999026, 23.669999999999575, 25.289999999999253, 27.649999999998784, 21.764999999999954, 25.674999999999176, 25.50999999999921, 22.704999999999767, 30.27999999999826], [25.80999999999915, 30.269999999998262, 22.854999999999738, 28.889999999998537, 25.979999999999116, 23.134999999999682, 19.57000000000039, 22.73499999999976, 24.019999999999506, 28.749999999998565, 19.88500000000033, 26.924999999998928, 24.114999999999487, 26.41999999999903, 27.084999999998896, 21.475000000000012, 26.00499999999911, 25.70499999999917, 21.54, 31.874999999997943], [25.65499999999918, 30.23999999999827, 23.309999999999647, 27.984999999998717, 24.774999999999356, 23.274999999999654, 20.42500000000022, 24.174999999999475, 24.14499999999948, 27.85999999999874, 20.07000000000029, 26.949999999998923, 24.124999999999485, 24.95999999999932, 28.36499999999864, 20.545000000000197, 24.589999999999392, 27.494999999998814, 21.17500000000007, 31.864999999997945], [26.584999999998995, 30.089999999998298, 22.399999999999828, 26.85499999999894, 25.884999999999135, 21.110000000000085, 18.86500000000053, 24.284999999999453, 23.459999999999617, 26.439999999999024, 19.185000000000468, 26.319999999999048, 23.219999999999665, 24.424999999999425, 28.194999999998675, 22.13999999999988, 24.65499999999938, 24.5599999999994, 20.410000000000224, 29.589999999998398], [27.134999999998886, 30.53499999999821, 22.719999999999764, 27.71499999999877, 24.784999999999354, 23.0349999999997, 18.885000000000527, 21.18000000000007, 26.124999999999087, 28.0749999999987, 21.015000000000104, 25.999999999999112, 22.93999999999972, 25.479999999999215, 27.589999999998795, 20.715000000000163, 25.014999999999308, 26.10999999999909, 21.405000000000026, 29.244999999998466]]\n",
      "[[18.62, 21.54, 16.59, 19.015, 17.615, 16.45, 14.04, 15.235, 17.065, 19.055, 13.74, 18.49, 15.62, 17.73, 19.695, 14.895, 17.285, 18.08, 15.465, 21.775], [17.465, 21.015, 16.005, 18.355, 17.575, 15.23, 13.09, 15.4, 16.555, 18.365, 13.165, 18.005, 15.35, 17.365, 18.735, 13.89, 17.08, 16.81, 14.51, 21.68], [17.73, 21.12, 15.025, 18.685, 17.205, 15.68, 13.19, 14.715, 16.46, 18.86, 13.355, 17.865, 15.395, 16.885, 18.415, 14.02, 16.69, 16.655, 14.62, 20.565], [17.22, 20.98, 15.74, 18.605, 17.505, 14.725, 12.995, 15.125, 15.605, 18.18, 12.775, 17.53, 15.19, 16.685, 18.805, 13.76, 16.605, 16.54, 13.64, 20.19], [18.07, 19.725, 15.465, 18.28, 16.79, 15.01, 12.49, 14.465, 17.01, 18.125, 12.53, 17.34, 15.285, 16.04, 18.665, 13.735, 16.59, 17.1, 14.515, 20.09]]\n"
     ]
    }
   ],
   "source": [
    "# Here print for back-up\n",
    "time_list_d_vertic_len4 = time_list_d\n",
    "time_perct_list_d_vertic_len4 = time_perct_list_d\n",
    "\n",
    "print(time_list_d_vertic_len4)\n",
    "print(time_perct_list_d_vertic_len4)"
   ]
  },
  {
   "cell_type": "code",
   "execution_count": 137,
   "metadata": {},
   "outputs": [
    {
     "data": {
      "image/png": "[encoded data removed]",
      "text/plain": [
       "<Figure size 720x360 with 1 Axes>"
      ]
     },
     "metadata": {
      "needs_background": "light"
     },
     "output_type": "display_data"
    }
   ],
   "source": [
    "plot_with_ci(time_list_d_vertic_len4,range(2,7), obstacle_type='Vertical Panel (Length=4m)', value_noobs=np.mean(time_list_noobs))"
   ]
  },
  {
   "cell_type": "code",
   "execution_count": 138,
   "metadata": {},
   "outputs": [
    {
     "name": "stdout",
     "output_type": "stream",
     "text": [
      "No.1 Simulation(d=2)\n",
      "No.2 Simulation(d=3)\n",
      "No.3 Simulation(d=4)\n",
      "No.4 Simulation(d=5)\n",
      "No.5 Simulation(d=6)\n"
     ]
    }
   ],
   "source": [
    "# vertical panel with length of 3\n",
    "\n",
    "r_1 = 1\n",
    "r_2 = 0\n",
    "r_3 = 0\n",
    "A_p=998.97\n",
    "A_o=998.97\n",
    "time_list_d = []\n",
    "time_perct_list_d = []\n",
    "for d in range(2,7):\n",
    "    print(f\"No.{d-1} Simulation(d={d})\")\n",
    "    time_list = []\n",
    "    time_perct_list = []\n",
    "    for seed in range(20):\n",
    "        barrier_set = barrier_set_noobs + [(26-d-3,8),(26-d,9)]\n",
    "        time, time_perct = one_simulation(barrier_set, percent_threshold, \n",
    "                    r_1, r_2, r_3, A_p, A_o, B, beta1, beta2,\n",
    "                    N, delta_time, seed, gui_display=False)\n",
    "        time_list.append(time)\n",
    "        time_perct_list.append(time_perct)\n",
    "    time_list_d.append(time_list)\n",
    "    time_perct_list_d.append(time_perct_list)"
   ]
  },
  {
   "cell_type": "code",
   "execution_count": 139,
   "metadata": {},
   "outputs": [
    {
     "name": "stdout",
     "output_type": "stream",
     "text": [
      "[[27.844999999998745, 29.63499999999839, 22.214999999999865, 27.76499999999876, 27.234999999998866, 24.139999999999482, 20.47500000000021, 23.024999999999704, 24.30499999999945, 28.81499999999855, 20.18500000000027, 27.174999999998878, 24.374999999999435, 25.39999999999923, 26.51499999999901, 22.209999999999866, 24.19499999999947, 26.244999999999063, 22.84999999999974, 30.144999999998287], [25.884999999999135, 31.324999999998052, 24.40499999999943, 28.339999999998646, 24.934999999999324, 23.314999999999646, 19.350000000000435, 22.34499999999984, 23.614999999999586, 25.894999999999133, 21.08500000000009, 27.644999999998785, 23.384999999999632, 26.46999999999902, 27.45999999999882, 20.970000000000113, 25.244999999999262, 24.44999999999942, 22.14499999999988, 30.264999999998263], [28.884999999998538, 29.254999999998464, 23.99999999999951, 26.184999999999075, 26.20999999999907, 23.474999999999614, 19.28000000000045, 22.304999999999847, 23.64499999999958, 25.86499999999914, 19.190000000000467, 25.91499999999913, 22.209999999999866, 24.489999999999412, 28.954999999998524, 20.570000000000192, 25.65499999999918, 26.274999999999057, 20.5300000000002, 32.579999999998215], [26.289999999999054, 29.554999999998405, 25.069999999999297, 30.5749999999982, 25.869999999999138, 23.719999999999565, 18.505000000000603, 23.064999999999696, 25.429999999999225, 26.80999999999895, 20.73500000000016, 27.76499999999876, 23.84999999999954, 24.80499999999935, 28.284999999998657, 20.69000000000017, 24.95499999999932, 25.474999999999216, 21.654999999999976, 30.369999999998242], [26.394999999999033, 31.33499999999805, 22.94499999999972, 27.074999999998898, 25.594999999999192, 22.254999999999857, 18.690000000000566, 21.320000000000043, 24.114999999999487, 27.184999999998876, 19.350000000000435, 26.66999999999898, 22.78999999999975, 25.40999999999923, 28.96999999999852, 21.470000000000013, 25.94999999999912, 26.539999999999004, 21.0300000000001, 30.97999999999812]]\n",
      "[[19.385, 20.55, 16.185, 19.59, 18.525, 16.7, 13.69, 16.315, 17.3, 19.405, 14.165, 19.09, 16.62, 17.895, 18.735, 15.035, 17.585, 17.53, 14.7, 22.18], [17.715, 21.075, 16.39, 18.62, 17.505, 15.28, 13.04, 14.92, 16.43, 17.955, 13.435, 17.63, 15.33, 16.985, 19.26, 14.4, 16.885, 16.78, 15.26, 20.48], [17.965, 20.38, 15.61, 18.605, 17.1, 15.525, 13.02, 14.84, 16.625, 18.17, 13.005, 17.69, 14.995, 16.52, 20.26, 13.835, 17.415, 17.43, 14.005, 21.935], [17.58, 20.59, 15.6, 19.58, 17.65, 15.265, 12.88, 14.795, 16.455, 17.77, 12.88, 17.59, 15.35, 16.955, 18.815, 13.945, 17.17, 16.445, 14.395, 20.92], [17.11, 20.51, 15.67, 18.235, 17.215, 14.68, 12.49, 14.565, 16.5, 18.42, 12.955, 17.585, 14.95, 17.105, 19.97, 13.81, 16.94, 16.785, 13.75, 20.955]]\n"
     ]
    },
    {
     "data": {
      "image/png": "[encoded data removed]",
      "text/plain": [
       "<Figure size 720x360 with 1 Axes>"
      ]
     },
     "metadata": {
      "needs_background": "light"
     },
     "output_type": "display_data"
    }
   ],
   "source": [
    "# Here print for back-up\n",
    "time_list_d_vertic_len3 = time_list_d\n",
    "time_perct_list_d_vertic_len3 = time_perct_list_d\n",
    "\n",
    "print(time_list_d_vertic_len3)\n",
    "print(time_perct_list_d_vertic_len3)\n",
    "plot_with_ci(time_list_d_vertic_len3,range(2,7), obstacle_type='Vertical Panel (Length=3m)', value_noobs=np.mean(time_list_noobs))"
   ]
  },
  {
   "cell_type": "markdown",
   "metadata": {},
   "source": [
    "### One Pillar"
   ]
  },
  {
   "cell_type": "code",
   "execution_count": 140,
   "metadata": {},
   "outputs": [
    {
     "name": "stdout",
     "output_type": "stream",
     "text": [
      "No.1 Simulation(d=2)\n",
      "No.2 Simulation(d=3)\n",
      "No.3 Simulation(d=4)\n",
      "No.4 Simulation(d=5)\n",
      "No.5 Simulation(d=6)\n"
     ]
    }
   ],
   "source": [
    "r_1 = 1\n",
    "r_2 = 0\n",
    "r_3 = 0\n",
    "A_p=998.97\n",
    "A_o=998.97\n",
    "time_list_d = []\n",
    "time_perct_list_d = []\n",
    "for d in range(2,7):\n",
    "    print(f\"No.{d-1} Simulation(d={d})\")\n",
    "    time_list = []\n",
    "    time_perct_list = []\n",
    "    for seed in range(20):\n",
    "        barrier_set = barrier_set_noobs + [(26-d-1,8),(26-d,9)]\n",
    "        time, time_perct = one_simulation(barrier_set, percent_threshold, \n",
    "                    r_1, r_2, r_3, A_p, A_o, B, beta1, beta2,\n",
    "                    N, delta_time, seed, gui_display=False)\n",
    "        time_list.append(time)\n",
    "        time_perct_list.append(time_perct)\n",
    "    time_list_d.append(time_list)\n",
    "    time_perct_list_d.append(time_perct_list)"
   ]
  },
  {
   "cell_type": "code",
   "execution_count": 141,
   "metadata": {},
   "outputs": [
    {
     "name": "stdout",
     "output_type": "stream",
     "text": [
      "[[27.00999999999891, 29.939999999998328, 24.989999999999313, 27.834999999998747, 26.66499999999898, 23.564999999999596, 19.805000000000344, 22.23999999999986, 27.234999999998866, 29.47999999999842, 19.83000000000034, 26.794999999998954, 22.174999999999873, 25.869999999999138, 27.844999999998745, 20.665000000000173, 26.944999999998924, 26.00499999999911, 22.69499999999977, 29.819999999998352], [27.504999999998812, 32.11999999999798, 21.574999999999992, 28.259999999998662, 25.319999999999247, 24.24499999999946, 19.600000000000385, 21.914999999999925, 25.294999999999252, 27.849999999998744, 19.605000000000384, 27.144999999998884, 22.48999999999981, 25.44999999999922, 28.594999999998596, 20.72500000000016, 26.46999999999902, 23.69499999999957, 20.620000000000182, 32.05999999999795], [26.954999999998922, 29.88499999999834, 22.83499999999974, 26.544999999999003, 25.34999999999924, 22.28999999999985, 19.400000000000425, 22.64499999999978, 24.624999999999385, 27.124999999998888, 20.270000000000252, 27.104999999998892, 23.229999999999663, 27.11499999999889, 26.75999999999896, 20.415000000000223, 26.884999999998936, 26.46499999999902, 21.809999999999945, 31.399999999998037], [27.36499999999884, 30.794999999998158, 24.374999999999435, 27.754999999998763, 25.65499999999918, 24.179999999999474, 20.08000000000029, 23.134999999999682, 23.979999999999514, 27.31999999999885, 18.680000000000568, 25.524999999999206, 22.904999999999728, 25.074999999999296, 28.939999999998527, 20.100000000000286, 24.40499999999943, 25.46499999999922, 22.09499999999989, 32.80499999999833], [26.534999999999005, 30.88999999999814, 23.559999999999597, 30.269999999998262, 24.14999999999948, 23.24999999999966, 19.58000000000039, 22.28999999999985, 24.264999999999457, 28.494999999998615, 19.5250000000004, 26.579999999998996, 22.0349999999999, 25.544999999999202, 27.279999999998857, 21.23000000000006, 24.364999999999437, 25.919999999999128, 19.97000000000031, 32.21999999999803]]\n",
      "[[18.735, 21.145, 16.72, 19.4, 18.91, 15.69, 13.16, 15.6, 17.99, 19.05, 14.08, 17.925, 15.61, 17.93, 19.71, 14.71, 17.86, 18.825, 14.995, 20.76], [18.61, 21.145, 15.6, 19.255, 17.38, 15.35, 13.385, 15.06, 16.725, 19.06, 13.46, 18.64, 15.265, 16.835, 19.47, 14.59, 17.73, 17.14, 14.355, 22.41], [17.765, 20.61, 16.09, 18.425, 17.435, 15.54, 12.485, 14.885, 16.19, 18.3, 13.305, 17.865, 15.92, 17.09, 18.78, 13.825, 16.75, 17.245, 14.485, 21.2], [18.33, 20.225, 15.435, 18.555, 16.765, 14.79, 12.395, 14.805, 16.44, 18.1, 12.49, 17.67, 14.84, 16.405, 18.88, 13.59, 17.235, 17.125, 14.14, 21.6], [17.235, 20.16, 15.29, 18.695, 16.9, 14.935, 12.405, 15.025, 16.185, 18.18, 12.875, 17.635, 14.72, 16.475, 18.21, 13.93, 16.585, 16.515, 13.68, 20.63]]\n"
     ]
    },
    {
     "data": {
      "image/png": "[encoded data removed]",
      "text/plain": [
       "<Figure size 720x360 with 1 Axes>"
      ]
     },
     "metadata": {
      "needs_background": "light"
     },
     "output_type": "display_data"
    }
   ],
   "source": [
    "time_list_d_1pillar = time_list_d\n",
    "time_perct_list_d_1pillar = time_perct_list_d\n",
    "\n",
    "print(time_list_d_1pillar)\n",
    "print(time_perct_list_d_1pillar)\n",
    "\n",
    "plot_with_ci(time_list_d_1pillar,range(2,7), obstacle_type='One Pillar', value_noobs=24.91)"
   ]
  },
  {
   "cell_type": "markdown",
   "metadata": {},
   "source": [
    "## Impact of Group-Split "
   ]
  },
  {
   "cell_type": "code",
   "execution_count": 116,
   "metadata": {},
   "outputs": [],
   "source": [
    "group_split = [(0.3, 0.1, 0.6), (0.1, 0.3, 0.6), (0, 0, 1)]\n",
    "A_p=998.97\n",
    "A_o=998.97\n",
    "B=-0.08\n",
    "beta1=1\n",
    "beta2=3"
   ]
  },
  {
   "cell_type": "markdown",
   "metadata": {},
   "source": [
    "### No Obstacle"
   ]
  },
  {
   "cell_type": "code",
   "execution_count": 101,
   "metadata": {},
   "outputs": [],
   "source": [
    "time_list_g_noobs = []\n",
    "time_perct_list_g_noobs = [] \n",
    "for (r_3, r_2, r_1) in group_split:\n",
    "    for seed in range(20):\n",
    "        time_list = []\n",
    "        time_perct_list = []\n",
    "        if (seed+1)%5==0:\n",
    "            print(f\"No.{seed+1} Simulation\")\n",
    "        time, time_perct = one_simulation(barrier_set_noobs, percent_threshold, \n",
    "                                          r_1, r_2, r_3, A_p, A_o, B, beta1, beta2,\n",
    "                                          N, delta_time, seed, gui_display=False)\n",
    "        time_list.append(time)\n",
    "        time_perct_list.append(time_perct)\n",
    "    time_list_g_noobs.append(time_list)\n",
    "    time_perct_list_g_noobs.append(time_perct_list)"
   ]
  },
  {
   "cell_type": "code",
   "execution_count": 102,
   "metadata": {},
   "outputs": [
    {
     "name": "stdout",
     "output_type": "stream",
     "text": [
      "[68.03000000001062, 55.21000000000979, 28.584999999998598]\n",
      "[30.805, 34.085, 20.425]\n"
     ]
    }
   ],
   "source": [
    "print(time_list_g_noobs)\n",
    "print(time_perct_list_g_noobs)"
   ]
  },
  {
   "cell_type": "code",
   "execution_count": 105,
   "metadata": {},
   "outputs": [
    {
     "name": "stderr",
     "output_type": "stream",
     "text": [
      "/opt/anaconda3/lib/python3.9/site-packages/scipy/stats/_distn_infrastructure.py:2246: RuntimeWarning: invalid value encountered in multiply\n",
      "  lower_bound = _a * scale + loc\n",
      "/opt/anaconda3/lib/python3.9/site-packages/scipy/stats/_distn_infrastructure.py:2247: RuntimeWarning: invalid value encountered in multiply\n",
      "  upper_bound = _b * scale + loc\n"
     ]
    },
    {
     "ename": "TypeError",
     "evalue": "'>' not supported between instances of 'float' and 'NoneType'",
     "output_type": "error",
     "traceback": [
      "\u001b[0;31m---------------------------------------------------------------------------\u001b[0m",
      "\u001b[0;31mTypeError\u001b[0m                                 Traceback (most recent call last)",
      "\u001b[0;32m/var/folders/d6/3r9vzdns3x33pc8dtx6syqfw0000gn/T/ipykernel_40572/569434143.py\u001b[0m in \u001b[0;36m<module>\u001b[0;34m\u001b[0m\n\u001b[1;32m      3\u001b[0m                  \"$r_3=0$ \\n $r_2=0$ \\n $r_1=1$\"]\n\u001b[1;32m      4\u001b[0m \u001b[0;34m\u001b[0m\u001b[0m\n\u001b[0;32m----> 5\u001b[0;31m \u001b[0mplot_with_ci\u001b[0m\u001b[0;34m(\u001b[0m\u001b[0mtime_list_g_noobs\u001b[0m\u001b[0;34m,\u001b[0m \u001b[0mx_axis\u001b[0m\u001b[0;34m,\u001b[0m \u001b[0;32mNone\u001b[0m\u001b[0;34m,\u001b[0m \u001b[0;32mNone\u001b[0m\u001b[0;34m,\u001b[0m \u001b[0mxlabel\u001b[0m\u001b[0;34m=\u001b[0m\u001b[0;34m'Group Split'\u001b[0m\u001b[0;34m,\u001b[0m \u001b[0mylabel\u001b[0m\u001b[0;34m=\u001b[0m\u001b[0;34m'Average Evacuation Time'\u001b[0m\u001b[0;34m)\u001b[0m\u001b[0;34m\u001b[0m\u001b[0;34m\u001b[0m\u001b[0m\n\u001b[0m",
      "\u001b[0;32m~/Documents/GitHub/ABM/update/main_functions.py\u001b[0m in \u001b[0;36mplot_with_ci\u001b[0;34m(output_list, param_list, obstacle_type, value_noobs, xlabel, ylabel)\u001b[0m\n\u001b[1;32m    128\u001b[0m     \u001b[0;31m# plt.grid(True)\u001b[0m\u001b[0;34m\u001b[0m\u001b[0;34m\u001b[0m\u001b[0m\n\u001b[1;32m    129\u001b[0m \u001b[0;34m\u001b[0m\u001b[0m\n\u001b[0;32m--> 130\u001b[0;31m     \u001b[0mplt\u001b[0m\u001b[0;34m.\u001b[0m\u001b[0maxhline\u001b[0m\u001b[0;34m(\u001b[0m\u001b[0my\u001b[0m\u001b[0;34m=\u001b[0m\u001b[0mvalue_noobs\u001b[0m\u001b[0;34m,\u001b[0m \u001b[0mcolor\u001b[0m\u001b[0;34m=\u001b[0m\u001b[0;34m'r'\u001b[0m\u001b[0;34m,\u001b[0m \u001b[0mlinestyle\u001b[0m\u001b[0;34m=\u001b[0m\u001b[0;34m'--'\u001b[0m\u001b[0;34m,\u001b[0m \u001b[0mlabel\u001b[0m\u001b[0;34m=\u001b[0m\u001b[0;34m'No Obstacle'\u001b[0m\u001b[0;34m)\u001b[0m\u001b[0;34m\u001b[0m\u001b[0;34m\u001b[0m\u001b[0m\n\u001b[0m\u001b[1;32m    131\u001b[0m \u001b[0;34m\u001b[0m\u001b[0m\n\u001b[1;32m    132\u001b[0m     \u001b[0mplt\u001b[0m\u001b[0;34m.\u001b[0m\u001b[0mlegend\u001b[0m\u001b[0;34m(\u001b[0m\u001b[0;34m)\u001b[0m\u001b[0;34m\u001b[0m\u001b[0;34m\u001b[0m\u001b[0m\n",
      "\u001b[0;32m/opt/anaconda3/lib/python3.9/site-packages/matplotlib/pyplot.py\u001b[0m in \u001b[0;36maxhline\u001b[0;34m(y, xmin, xmax, **kwargs)\u001b[0m\n\u001b[1;32m   2691\u001b[0m \u001b[0;34m@\u001b[0m\u001b[0m_copy_docstring_and_deprecators\u001b[0m\u001b[0;34m(\u001b[0m\u001b[0mAxes\u001b[0m\u001b[0;34m.\u001b[0m\u001b[0maxhline\u001b[0m\u001b[0;34m)\u001b[0m\u001b[0;34m\u001b[0m\u001b[0;34m\u001b[0m\u001b[0m\n\u001b[1;32m   2692\u001b[0m \u001b[0;32mdef\u001b[0m \u001b[0maxhline\u001b[0m\u001b[0;34m(\u001b[0m\u001b[0my\u001b[0m\u001b[0;34m:\u001b[0m \u001b[0mfloat\u001b[0m \u001b[0;34m=\u001b[0m \u001b[0;36m0\u001b[0m\u001b[0;34m,\u001b[0m \u001b[0mxmin\u001b[0m\u001b[0;34m:\u001b[0m \u001b[0mfloat\u001b[0m \u001b[0;34m=\u001b[0m \u001b[0;36m0\u001b[0m\u001b[0;34m,\u001b[0m \u001b[0mxmax\u001b[0m\u001b[0;34m:\u001b[0m \u001b[0mfloat\u001b[0m \u001b[0;34m=\u001b[0m \u001b[0;36m1\u001b[0m\u001b[0;34m,\u001b[0m \u001b[0;34m**\u001b[0m\u001b[0mkwargs\u001b[0m\u001b[0;34m)\u001b[0m \u001b[0;34m->\u001b[0m \u001b[0mLine2D\u001b[0m\u001b[0;34m:\u001b[0m\u001b[0;34m\u001b[0m\u001b[0;34m\u001b[0m\u001b[0m\n\u001b[0;32m-> 2693\u001b[0;31m     \u001b[0;32mreturn\u001b[0m \u001b[0mgca\u001b[0m\u001b[0;34m(\u001b[0m\u001b[0;34m)\u001b[0m\u001b[0;34m.\u001b[0m\u001b[0maxhline\u001b[0m\u001b[0;34m(\u001b[0m\u001b[0my\u001b[0m\u001b[0;34m=\u001b[0m\u001b[0my\u001b[0m\u001b[0;34m,\u001b[0m \u001b[0mxmin\u001b[0m\u001b[0;34m=\u001b[0m\u001b[0mxmin\u001b[0m\u001b[0;34m,\u001b[0m \u001b[0mxmax\u001b[0m\u001b[0;34m=\u001b[0m\u001b[0mxmax\u001b[0m\u001b[0;34m,\u001b[0m \u001b[0;34m**\u001b[0m\u001b[0mkwargs\u001b[0m\u001b[0;34m)\u001b[0m\u001b[0;34m\u001b[0m\u001b[0;34m\u001b[0m\u001b[0m\n\u001b[0m\u001b[1;32m   2694\u001b[0m \u001b[0;34m\u001b[0m\u001b[0m\n\u001b[1;32m   2695\u001b[0m \u001b[0;34m\u001b[0m\u001b[0m\n",
      "\u001b[0;32m/opt/anaconda3/lib/python3.9/site-packages/matplotlib/axes/_axes.py\u001b[0m in \u001b[0;36maxhline\u001b[0;34m(self, y, xmin, xmax, **kwargs)\u001b[0m\n\u001b[1;32m    782\u001b[0m         \u001b[0;31m# Strip away the units for comparison with non-unitized bounds.\u001b[0m\u001b[0;34m\u001b[0m\u001b[0;34m\u001b[0m\u001b[0m\n\u001b[1;32m    783\u001b[0m         \u001b[0myy\u001b[0m\u001b[0;34m,\u001b[0m \u001b[0;34m=\u001b[0m \u001b[0mself\u001b[0m\u001b[0;34m.\u001b[0m\u001b[0m_process_unit_info\u001b[0m\u001b[0;34m(\u001b[0m\u001b[0;34m[\u001b[0m\u001b[0;34m(\u001b[0m\u001b[0;34m\"y\"\u001b[0m\u001b[0;34m,\u001b[0m \u001b[0my\u001b[0m\u001b[0;34m)\u001b[0m\u001b[0;34m]\u001b[0m\u001b[0;34m,\u001b[0m \u001b[0mkwargs\u001b[0m\u001b[0;34m)\u001b[0m\u001b[0;34m\u001b[0m\u001b[0;34m\u001b[0m\u001b[0m\n\u001b[0;32m--> 784\u001b[0;31m         \u001b[0mscaley\u001b[0m \u001b[0;34m=\u001b[0m \u001b[0;34m(\u001b[0m\u001b[0myy\u001b[0m \u001b[0;34m<\u001b[0m \u001b[0mymin\u001b[0m\u001b[0;34m)\u001b[0m \u001b[0;32mor\u001b[0m \u001b[0;34m(\u001b[0m\u001b[0myy\u001b[0m \u001b[0;34m>\u001b[0m \u001b[0mymax\u001b[0m\u001b[0;34m)\u001b[0m\u001b[0;34m\u001b[0m\u001b[0;34m\u001b[0m\u001b[0m\n\u001b[0m\u001b[1;32m    785\u001b[0m \u001b[0;34m\u001b[0m\u001b[0m\n\u001b[1;32m    786\u001b[0m         \u001b[0mtrans\u001b[0m \u001b[0;34m=\u001b[0m \u001b[0mself\u001b[0m\u001b[0;34m.\u001b[0m\u001b[0mget_yaxis_transform\u001b[0m\u001b[0;34m(\u001b[0m\u001b[0mwhich\u001b[0m\u001b[0;34m=\u001b[0m\u001b[0;34m'grid'\u001b[0m\u001b[0;34m)\u001b[0m\u001b[0;34m\u001b[0m\u001b[0;34m\u001b[0m\u001b[0m\n",
      "\u001b[0;31mTypeError\u001b[0m: '>' not supported between instances of 'float' and 'NoneType'"
     ]
    },
    {
     "data": {
      "image/png": "[encoded data removed]",
      "text/plain": [
       "<Figure size 720x360 with 1 Axes>"
      ]
     },
     "metadata": {
      "needs_background": "light"
     },
     "output_type": "display_data"
    }
   ],
   "source": [
    "x_axis = [\"$r_3=0.3$ \\n $r_2=0.1$ \\n $r_1=0.6$\", \n",
    "                 \"$r_3=0.1$ \\n $r_2=0.3$ \\n $r_1=0.6$\", \n",
    "                 \"$r_3=0$ \\n $r_2=0$ \\n $r_1=1$\"]\n",
    "plot_with_ci(time_list_g_noobs, x_axis, None, None, xlabel='Group Split', ylabel='Average Evacuation Time')"
   ]
  },
  {
   "cell_type": "markdown",
   "metadata": {},
   "source": [
    "### Optimal Obstacle"
   ]
  },
  {
   "cell_type": "code",
   "execution_count": 117,
   "metadata": {},
   "outputs": [
    {
     "name": "stdout",
     "output_type": "stream",
     "text": [
      "r3=0.3, r2=0.1, r1=0.6:\n",
      "No.5 Simulation\n",
      "No.10 Simulation\n",
      "No.15 Simulation\n",
      "No.20 Simulation\n",
      "r3=0.1, r2=0.3, r1=0.6:\n",
      "No.5 Simulation\n",
      "No.10 Simulation\n",
      "No.15 Simulation\n",
      "No.20 Simulation\n",
      "r3=0, r2=0, r1=1:\n",
      "No.5 Simulation\n",
      "No.10 Simulation\n",
      "No.15 Simulation\n",
      "No.20 Simulation\n"
     ]
    }
   ],
   "source": [
    "d = 5\n",
    "optimal_obs = barrier_set_noobs + [(26-d-4, 8), (26-d, 9)]\n",
    "\n",
    "time_list_g_yesobs = []\n",
    "time_perct_list_g_yesobs = [] \n",
    "for (r_3, r_2, r_1) in group_split:\n",
    "    time_list = []\n",
    "    time_perct_list = []\n",
    "    print(f\"r3={r_3}, r2={r_2}, r1={r_1}:\")\n",
    "    for seed in range(20):\n",
    "        if (seed+1)%5==0:\n",
    "            print(f\"No.{seed+1} Simulation\")\n",
    "        time, time_perct = one_simulation(optimal_obs, percent_threshold, \n",
    "                                          r_1, r_2, r_3, A_p, A_o, B, beta1, beta2,\n",
    "                                          N, delta_time, seed, gui_display=False)\n",
    "        time_list.append(time)\n",
    "        time_perct_list.append(time_perct)\n",
    "    time_list_g_yesobs.append(time_list)\n",
    "    time_perct_list_g_yesobs.append(time_perct_list)"
   ]
  },
  {
   "cell_type": "code",
   "execution_count": 118,
   "metadata": {},
   "outputs": [
    {
     "name": "stdout",
     "output_type": "stream",
     "text": [
      "[[126.36999999995756, 131.8499999999526, 133.8199999999508, 124.84999999995894, 139.92499999994524, 130.66999999995366, 123.49499999996017, 118.90499999996435, 146.9949999999388, 125.58499999995827, 113.5699999999692, 124.65499999995912, 126.3249999999576, 125.3299999999585, 134.2699999999504, 135.09499999994964, 127.14499999995685, 124.97999999995882, 142.9349999999425, 141.04999999994422], [127.78499999995627, 120.12999999996323, 121.49499999996199, 104.05499999997785, 114.41499999996843, 132.6999999999518, 121.19999999996226, 123.40499999996025, 121.3699999999621, 125.45999999995838, 129.94999999995431, 96.77499999998447, 122.63999999996095, 131.409999999953, 110.66499999997184, 152.92499999993342, 102.27999999997947, 135.4649999999493, 117.8599999999653, 119.57999999996373], [26.584999999998995, 30.089999999998298, 22.399999999999828, 26.85499999999894, 25.884999999999135, 21.110000000000085, 18.86500000000053, 24.284999999999453, 23.459999999999617, 26.439999999999024, 19.185000000000468, 26.319999999999048, 23.219999999999665, 24.424999999999425, 28.194999999998675, 22.13999999999988, 24.65499999999938, 24.5599999999994, 20.410000000000224, 29.589999999998398]]\n",
      "[[46.165, 54.3, 44.68, 43.755, 40.235, 46.405, 41.725, 40.775, 36.225, 42.89, 36.525, 43.465, 36.055, 47.67, 46.015, 45.725, 47.55, 43.55, 59.87, 43.855], [38.395, 52.445, 47.215, 39.92, 39.205, 41.59, 47.415, 51.68, 40.07, 42.26, 46.45, 41.505, 38.72, 50.16, 45.945, 28.63, 43.435, 37.495, 64.935, 46.325], [17.22, 20.98, 15.74, 18.605, 17.505, 14.725, 12.995, 15.125, 15.605, 18.18, 12.775, 17.53, 15.19, 16.685, 18.805, 13.76, 16.605, 16.54, 13.64, 20.19]]\n"
     ]
    }
   ],
   "source": [
    "# beta1=1\n",
    "# Here print for back-up\n",
    "print(time_list_g_yesobs)\n",
    "print(time_perct_list_g_yesobs)"
   ]
  },
  {
   "cell_type": "code",
   "execution_count": 123,
   "metadata": {},
   "outputs": [
    {
     "name": "stdout",
     "output_type": "stream",
     "text": [
      "Average Time: [129.89099999995437, 121.5782499999619, 24.43374999999942]\n",
      "Standard Deviation: [8.157683586648789, 12.266148058262889, 3.0871560031032135]\n"
     ]
    }
   ],
   "source": [
    "means = []\n",
    "stds = []\n",
    "for i in range(len(time_list_g_yesobs)):\n",
    "    means.append(np.mean(time_list_g_yesobs[i]))\n",
    "    stds.append(np.std(time_list_g_yesobs[i]))\n",
    "print(f\"Average Time: {means}\")\n",
    "print(f\"Standard Deviation: {stds}\")"
   ]
  },
  {
   "cell_type": "code",
   "execution_count": 119,
   "metadata": {},
   "outputs": [
    {
     "name": "stderr",
     "output_type": "stream",
     "text": [
      "No artists with labels found to put in legend.  Note that artists whose label start with an underscore are ignored when legend() is called with no argument.\n"
     ]
    },
    {
     "data": {
      "image/png": "[encoded data removed]",
      "text/plain": [
       "<Figure size 720x360 with 1 Axes>"
      ]
     },
     "metadata": {
      "needs_background": "light"
     },
     "output_type": "display_data"
    }
   ],
   "source": [
    "x_axis = [\"$r_3=0.3$ \\n $r_2=0.1$ \\n $r_1=0.6$\", \n",
    "                 \"$r_3=0.1$ \\n $r_2=0.3$ \\n $r_1=0.6$\", \n",
    "                 \"$r_3=0$ \\n $r_2=0$ \\n $r_1=1$\"]\n",
    "plot_with_ci(time_list_g_yesobs, x_axis, None, None, xlabel='Group Split', ylabel='Average Evacuation Time')"
   ]
  },
  {
   "cell_type": "code",
   "execution_count": 114,
   "metadata": {},
   "outputs": [
    {
     "name": "stdout",
     "output_type": "stream",
     "text": [
      "[[55.140000000009756, 55.54000000000996, 63.230000000013895, 49.30000000000677, 70.1350000000087, 51.20500000000774, 69.88500000000893, 63.365000000013964, 59.29000000001188, 57.34000000001088, 69.02000000000972, 68.43000000001025, 63.385000000013974, 61.77000000001315, 56.9800000000107, 67.55500000001105, 49.53500000000689, 66.31500000001218, 52.85500000000859, 67.37500000001121], [62.44000000001349, 61.79000000001316, 54.02000000000918, 57.51000000001097, 44.230000000004175, 67.87500000001076, 59.12000000001179, 66.50000000001201, 53.28500000000881, 45.500000000004825, 59.03500000001175, 45.39500000000477, 64.19000000001411, 59.19500000001183, 47.11000000000565, 64.87500000001349, 58.32000000001138, 56.56000000001048, 50.700000000007485, 62.60000000001357], [26.584999999998995, 30.089999999998298, 22.399999999999828, 26.85499999999894, 25.884999999999135, 21.110000000000085, 18.86500000000053, 24.284999999999453, 23.459999999999617, 26.439999999999024, 19.185000000000468, 26.319999999999048, 23.219999999999665, 24.424999999999425, 28.194999999998675, 22.13999999999988, 24.65499999999938, 24.5599999999994, 20.410000000000224, 29.589999999998398]]\n",
      "[[33.245, 32.28, 29.795, 31.195, 29.08, 29.375, 26.025, 26.9, 27.735, 28.89, 23.345, 31.28, 27.35, 29.96, 30.685, 26.43, 31.32, 30.425, 28.995, 35.025], [29.38, 33.765, 29.2, 32.02, 29.18, 28.37, 23.405, 27.3, 27.425, 30.785, 24.81, 30.31, 27.28, 30.505, 33.35, 24.985, 30.105, 28.2, 27.745, 36.525], [17.22, 20.98, 15.74, 18.605, 17.505, 14.725, 12.995, 15.125, 15.605, 18.18, 12.775, 17.53, 15.19, 16.685, 18.805, 13.76, 16.605, 16.54, 13.64, 20.19]]\n"
     ]
    }
   ],
   "source": [
    "# beta1=0.5\n",
    "# Here print for back-up\n",
    "print(time_list_g_yesobs)\n",
    "print(time_perct_list_g_yesobs)"
   ]
  },
  {
   "cell_type": "code",
   "execution_count": 115,
   "metadata": {},
   "outputs": [
    {
     "name": "stderr",
     "output_type": "stream",
     "text": [
      "No artists with labels found to put in legend.  Note that artists whose label start with an underscore are ignored when legend() is called with no argument.\n"
     ]
    },
    {
     "data": {
      "image/png": "[encoded data removed]",
      "text/plain": [
       "<Figure size 720x360 with 1 Axes>"
      ]
     },
     "metadata": {
      "needs_background": "light"
     },
     "output_type": "display_data"
    }
   ],
   "source": [
    "x_axis = [\"$r_3=0.3$ \\n $r_2=0.1$ \\n $r_1=0.6$\", \n",
    "                 \"$r_3=0.1$ \\n $r_2=0.3$ \\n $r_1=0.6$\", \n",
    "                 \"$r_3=0$ \\n $r_2=0$ \\n $r_1=1$\"]\n",
    "plot_with_ci(time_list_g_yesobs, x_axis, None, None, xlabel='Group Split', ylabel='Average Evacuation Time')"
   ]
  }
 ],
 "metadata": {
  "kernelspec": {
   "display_name": "base",
   "language": "python",
   "name": "python3"
  },
  "language_info": {
   "codemirror_mode": {
    "name": "ipython",
    "version": 3
   },
   "file_extension": ".py",
   "mimetype": "text/x-python",
   "name": "python",
   "nbconvert_exporter": "python",
   "pygments_lexer": "ipython3",
   "version": "3.9.7"
  },
  "orig_nbformat": 4
 },
 "nbformat": 4,
 "nbformat_minor": 2
}
