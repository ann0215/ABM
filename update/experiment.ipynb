{
 "cells": [
  {
   "cell_type": "code",
   "execution_count": 79,
   "metadata": {},
   "outputs": [],
   "source": [
    "import importlib\n",
    "import gui\n",
    "import people\n",
    "import astar\n",
    "import main_functions\n",
    "importlib.reload(gui)\n",
    "importlib.reload(people)\n",
    "importlib.reload(astar)\n",
    "importlib.reload(main_functions)\n",
    "from gui import GUI\n",
    "from people import PeopleList\n",
    "from main_functions import group_num_calculator,one_simulation,plot_with_ci\n",
    "import matplotlib.pyplot as plt\n",
    "import numpy as np"
   ]
  },
  {
   "cell_type": "markdown",
   "metadata": {},
   "source": [
    "# Test Model"
   ]
  },
  {
   "cell_type": "code",
   "execution_count": 13,
   "metadata": {},
   "outputs": [
    {
     "name": "stdout",
     "output_type": "stream",
     "text": [
      "Time when 50% of people moved out: 24.035 seconds\n"
     ]
    }
   ],
   "source": [
    "# [(start_boundary), (end_boundary), (door), (start_obstacle1), (end_obstacle1), (start_obstacle2), (end_obstacle2)...]\n",
    "# Note the boader of room is of size 1, hence the real room is (1,1)->(26,16)\n",
    "barrier_set = [(0, 0), (27, 17), (26, 8), (20, 4), (23, 7), (20, 10), (23, 13)]\n",
    "\n",
    "seed = 41\n",
    "delta_time = 0.005  # Timestrp\n",
    "percent_threshold = 50  # Checkpoint: the percentage of people being moved out\n",
    "\n",
    "initial_people_count = None\n",
    "recorded_time = False\n",
    "\n",
    "# Build GUI\n",
    "gui = GUI()\n",
    "gui.add_barrier(barrier_set)\n",
    "gui.update_gui()\n",
    "\n",
    "# Build PeopleList saving each people object\n",
    "people_list = PeopleList(seed)\n",
    "# Build direction matrix\n",
    "people_list.direction_matrix(barrier_set)\n",
    "# Assign groups\n",
    "r_1 = 0.6 # ratio of 1-ped group\n",
    "r_2 = 0.35 # ratio of 2-ped group\n",
    "r_3 = 0.05 # ratio of 3-ped group\n",
    "N = 15*9 # Total pedestrians\n",
    "(n_1,n_2,n_3) = group_num_calculator(N, r_1, r_2, r_3)\n",
    "group_split = {3: n_3, 2: n_2}\n",
    "people_list.assign_groups(group_split,seed)\n",
    "\n",
    "\n",
    "time = 0\n",
    "\n",
    "# Initial each people\n",
    "for people in people_list.list:\n",
    "    gui.add_line(people, people_list.list, people.group_id)\n",
    "    gui.add_oval(people.loc[0] - people.r, people.loc[1] - people.r,\n",
    "                 people.loc[0] + people.r, people.loc[1] + people.r, people.id)\n",
    "gui.update_gui()\n",
    "\n",
    "initial_people_count = len(people_list.list)\n",
    "\n",
    "# Move\n",
    "# start_time = real_time.time() \n",
    "\n",
    "while people_list.list:\n",
    "    i = 0\n",
    "    while i < len(people_list.list):\n",
    "        gui.del_line(people_list.list[i].group_id)\n",
    "        gui.del_oval(people_list.list[i].id)\n",
    "\n",
    "        if people_list.list[i].loc[0] > 1040 and people_list.list[i].loc[1] >300 and people_list.list[i].loc[1] <380:  # delete people if it goes out of room\n",
    "            people_list.list.pop(i)\n",
    "            continue\n",
    "        i += 1\n",
    "\n",
    "    # Check the percentage of people who have moved out\n",
    "    remaining_people_count = len(people_list.list)\n",
    "    moved_out_percentage = ((initial_people_count - remaining_people_count) / initial_people_count) * 100\n",
    "\n",
    "    if not recorded_time and moved_out_percentage >= percent_threshold:\n",
    "        print(f\"Time when {percent_threshold}% of people moved out: {round(time, 3)} seconds\") \n",
    "        recorded_time = True\n",
    "\n",
    "    people_list.move(barrier_set, delta_time=delta_time,  A_p=2000, A_o=5000, B=-0.08, threshold_ped=1.2, threshold_obs=120,\n",
    "                     threshold_group=2,q_A=1, beta1=0.4, beta2=0.2)  # ped movement\n",
    "\n",
    "    for people in people_list.list:  # update position\n",
    "        gui.add_oval(int(people.loc[0]) - people.r,\n",
    "                     int(people.loc[1]) - people.r, int(people.loc[0]) + people.r,\n",
    "                     int(people.loc[1]) + people.r, people.id)\n",
    "        gui.add_line(people, people_list.list, people.group_id)\n",
    "\n",
    "    # time = real_time.time() - start_time  # update time\n",
    "    time += delta_time\n",
    "    gui.update_time(str(round(time, 3)))\n",
    "    gui.update_gui()\n",
    "\n",
    "gui.start()\n"
   ]
  },
  {
   "cell_type": "code",
   "execution_count": null,
   "metadata": {},
   "outputs": [],
   "source": [
    "r_1 = 0.6 # ratio of 1-ped group\n",
    "r_2 = 0.35 # ratio of 2-ped group\n",
    "r_3 = 0.05 # ratio of 3-ped group\n",
    "N = 15*9 # Total pedestrians\n",
    "barrier_set = [(0, 0), (27, 17), (26, 8), (20, 4), (23, 7), (20, 10), (23, 13)]\n",
    "delta_time = 0.005\n",
    "seed = 41\n",
    "percent_threshold = 80\n",
    "A_p=2000\n",
    "A_o=5000\n",
    "B=-0.08\n",
    "beta1=0.4\n",
    "beta2=0.2\n",
    "time = one_simulation(barrier_set, percent_threshold, \n",
    "                   r_1, r_2, r_3, A_p, A_o, B, beta1, beta2,\n",
    "                   N, delta_time, seed, gui_display=True)"
   ]
  },
  {
   "cell_type": "code",
   "execution_count": 14,
   "metadata": {},
   "outputs": [
    {
     "name": "stdout",
     "output_type": "stream",
     "text": [
      "Time when 100% of people moved out: 57.735 seconds\n"
     ]
    }
   ],
   "source": [
    "print(f\"Time when 100% of people moved out: {time:.3f} seconds\")"
   ]
  },
  {
   "cell_type": "markdown",
   "metadata": {},
   "source": [
    "# Global Sensitive Analysis"
   ]
  },
  {
   "cell_type": "code",
   "execution_count": null,
   "metadata": {},
   "outputs": [],
   "source": []
  },
  {
   "cell_type": "markdown",
   "metadata": {},
   "source": [
    "# Local Sensitive Analysis"
   ]
  },
  {
   "cell_type": "code",
   "execution_count": null,
   "metadata": {},
   "outputs": [],
   "source": []
  },
  {
   "cell_type": "markdown",
   "metadata": {},
   "source": [
    "# Experiment"
   ]
  },
  {
   "cell_type": "markdown",
   "metadata": {},
   "source": [
    "## 1. Find an Optimal Obstacle (No Obstacle)"
   ]
  },
  {
   "cell_type": "code",
   "execution_count": 31,
   "metadata": {},
   "outputs": [],
   "source": [
    "# 😊Default Parameter Setting\n",
    "r_1 = 0.6 # ratio of 1-ped group\n",
    "r_2 = 0.35 # ratio of 2-ped group\n",
    "r_3 = 0.05 # ratio of 3-ped group\n",
    "N = 15*9 # Total pedestrians\n",
    "barrier_set = [(0, 0), (27, 17), (26, 8), (22, 7), (23, 10)]\n",
    "delta_time = 0.005\n",
    "seed = 41\n",
    "percent_threshold = 80\n",
    "A_p=2000\n",
    "A_o=2000\n",
    "B=-0.08\n",
    "beta1=1\n",
    "beta2=3\n",
    "\n",
    "time,time_perct = one_simulation(barrier_set, percent_threshold, \n",
    "                   r_1, r_2, r_3, A_p, A_o, B, beta1, beta2,\n",
    "                   N, delta_time, seed, gui_display=True)"
   ]
  },
  {
   "cell_type": "code",
   "execution_count": 32,
   "metadata": {},
   "outputs": [
    {
     "name": "stdout",
     "output_type": "stream",
     "text": [
      "Time when 80 of people moved out: 60.480 seconds\n",
      "Time when 100% of people moved out: 121.805 seconds\n"
     ]
    }
   ],
   "source": [
    "print(f\"Time when {percent_threshold} of people moved out: {time_perct:.3f} seconds\")\n",
    "print(f\"Time when 100% of people moved out: {time:.3f} seconds\")"
   ]
  },
  {
   "cell_type": "markdown",
   "metadata": {},
   "source": [
    "### No Obstacle"
   ]
  },
  {
   "cell_type": "code",
   "execution_count": 91,
   "metadata": {},
   "outputs": [
    {
     "name": "stdout",
     "output_type": "stream",
     "text": [
      "No.5 Simulation\n",
      "No.10 Simulation\n",
      "No.15 Simulation\n",
      "No.20 Simulation\n"
     ]
    }
   ],
   "source": [
    "barrier_set_noobs = [(0, 0), (27, 17), (26, 8)]\n",
    "\n",
    "r_1 = 1 # ratio of 1-ped group\n",
    "r_2 = 0 # ratio of 2-ped group\n",
    "r_3 = 0 # ratio of 3-ped group\n",
    "N = 15*9 # Total pedestrians\n",
    "delta_time = 0.005\n",
    "seed = 41\n",
    "percent_threshold = 80\n",
    "A_p=998.97\n",
    "A_o=998.97\n",
    "B=-0.08\n",
    "beta1=1\n",
    "beta2=3\n",
    "\n",
    "time_list_noobs = []\n",
    "time_perct_list_noobs = []\n",
    "for seed in range(20):\n",
    "    if (seed+1)%5==0:\n",
    "        print(f\"No.{seed+1} Simulation\")\n",
    "    time, time_perct = one_simulation(barrier_set_noobs, percent_threshold, \n",
    "                   r_1, r_2, r_3, A_p, A_o, B, beta1, beta2,\n",
    "                   N, delta_time, seed, gui_display=False)\n",
    "    time_list_noobs.append(time)\n",
    "    time_perct_list_noobs.append(time_perct)"
   ]
  },
  {
   "cell_type": "code",
   "execution_count": 92,
   "metadata": {},
   "outputs": [
    {
     "name": "stdout",
     "output_type": "stream",
     "text": [
      "Mean time (all out) for no-obstacle: 24.91 seconds\n",
      "Std-erro of time (all out) for no-obstacle: 3.55\n",
      "Mean time (80 out) for no-obstacle: 16.27 seconds\n",
      "Std-erro of time (80 out) for no-obstacle: 2.30\n"
     ]
    }
   ],
   "source": [
    "print(f\"Mean time (all out) for no-obstacle: {np.mean(time_list_noobs):.2f} seconds\")\n",
    "print(f\"Std-erro of time (all out) for no-obstacle: {np.std(time_list_noobs):.2f}\")\n",
    "print(f\"Mean time ({percent_threshold} out) for no-obstacle: {np.mean(time_perct_list_noobs):.2f} seconds\")\n",
    "print(f\"Std-erro of time ({percent_threshold} out) for no-obstacle: {np.std(time_perct_list_noobs):.2f}\")"
   ]
  },
  {
   "cell_type": "markdown",
   "metadata": {},
   "source": [
    "### Horizontal Panel"
   ]
  },
  {
   "cell_type": "code",
   "execution_count": 53,
   "metadata": {},
   "outputs": [
    {
     "name": "stdout",
     "output_type": "stream",
     "text": [
      "No.1 Simulation(d=2)\n",
      "No.2 Simulation(d=3)\n",
      "No.3 Simulation(d=4)\n",
      "No.4 Simulation(d=5)\n",
      "No.5 Simulation(d=6)\n"
     ]
    }
   ],
   "source": [
    "r_1 = 1\n",
    "r_2 = 0\n",
    "r_3 = 0\n",
    "A_p=998.97\n",
    "A_o=998.97\n",
    "time_list_d = []\n",
    "time_perct_list_d = []\n",
    "for d in range(2,7):\n",
    "    print(f\"No.{d-1} Simulation(d={d})\")\n",
    "    for seed in range(10):\n",
    "        time_list = []\n",
    "        time_perct_list = []\n",
    "        barrier_set = barrier_set_noobs + [(26-d-1,7),(26-d,10)]\n",
    "        time, time_perct = one_simulation(barrier_set, percent_threshold, \n",
    "                    r_1, r_2, r_3, A_p, A_o, B, beta1, beta2,\n",
    "                    N, delta_time, seed, gui_display=False)\n",
    "        time_list.append(time)\n",
    "        time_perct_list.append(time_perct)\n",
    "    time_list_d.append(np.mean(time_list)) \n",
    "    time_perct_list_d.append(np.mean(time_perct_list)) "
   ]
  },
  {
   "cell_type": "code",
   "execution_count": 54,
   "metadata": {},
   "outputs": [
    {
     "name": "stdout",
     "output_type": "stream",
     "text": [
      "[30.53999999999821, 29.754999999998365, 27.004999999998912, 26.489999999999014, 26.834999999998946]\n",
      "[22.69, 19.345, 18.68, 18.205, 18.31]\n"
     ]
    }
   ],
   "source": [
    "print(time_list_d)\n",
    "print(time_perct_list_d)"
   ]
  },
  {
   "cell_type": "markdown",
   "metadata": {},
   "source": [
    "### Vertical Panel"
   ]
  },
  {
   "cell_type": "code",
   "execution_count": 85,
   "metadata": {},
   "outputs": [
    {
     "name": "stdout",
     "output_type": "stream",
     "text": [
      "No.1 Simulation(d=2)\n",
      "No.2 Simulation(d=3)\n",
      "No.3 Simulation(d=4)\n",
      "No.4 Simulation(d=5)\n",
      "No.5 Simulation(d=6)\n"
     ]
    }
   ],
   "source": [
    "\n",
    "r_1 = 1\n",
    "r_2 = 0\n",
    "r_3 = 0\n",
    "A_p=998.97\n",
    "A_o=998.97\n",
    "time_list_d = []\n",
    "time_perct_list_d = []\n",
    "for d in range(2, 7):\n",
    "    print(f\"No.{d-1} Simulation(d={d})\")\n",
    "    time_list_temp = []\n",
    "    time_perct_list_temp = []\n",
    "    for seed in range(20):\n",
    "        barrier_set = barrier_set_noobs + [(26-d-4, 8), (26-d, 9)]\n",
    "        time, time_perct = one_simulation(barrier_set, percent_threshold, \n",
    "                                          r_1, r_2, r_3, A_p, A_o, B, beta1, beta2,\n",
    "                                          N, delta_time, seed, gui_display=False)\n",
    "        time_list_temp.append(time)\n",
    "        time_perct_list_temp.append(time_perct)\n",
    "    time_list_d.append(time_list_temp)\n",
    "    time_perct_list_d.append(time_perct_list_temp)\n",
    "    "
   ]
  },
  {
   "cell_type": "code",
   "execution_count": 89,
   "metadata": {},
   "outputs": [
    {
     "name": "stdout",
     "output_type": "stream",
     "text": [
      "[[26.029999999999106, 29.43499999999843, 23.34999999999964, 27.444999999998824, 25.169999999999277, 22.94499999999972, 20.23500000000026, 21.83499999999994, 25.194999999999272, 28.159999999998682, 20.38500000000023, 26.429999999999026, 23.669999999999575, 25.289999999999253, 27.649999999998784, 21.764999999999954, 25.674999999999176, 25.50999999999921, 22.704999999999767, 30.27999999999826], [25.80999999999915, 30.269999999998262, 22.854999999999738, 28.889999999998537, 25.979999999999116, 23.134999999999682, 19.57000000000039, 22.73499999999976, 24.019999999999506, 28.749999999998565, 19.88500000000033, 26.924999999998928, 24.114999999999487, 26.41999999999903, 27.084999999998896, 21.475000000000012, 26.00499999999911, 25.70499999999917, 21.54, 31.874999999997943], [25.65499999999918, 30.23999999999827, 23.309999999999647, 27.984999999998717, 24.774999999999356, 23.274999999999654, 20.42500000000022, 24.174999999999475, 24.14499999999948, 27.85999999999874, 20.07000000000029, 26.949999999998923, 24.124999999999485, 24.95999999999932, 28.36499999999864, 20.545000000000197, 24.589999999999392, 27.494999999998814, 21.17500000000007, 31.864999999997945], [26.584999999998995, 30.089999999998298, 22.399999999999828, 26.85499999999894, 25.884999999999135, 21.110000000000085, 18.86500000000053, 24.284999999999453, 23.459999999999617, 26.439999999999024, 19.185000000000468, 26.319999999999048, 23.219999999999665, 24.424999999999425, 28.194999999998675, 22.13999999999988, 24.65499999999938, 24.5599999999994, 20.410000000000224, 29.589999999998398], [27.134999999998886, 30.53499999999821, 22.719999999999764, 27.71499999999877, 24.784999999999354, 23.0349999999997, 18.885000000000527, 21.18000000000007, 26.124999999999087, 28.0749999999987, 21.015000000000104, 25.999999999999112, 22.93999999999972, 25.479999999999215, 27.589999999998795, 20.715000000000163, 25.014999999999308, 26.10999999999909, 21.405000000000026, 29.244999999998466]]\n",
      "[[18.62, 21.54, 16.59, 19.015, 17.615, 16.45, 14.04, 15.235, 17.065, 19.055, 13.74, 18.49, 15.62, 17.73, 19.695, 14.895, 17.285, 18.08, 15.465, 21.775], [17.465, 21.015, 16.005, 18.355, 17.575, 15.23, 13.09, 15.4, 16.555, 18.365, 13.165, 18.005, 15.35, 17.365, 18.735, 13.89, 17.08, 16.81, 14.51, 21.68], [17.73, 21.12, 15.025, 18.685, 17.205, 15.68, 13.19, 14.715, 16.46, 18.86, 13.355, 17.865, 15.395, 16.885, 18.415, 14.02, 16.69, 16.655, 14.62, 20.565], [17.22, 20.98, 15.74, 18.605, 17.505, 14.725, 12.995, 15.125, 15.605, 18.18, 12.775, 17.53, 15.19, 16.685, 18.805, 13.76, 16.605, 16.54, 13.64, 20.19], [18.07, 19.725, 15.465, 18.28, 16.79, 15.01, 12.49, 14.465, 17.01, 18.125, 12.53, 17.34, 15.285, 16.04, 18.665, 13.735, 16.59, 17.1, 14.515, 20.09]]\n"
     ]
    }
   ],
   "source": [
    "# time_list_d_vertic_len4 = time_list_d\n",
    "# time_perct_list_d_vertic_len4 = time_perct_list_d\n",
    "\n",
    "# print(time_list_d_vertic_len4)\n",
    "# print(time_perct_list_d_vertic_len4)"
   ]
  },
  {
   "cell_type": "code",
   "execution_count": 93,
   "metadata": {},
   "outputs": [
    {
     "data": {
      "image/png": "[encoded data removed]",
      "text/plain": [
       "<Figure size 720x360 with 1 Axes>"
      ]
     },
     "metadata": {
      "needs_background": "light"
     },
     "output_type": "display_data"
    }
   ],
   "source": [
    "plot_with_ci(time_list_d_vertic_len4,range(2,7), obstacle_type='Vertical Panel (Length=4m)', value_noobs=24.91)"
   ]
  },
  {
   "cell_type": "code",
   "execution_count": 63,
   "metadata": {},
   "outputs": [
    {
     "name": "stdout",
     "output_type": "stream",
     "text": [
      "No.1 Simulation(d=2)\n",
      "No.2 Simulation(d=3)\n",
      "No.3 Simulation(d=4)\n",
      "No.4 Simulation(d=5)\n",
      "No.5 Simulation(d=6)\n"
     ]
    }
   ],
   "source": [
    "# vertical panel with length of 4\n",
    "r_1 = 1\n",
    "r_2 = 0\n",
    "r_3 = 0\n",
    "A_p=998.97\n",
    "A_o=998.97\n",
    "time_list_d = []\n",
    "time_perct_list_d = []\n",
    "for d in range(2,7):\n",
    "    print(f\"No.{d-1} Simulation(d={d})\")\n",
    "    for seed in range(10):\n",
    "        time_list = []\n",
    "        time_perct_list = []\n",
    "        barrier_set = barrier_set_noobs + [(26-d-4,8),(26-d,9)]\n",
    "        time, time_perct = one_simulation(barrier_set, percent_threshold, \n",
    "                    r_1, r_2, r_3, A_p, A_o, B, beta1, beta2,\n",
    "                    N, delta_time, seed, gui_display=False)\n",
    "        time_list.append(time)\n",
    "        time_perct_list.append(time_perct)\n",
    "    time_list_d.append(np.mean(time_list)) \n",
    "    time_perct_list_d.append(np.mean(time_perct_list)) "
   ]
  },
  {
   "cell_type": "code",
   "execution_count": 64,
   "metadata": {},
   "outputs": [
    {
     "name": "stdout",
     "output_type": "stream",
     "text": [
      "[28.159999999998682, 28.749999999998565, 27.85999999999874, 26.439999999999024, 28.0749999999987]\n",
      "[19.055, 18.365, 18.86, 18.18, 18.125]\n"
     ]
    }
   ],
   "source": [
    "print(time_list_d)\n",
    "print(time_perct_list_d)"
   ]
  },
  {
   "cell_type": "code",
   "execution_count": 49,
   "metadata": {},
   "outputs": [
    {
     "name": "stdout",
     "output_type": "stream",
     "text": [
      "No.1 Simulation(d=2)\n",
      "No.2 Simulation(d=3)\n",
      "No.3 Simulation(d=4)\n",
      "No.4 Simulation(d=5)\n",
      "No.5 Simulation(d=6)\n"
     ]
    }
   ],
   "source": [
    "# vertical panel with length of 3\n",
    "\n",
    "# r_1 = 1\n",
    "# r_2 = 0\n",
    "# r_3 = 0\n",
    "# A_p=998.97\n",
    "# A_o=998.97\n",
    "# time_list_d = []\n",
    "# time_perct_list_d = []\n",
    "# for d in range(2,7):\n",
    "#     print(f\"No.{d-1} Simulation(d={d})\")\n",
    "#     for seed in range(10):\n",
    "#         time_list = []\n",
    "#         time_perct_list = []\n",
    "#         barrier_set = barrier_set_noobs + [(26-d-3,8),(26-d,9)]\n",
    "#         time, time_perct = one_simulation(barrier_set, percent_threshold, \n",
    "#                     r_1, r_2, r_3, A_p, A_o, B, beta1, beta2,\n",
    "#                     N, delta_time, seed, gui_display=False)\n",
    "#         time_list.append(time)\n",
    "#         time_perct_list.append(time_perct)\n",
    "#     time_list_d.append(np.mean(time_list)) \n",
    "#     time_perct_list_d.append(np.mean(time_perct_list)) "
   ]
  },
  {
   "cell_type": "code",
   "execution_count": 50,
   "metadata": {},
   "outputs": [
    {
     "name": "stdout",
     "output_type": "stream",
     "text": [
      "[28.81499999999855, 25.894999999999133, 25.86499999999914, 26.80999999999895, 27.184999999998876]\n",
      "[19.405, 17.955, 18.17, 17.77, 18.42]\n"
     ]
    }
   ],
   "source": [
    "# print(time_list_d)\n",
    "# print(time_perct_list_d)"
   ]
  },
  {
   "cell_type": "markdown",
   "metadata": {},
   "source": [
    "### Two Pillars"
   ]
  },
  {
   "cell_type": "code",
   "execution_count": 59,
   "metadata": {},
   "outputs": [
    {
     "name": "stdout",
     "output_type": "stream",
     "text": [
      "No.1 Simulation(d=2)\n",
      "No.2 Simulation(d=3)\n",
      "No.3 Simulation(d=4)\n",
      "No.4 Simulation(d=5)\n"
     ]
    },
    {
     "ename": "KeyboardInterrupt",
     "evalue": "",
     "output_type": "error",
     "traceback": [
      "\u001b[0;31m---------------------------------------------------------------------------\u001b[0m",
      "\u001b[0;31mKeyboardInterrupt\u001b[0m                         Traceback (most recent call last)",
      "\u001b[0;32m/var/folders/d6/3r9vzdns3x33pc8dtx6syqfw0000gn/T/ipykernel_40572/1744399172.py\u001b[0m in \u001b[0;36m<module>\u001b[0;34m\u001b[0m\n\u001b[1;32m     12\u001b[0m         \u001b[0mtime_perct_list\u001b[0m \u001b[0;34m=\u001b[0m \u001b[0;34m[\u001b[0m\u001b[0;34m]\u001b[0m\u001b[0;34m\u001b[0m\u001b[0;34m\u001b[0m\u001b[0m\n\u001b[1;32m     13\u001b[0m         \u001b[0mbarrier_set\u001b[0m \u001b[0;34m=\u001b[0m \u001b[0mbarrier_set_noobs\u001b[0m \u001b[0;34m+\u001b[0m \u001b[0;34m[\u001b[0m\u001b[0;34m(\u001b[0m\u001b[0;36m26\u001b[0m\u001b[0;34m-\u001b[0m\u001b[0md\u001b[0m\u001b[0;34m-\u001b[0m\u001b[0;36m1\u001b[0m\u001b[0;34m,\u001b[0m\u001b[0;36m7\u001b[0m\u001b[0;34m)\u001b[0m\u001b[0;34m,\u001b[0m\u001b[0;34m(\u001b[0m\u001b[0;36m26\u001b[0m\u001b[0;34m-\u001b[0m\u001b[0md\u001b[0m\u001b[0;34m,\u001b[0m\u001b[0;36m8\u001b[0m\u001b[0;34m)\u001b[0m\u001b[0;34m,\u001b[0m\u001b[0;34m(\u001b[0m\u001b[0;36m26\u001b[0m\u001b[0;34m-\u001b[0m\u001b[0md\u001b[0m\u001b[0;34m-\u001b[0m\u001b[0;36m1\u001b[0m\u001b[0;34m,\u001b[0m\u001b[0;36m9\u001b[0m\u001b[0;34m)\u001b[0m\u001b[0;34m,\u001b[0m\u001b[0;34m(\u001b[0m\u001b[0;36m26\u001b[0m\u001b[0;34m-\u001b[0m\u001b[0md\u001b[0m\u001b[0;34m,\u001b[0m\u001b[0;36m10\u001b[0m\u001b[0;34m)\u001b[0m\u001b[0;34m]\u001b[0m\u001b[0;34m\u001b[0m\u001b[0;34m\u001b[0m\u001b[0m\n\u001b[0;32m---> 14\u001b[0;31m         time, time_perct = one_simulation(barrier_set, percent_threshold, \n\u001b[0m\u001b[1;32m     15\u001b[0m                     \u001b[0mr_1\u001b[0m\u001b[0;34m,\u001b[0m \u001b[0mr_2\u001b[0m\u001b[0;34m,\u001b[0m \u001b[0mr_3\u001b[0m\u001b[0;34m,\u001b[0m \u001b[0mA_p\u001b[0m\u001b[0;34m,\u001b[0m \u001b[0mA_o\u001b[0m\u001b[0;34m,\u001b[0m \u001b[0mB\u001b[0m\u001b[0;34m,\u001b[0m \u001b[0mbeta1\u001b[0m\u001b[0;34m,\u001b[0m \u001b[0mbeta2\u001b[0m\u001b[0;34m,\u001b[0m\u001b[0;34m\u001b[0m\u001b[0;34m\u001b[0m\u001b[0m\n\u001b[1;32m     16\u001b[0m                     N, delta_time, seed, gui_display=False)\n",
      "\u001b[0;32m~/Documents/GitHub/ABM/update/main_functions.py\u001b[0m in \u001b[0;36mone_simulation\u001b[0;34m(barrier_set, percent_threshold, r_1, r_2, r_3, A_p, A_o, B, beta1, beta2, N, delta_time, seed, gui_display)\u001b[0m\n\u001b[1;32m     79\u001b[0m             \u001b[0mrecorded_time\u001b[0m \u001b[0;34m=\u001b[0m \u001b[0;32mTrue\u001b[0m\u001b[0;34m\u001b[0m\u001b[0;34m\u001b[0m\u001b[0m\n\u001b[1;32m     80\u001b[0m \u001b[0;34m\u001b[0m\u001b[0m\n\u001b[0;32m---> 81\u001b[0;31m         people_list.move(barrier_set, delta_time=delta_time,  A_p= A_p, A_o= A_o, B=B,\n\u001b[0m\u001b[1;32m     82\u001b[0m                          \u001b[0mthreshold_ped\u001b[0m\u001b[0;34m=\u001b[0m\u001b[0;36m1.2\u001b[0m\u001b[0;34m,\u001b[0m \u001b[0mthreshold_obs\u001b[0m\u001b[0;34m=\u001b[0m\u001b[0;36m120\u001b[0m\u001b[0;34m,\u001b[0m\u001b[0;34m\u001b[0m\u001b[0;34m\u001b[0m\u001b[0m\n\u001b[1;32m     83\u001b[0m                         threshold_group=2, q_A=1, beta1=beta1, beta2=beta2)  # ped movement\n",
      "\u001b[0;32m~/Documents/GitHub/ABM/update/people.py\u001b[0m in \u001b[0;36mmove\u001b[0;34m(self, barrier_set, delta_time, A_p, A_o, B, threshold_ped, threshold_obs, threshold_group, q_A, q_R, beta1, beta2, beta3, scale)\u001b[0m\n\u001b[1;32m    180\u001b[0m             \u001b[0;34m(\u001b[0m\u001b[0mleft_bottom0\u001b[0m\u001b[0;34m,\u001b[0m \u001b[0mleft_bottom1\u001b[0m\u001b[0;34m)\u001b[0m \u001b[0;34m=\u001b[0m \u001b[0mbarrier_set\u001b[0m\u001b[0;34m[\u001b[0m\u001b[0;36m0\u001b[0m\u001b[0;34m]\u001b[0m\u001b[0;34m\u001b[0m\u001b[0;34m\u001b[0m\u001b[0m\n\u001b[1;32m    181\u001b[0m             \u001b[0;34m(\u001b[0m\u001b[0mright_top0\u001b[0m\u001b[0;34m,\u001b[0m \u001b[0mright_top1\u001b[0m\u001b[0;34m)\u001b[0m \u001b[0;34m=\u001b[0m \u001b[0mbarrier_set\u001b[0m\u001b[0;34m[\u001b[0m\u001b[0;36m1\u001b[0m\u001b[0;34m]\u001b[0m\u001b[0;34m\u001b[0m\u001b[0;34m\u001b[0m\u001b[0m\n\u001b[0;32m--> 182\u001b[0;31m             \u001b[0;32mif\u001b[0m \u001b[0ml_x\u001b[0m\u001b[0;34m>=\u001b[0m\u001b[0;34m(\u001b[0m\u001b[0mright_top0\u001b[0m\u001b[0;34m-\u001b[0m\u001b[0;36m1\u001b[0m\u001b[0;34m)\u001b[0m\u001b[0;34m*\u001b[0m\u001b[0mscale\u001b[0m \u001b[0;32mand\u001b[0m \u001b[0;34m(\u001b[0m\u001b[0ml_y\u001b[0m\u001b[0;34m<\u001b[0m\u001b[0;36m300\u001b[0m \u001b[0;32mor\u001b[0m \u001b[0ml_y\u001b[0m\u001b[0;34m>\u001b[0m\u001b[0;36m380\u001b[0m\u001b[0;34m)\u001b[0m\u001b[0;34m:\u001b[0m\u001b[0;34m\u001b[0m\u001b[0;34m\u001b[0m\u001b[0m\n\u001b[0m\u001b[1;32m    183\u001b[0m                 \u001b[0ml_x\u001b[0m \u001b[0;34m=\u001b[0m \u001b[0;34m(\u001b[0m\u001b[0mright_top0\u001b[0m\u001b[0;34m-\u001b[0m\u001b[0;36m1\u001b[0m\u001b[0;34m-\u001b[0m\u001b[0;36m0.05\u001b[0m\u001b[0;34m)\u001b[0m\u001b[0;34m*\u001b[0m\u001b[0mscale\u001b[0m\u001b[0;34m\u001b[0m\u001b[0;34m\u001b[0m\u001b[0m\n\u001b[1;32m    184\u001b[0m                 \u001b[0mnow\u001b[0m\u001b[0;34m.\u001b[0m\u001b[0mv\u001b[0m \u001b[0;34m=\u001b[0m \u001b[0;34m(\u001b[0m\u001b[0;36m0\u001b[0m\u001b[0;34m,\u001b[0m\u001b[0;36m0\u001b[0m\u001b[0;34m)\u001b[0m\u001b[0;34m\u001b[0m\u001b[0;34m\u001b[0m\u001b[0m\n",
      "\u001b[0;31mKeyboardInterrupt\u001b[0m: "
     ]
    }
   ],
   "source": [
    "# r_1 = 1\n",
    "# r_2 = 0\n",
    "# r_3 = 0\n",
    "# A_p=998.97\n",
    "# A_o=998.97\n",
    "# time_list_d = []\n",
    "# time_perct_list_d = []\n",
    "# for d in range(2,7):\n",
    "#     print(f\"No.{d-1} Simulation(d={d})\")\n",
    "#     for seed in range(10):\n",
    "#         time_list = []\n",
    "#         time_perct_list = []\n",
    "#         barrier_set = barrier_set_noobs + [(26-d-1,7),(26-d,8),(26-d-1,9),(26-d,10)]\n",
    "#         time, time_perct = one_simulation(barrier_set, percent_threshold, \n",
    "#                     r_1, r_2, r_3, A_p, A_o, B, beta1, beta2,\n",
    "#                     N, delta_time, seed, gui_display=False)\n",
    "#         time_list.append(time)\n",
    "#         time_perct_list.append(time_perct)\n",
    "#     time_list_d.append(np.mean(time_list)) \n",
    "#     time_perct_list_d.append(np.mean(time_perct_list)) "
   ]
  },
  {
   "cell_type": "code",
   "execution_count": 60,
   "metadata": {},
   "outputs": [
    {
     "name": "stdout",
     "output_type": "stream",
     "text": [
      "[1106.1600000009346, 29.71999999999837, 488.5599999996282]\n",
      "[19.37, 19.665, 18.485]\n"
     ]
    }
   ],
   "source": [
    "# print(time_list_d)\n",
    "# print(time_perct_list_d)"
   ]
  },
  {
   "cell_type": "code",
   "execution_count": null,
   "metadata": {},
   "outputs": [],
   "source": [
    "r_1 = 1\n",
    "r_2 = 0\n",
    "r_3 = 0\n",
    "A_p=998.97\n",
    "A_o=998.97\n",
    "time_list_d = []\n",
    "time_perct_list_d = []\n",
    "for d in range(2,7):\n",
    "    print(f\"No.{d-1} Simulation(d={d})\")\n",
    "    for seed in range(10):\n",
    "        time_list = []\n",
    "        time_perct_list = []\n",
    "        barrier_set = barrier_set_noobs + [(26-d-1,6),(26-d,7),(26-d-1,10),(26-d,11)]\n",
    "        time, time_perct = one_simulation(barrier_set, percent_threshold, \n",
    "                    r_1, r_2, r_3, A_p, A_o, B, beta1, beta2,\n",
    "                    N, delta_time, seed, gui_display=False)\n",
    "        time_list.append(time)\n",
    "        time_perct_list.append(time_perct)\n",
    "    time_list_d.append(np.mean(time_list)) \n",
    "    time_perct_list_d.append(np.mean(time_perct_list)) "
   ]
  },
  {
   "cell_type": "code",
   "execution_count": null,
   "metadata": {},
   "outputs": [],
   "source": [
    "print(time_list_d)\n",
    "print(time_perct_list_d)"
   ]
  },
  {
   "cell_type": "markdown",
   "metadata": {},
   "source": [
    "### One Pillar"
   ]
  },
  {
   "cell_type": "code",
   "execution_count": 61,
   "metadata": {},
   "outputs": [
    {
     "name": "stdout",
     "output_type": "stream",
     "text": [
      "No.1 Simulation(d=2)\n",
      "No.2 Simulation(d=3)\n",
      "No.3 Simulation(d=4)\n",
      "No.4 Simulation(d=5)\n",
      "No.5 Simulation(d=6)\n"
     ]
    }
   ],
   "source": [
    "r_1 = 1\n",
    "r_2 = 0\n",
    "r_3 = 0\n",
    "A_p=998.97\n",
    "A_o=998.97\n",
    "time_list_d = []\n",
    "time_perct_list_d = []\n",
    "for d in range(2,7):\n",
    "    print(f\"No.{d-1} Simulation(d={d})\")\n",
    "    for seed in range(10):\n",
    "        time_list = []\n",
    "        time_perct_list = []\n",
    "        barrier_set = barrier_set_noobs + [(26-d-1,8),(26-d,9)]\n",
    "        time, time_perct = one_simulation(barrier_set, percent_threshold, \n",
    "                    r_1, r_2, r_3, A_p, A_o, B, beta1, beta2,\n",
    "                    N, delta_time, seed, gui_display=False)\n",
    "        time_list.append(time)\n",
    "        time_perct_list.append(time_perct)\n",
    "    time_list_d.append(np.mean(time_list)) \n",
    "    time_perct_list_d.append(np.mean(time_perct_list)) "
   ]
  },
  {
   "cell_type": "code",
   "execution_count": 62,
   "metadata": {},
   "outputs": [
    {
     "name": "stdout",
     "output_type": "stream",
     "text": [
      "[29.47999999999842, 27.849999999998744, 27.124999999998888, 27.31999999999885, 28.494999999998615]\n",
      "[19.05, 19.06, 18.3, 18.1, 18.18]\n"
     ]
    }
   ],
   "source": [
    "print(time_list_d)\n",
    "print(time_perct_list_d)"
   ]
  },
  {
   "cell_type": "markdown",
   "metadata": {},
   "source": [
    "## Impact of Group-Split "
   ]
  },
  {
   "cell_type": "code",
   "execution_count": 100,
   "metadata": {},
   "outputs": [],
   "source": [
    "group_split = [(0.3, 0.1, 0.6), (0.1, 0.3, 0.6), (0, 0, 1)]\n",
    "A_p=998.97\n",
    "A_o=998.97\n",
    "B=-0.08\n",
    "beta1=0.5\n",
    "beta2=3"
   ]
  },
  {
   "cell_type": "markdown",
   "metadata": {},
   "source": [
    "### No Obstacle"
   ]
  },
  {
   "cell_type": "code",
   "execution_count": 101,
   "metadata": {},
   "outputs": [],
   "source": [
    "time_list_g_noobs = []\n",
    "time_perct_list_g_noobs = [] \n",
    "for (r_3, r_2, r_1) in group_split:\n",
    "    for seed in range(1):\n",
    "        time_list = []\n",
    "        time_perct_list = []\n",
    "        if (seed+1)%5==0:\n",
    "            print(f\"No.{seed+1} Simulation\")\n",
    "        time, time_perct = one_simulation(barrier_set_noobs, percent_threshold, \n",
    "                                          r_1, r_2, r_3, A_p, A_o, B, beta1, beta2,\n",
    "                                          N, delta_time, seed, gui_display=False)\n",
    "        time_list.append(time)\n",
    "        time_perct_list.append(time_perct)\n",
    "    time_list_g_noobs.append(np.mean(time_list)) \n",
    "    time_perct_list_g_noobs.append(np.mean(time_perct_list))"
   ]
  },
  {
   "cell_type": "code",
   "execution_count": 102,
   "metadata": {},
   "outputs": [
    {
     "name": "stdout",
     "output_type": "stream",
     "text": [
      "[68.03000000001062, 55.21000000000979, 28.584999999998598]\n",
      "[30.805, 34.085, 20.425]\n"
     ]
    }
   ],
   "source": [
    "print(time_list_g_noobs)\n",
    "print(time_perct_list_g_noobs)"
   ]
  },
  {
   "cell_type": "code",
   "execution_count": 105,
   "metadata": {},
   "outputs": [
    {
     "name": "stderr",
     "output_type": "stream",
     "text": [
      "/opt/anaconda3/lib/python3.9/site-packages/scipy/stats/_distn_infrastructure.py:2246: RuntimeWarning: invalid value encountered in multiply\n",
      "  lower_bound = _a * scale + loc\n",
      "/opt/anaconda3/lib/python3.9/site-packages/scipy/stats/_distn_infrastructure.py:2247: RuntimeWarning: invalid value encountered in multiply\n",
      "  upper_bound = _b * scale + loc\n"
     ]
    },
    {
     "ename": "TypeError",
     "evalue": "'>' not supported between instances of 'float' and 'NoneType'",
     "output_type": "error",
     "traceback": [
      "\u001b[0;31m---------------------------------------------------------------------------\u001b[0m",
      "\u001b[0;31mTypeError\u001b[0m                                 Traceback (most recent call last)",
      "\u001b[0;32m/var/folders/d6/3r9vzdns3x33pc8dtx6syqfw0000gn/T/ipykernel_40572/569434143.py\u001b[0m in \u001b[0;36m<module>\u001b[0;34m\u001b[0m\n\u001b[1;32m      3\u001b[0m                  \"$r_3=0$ \\n $r_2=0$ \\n $r_1=1$\"]\n\u001b[1;32m      4\u001b[0m \u001b[0;34m\u001b[0m\u001b[0m\n\u001b[0;32m----> 5\u001b[0;31m \u001b[0mplot_with_ci\u001b[0m\u001b[0;34m(\u001b[0m\u001b[0mtime_list_g_noobs\u001b[0m\u001b[0;34m,\u001b[0m \u001b[0mx_axis\u001b[0m\u001b[0;34m,\u001b[0m \u001b[0;32mNone\u001b[0m\u001b[0;34m,\u001b[0m \u001b[0;32mNone\u001b[0m\u001b[0;34m,\u001b[0m \u001b[0mxlabel\u001b[0m\u001b[0;34m=\u001b[0m\u001b[0;34m'Group Split'\u001b[0m\u001b[0;34m,\u001b[0m \u001b[0mylabel\u001b[0m\u001b[0;34m=\u001b[0m\u001b[0;34m'Average Evacuation Time'\u001b[0m\u001b[0;34m)\u001b[0m\u001b[0;34m\u001b[0m\u001b[0;34m\u001b[0m\u001b[0m\n\u001b[0m",
      "\u001b[0;32m~/Documents/GitHub/ABM/update/main_functions.py\u001b[0m in \u001b[0;36mplot_with_ci\u001b[0;34m(output_list, param_list, obstacle_type, value_noobs, xlabel, ylabel)\u001b[0m\n\u001b[1;32m    128\u001b[0m     \u001b[0;31m# plt.grid(True)\u001b[0m\u001b[0;34m\u001b[0m\u001b[0;34m\u001b[0m\u001b[0m\n\u001b[1;32m    129\u001b[0m \u001b[0;34m\u001b[0m\u001b[0m\n\u001b[0;32m--> 130\u001b[0;31m     \u001b[0mplt\u001b[0m\u001b[0;34m.\u001b[0m\u001b[0maxhline\u001b[0m\u001b[0;34m(\u001b[0m\u001b[0my\u001b[0m\u001b[0;34m=\u001b[0m\u001b[0mvalue_noobs\u001b[0m\u001b[0;34m,\u001b[0m \u001b[0mcolor\u001b[0m\u001b[0;34m=\u001b[0m\u001b[0;34m'r'\u001b[0m\u001b[0;34m,\u001b[0m \u001b[0mlinestyle\u001b[0m\u001b[0;34m=\u001b[0m\u001b[0;34m'--'\u001b[0m\u001b[0;34m,\u001b[0m \u001b[0mlabel\u001b[0m\u001b[0;34m=\u001b[0m\u001b[0;34m'No Obstacle'\u001b[0m\u001b[0;34m)\u001b[0m\u001b[0;34m\u001b[0m\u001b[0;34m\u001b[0m\u001b[0m\n\u001b[0m\u001b[1;32m    131\u001b[0m \u001b[0;34m\u001b[0m\u001b[0m\n\u001b[1;32m    132\u001b[0m     \u001b[0mplt\u001b[0m\u001b[0;34m.\u001b[0m\u001b[0mlegend\u001b[0m\u001b[0;34m(\u001b[0m\u001b[0;34m)\u001b[0m\u001b[0;34m\u001b[0m\u001b[0;34m\u001b[0m\u001b[0m\n",
      "\u001b[0;32m/opt/anaconda3/lib/python3.9/site-packages/matplotlib/pyplot.py\u001b[0m in \u001b[0;36maxhline\u001b[0;34m(y, xmin, xmax, **kwargs)\u001b[0m\n\u001b[1;32m   2691\u001b[0m \u001b[0;34m@\u001b[0m\u001b[0m_copy_docstring_and_deprecators\u001b[0m\u001b[0;34m(\u001b[0m\u001b[0mAxes\u001b[0m\u001b[0;34m.\u001b[0m\u001b[0maxhline\u001b[0m\u001b[0;34m)\u001b[0m\u001b[0;34m\u001b[0m\u001b[0;34m\u001b[0m\u001b[0m\n\u001b[1;32m   2692\u001b[0m \u001b[0;32mdef\u001b[0m \u001b[0maxhline\u001b[0m\u001b[0;34m(\u001b[0m\u001b[0my\u001b[0m\u001b[0;34m:\u001b[0m \u001b[0mfloat\u001b[0m \u001b[0;34m=\u001b[0m \u001b[0;36m0\u001b[0m\u001b[0;34m,\u001b[0m \u001b[0mxmin\u001b[0m\u001b[0;34m:\u001b[0m \u001b[0mfloat\u001b[0m \u001b[0;34m=\u001b[0m \u001b[0;36m0\u001b[0m\u001b[0;34m,\u001b[0m \u001b[0mxmax\u001b[0m\u001b[0;34m:\u001b[0m \u001b[0mfloat\u001b[0m \u001b[0;34m=\u001b[0m \u001b[0;36m1\u001b[0m\u001b[0;34m,\u001b[0m \u001b[0;34m**\u001b[0m\u001b[0mkwargs\u001b[0m\u001b[0;34m)\u001b[0m \u001b[0;34m->\u001b[0m \u001b[0mLine2D\u001b[0m\u001b[0;34m:\u001b[0m\u001b[0;34m\u001b[0m\u001b[0;34m\u001b[0m\u001b[0m\n\u001b[0;32m-> 2693\u001b[0;31m     \u001b[0;32mreturn\u001b[0m \u001b[0mgca\u001b[0m\u001b[0;34m(\u001b[0m\u001b[0;34m)\u001b[0m\u001b[0;34m.\u001b[0m\u001b[0maxhline\u001b[0m\u001b[0;34m(\u001b[0m\u001b[0my\u001b[0m\u001b[0;34m=\u001b[0m\u001b[0my\u001b[0m\u001b[0;34m,\u001b[0m \u001b[0mxmin\u001b[0m\u001b[0;34m=\u001b[0m\u001b[0mxmin\u001b[0m\u001b[0;34m,\u001b[0m \u001b[0mxmax\u001b[0m\u001b[0;34m=\u001b[0m\u001b[0mxmax\u001b[0m\u001b[0;34m,\u001b[0m \u001b[0;34m**\u001b[0m\u001b[0mkwargs\u001b[0m\u001b[0;34m)\u001b[0m\u001b[0;34m\u001b[0m\u001b[0;34m\u001b[0m\u001b[0m\n\u001b[0m\u001b[1;32m   2694\u001b[0m \u001b[0;34m\u001b[0m\u001b[0m\n\u001b[1;32m   2695\u001b[0m \u001b[0;34m\u001b[0m\u001b[0m\n",
      "\u001b[0;32m/opt/anaconda3/lib/python3.9/site-packages/matplotlib/axes/_axes.py\u001b[0m in \u001b[0;36maxhline\u001b[0;34m(self, y, xmin, xmax, **kwargs)\u001b[0m\n\u001b[1;32m    782\u001b[0m         \u001b[0;31m# Strip away the units for comparison with non-unitized bounds.\u001b[0m\u001b[0;34m\u001b[0m\u001b[0;34m\u001b[0m\u001b[0m\n\u001b[1;32m    783\u001b[0m         \u001b[0myy\u001b[0m\u001b[0;34m,\u001b[0m \u001b[0;34m=\u001b[0m \u001b[0mself\u001b[0m\u001b[0;34m.\u001b[0m\u001b[0m_process_unit_info\u001b[0m\u001b[0;34m(\u001b[0m\u001b[0;34m[\u001b[0m\u001b[0;34m(\u001b[0m\u001b[0;34m\"y\"\u001b[0m\u001b[0;34m,\u001b[0m \u001b[0my\u001b[0m\u001b[0;34m)\u001b[0m\u001b[0;34m]\u001b[0m\u001b[0;34m,\u001b[0m \u001b[0mkwargs\u001b[0m\u001b[0;34m)\u001b[0m\u001b[0;34m\u001b[0m\u001b[0;34m\u001b[0m\u001b[0m\n\u001b[0;32m--> 784\u001b[0;31m         \u001b[0mscaley\u001b[0m \u001b[0;34m=\u001b[0m \u001b[0;34m(\u001b[0m\u001b[0myy\u001b[0m \u001b[0;34m<\u001b[0m \u001b[0mymin\u001b[0m\u001b[0;34m)\u001b[0m \u001b[0;32mor\u001b[0m \u001b[0;34m(\u001b[0m\u001b[0myy\u001b[0m \u001b[0;34m>\u001b[0m \u001b[0mymax\u001b[0m\u001b[0;34m)\u001b[0m\u001b[0;34m\u001b[0m\u001b[0;34m\u001b[0m\u001b[0m\n\u001b[0m\u001b[1;32m    785\u001b[0m \u001b[0;34m\u001b[0m\u001b[0m\n\u001b[1;32m    786\u001b[0m         \u001b[0mtrans\u001b[0m \u001b[0;34m=\u001b[0m \u001b[0mself\u001b[0m\u001b[0;34m.\u001b[0m\u001b[0mget_yaxis_transform\u001b[0m\u001b[0;34m(\u001b[0m\u001b[0mwhich\u001b[0m\u001b[0;34m=\u001b[0m\u001b[0;34m'grid'\u001b[0m\u001b[0;34m)\u001b[0m\u001b[0;34m\u001b[0m\u001b[0;34m\u001b[0m\u001b[0m\n",
      "\u001b[0;31mTypeError\u001b[0m: '>' not supported between instances of 'float' and 'NoneType'"
     ]
    },
    {
     "data": {
      "image/png": "[encoded data removed]",
      "text/plain": [
       "<Figure size 720x360 with 1 Axes>"
      ]
     },
     "metadata": {
      "needs_background": "light"
     },
     "output_type": "display_data"
    }
   ],
   "source": [
    "x_axis = [\"$r_3=0.3$ \\n $r_2=0.1$ \\n $r_1=0.6$\", \n",
    "                 \"$r_3=0.1$ \\n $r_2=0.3$ \\n $r_1=0.6$\", \n",
    "                 \"$r_3=0$ \\n $r_2=0$ \\n $r_1=1$\"]\n",
    "plot_with_ci(time_list_g_noobs, x_axis, None, None, xlabel='Group Split', ylabel='Average Evacuation Time')"
   ]
  },
  {
   "cell_type": "markdown",
   "metadata": {},
   "source": [
    "### Optimal Obstacle"
   ]
  },
  {
   "cell_type": "code",
   "execution_count": null,
   "metadata": {},
   "outputs": [],
   "source": [
    "d = 5\n",
    "optimal_obs = barrier_set_noobs + [(26-d-4, 8), (26-d, 9)]\n",
    "\n",
    "time_list_g_yesobs = []\n",
    "time_perct_list_g_yesobs = [] \n",
    "for (r_3, r_2, r_1) in group_split:\n",
    "    for seed in range(20):\n",
    "        time_list = []\n",
    "        time_perct_list = []\n",
    "        if (seed+1)%5==0:\n",
    "            print(f\"No.{seed+1} Simulation\")\n",
    "        time, time_perct = one_simulation(optimal_obs, percent_threshold, \n",
    "                                          r_1, r_2, r_3, A_p, A_o, B, beta1, beta2,\n",
    "                                          N, delta_time, seed, gui_display=False)\n",
    "        time_list.append(time)\n",
    "        time_perct_list.append(time_perct)\n",
    "    time_list_g_yesobs.append(np.mean(time_list)) \n",
    "    time_perct_list_g_yesobs.append(np.mean(time_perct_list))"
   ]
  },
  {
   "cell_type": "code",
   "execution_count": null,
   "metadata": {},
   "outputs": [],
   "source": [
    "print(time_list_g_yesobs)\n",
    "print(time_perct_list_g_yesobs)"
   ]
  },
  {
   "cell_type": "code",
   "execution_count": null,
   "metadata": {},
   "outputs": [],
   "source": [
    "x_axis = [\"$r_3=0.3$ \\n $r_2=0.1$ \\n $r_1=0.6$\", \n",
    "                 \"$r_3=0.1$ \\n $r_2=0.3$ \\n $r_1=0.6$\", \n",
    "                 \"$r_3=0$ \\n $r_2=0$ \\n $r_1=1$\"]\n",
    "plot_with_ci(time_list_g_noobs, x_axis, None, None, xlabel='Group Split', ylabel='Average Evacuation Time')"
   ]
  }
 ],
 "metadata": {
  "kernelspec": {
   "display_name": "base",
   "language": "python",
   "name": "python3"
  },
  "language_info": {
   "codemirror_mode": {
    "name": "ipython",
    "version": 3
   },
   "file_extension": ".py",
   "mimetype": "text/x-python",
   "name": "python",
   "nbconvert_exporter": "python",
   "pygments_lexer": "ipython3",
   "version": "3.9.7"
  },
  "orig_nbformat": 4
 },
 "nbformat": 4,
 "nbformat_minor": 2
}
