{
 "cells": [
  {
   "cell_type": "code",
   "execution_count": 1,
   "metadata": {},
   "outputs": [],
   "source": [
    "import importlib\n",
    "import gui\n",
    "import people\n",
    "import astar\n",
    "import main_functions\n",
    "importlib.reload(gui)\n",
    "importlib.reload(people)\n",
    "importlib.reload(astar)\n",
    "importlib.reload(main_functions)\n",
    "from gui import GUI\n",
    "from people import PeopleList\n",
    "from main_functions import group_num_calculator,one_simulation\n",
    "import matplotlib.pyplot as plt"
   ]
  },
  {
   "cell_type": "markdown",
   "metadata": {},
   "source": [
    "# Test Model"
   ]
  },
  {
   "cell_type": "code",
   "execution_count": 13,
   "metadata": {},
   "outputs": [
    {
     "name": "stdout",
     "output_type": "stream",
     "text": [
      "Time when 50% of people moved out: 24.035 seconds\n"
     ]
    }
   ],
   "source": [
    "# [(start_boundary), (end_boundary), (door), (start_obstacle1), (end_obstacle1), (start_obstacle2), (end_obstacle2)...]\n",
    "# Note the boader of room is of size 1, hence the real room is (1,1)->(26,16)\n",
    "barrier_set = [(0, 0), (27, 17), (26, 8), (20, 4), (23, 7), (20, 10), (23, 13)]\n",
    "\n",
    "seed = 41\n",
    "delta_time = 0.005  # Timestrp\n",
    "percent_threshold = 50  # Checkpoint: the percentage of people being moved out\n",
    "\n",
    "initial_people_count = None\n",
    "recorded_time = False\n",
    "\n",
    "# Build GUI\n",
    "gui = GUI()\n",
    "gui.add_barrier(barrier_set)\n",
    "gui.update_gui()\n",
    "\n",
    "# Build PeopleList saving each people object\n",
    "people_list = PeopleList(seed)\n",
    "# Build direction matrix\n",
    "people_list.direction_matrix(barrier_set)\n",
    "# Assign groups\n",
    "r_1 = 0.6 # ratio of 1-ped group\n",
    "r_2 = 0.35 # ratio of 2-ped group\n",
    "r_3 = 0.05 # ratio of 3-ped group\n",
    "N = 15*9 # Total pedestrians\n",
    "(n_1,n_2,n_3) = group_num_calculator(N, r_1, r_2, r_3)\n",
    "group_split = {3: n_3, 2: n_2}\n",
    "people_list.assign_groups(group_split,seed)\n",
    "\n",
    "\n",
    "time = 0\n",
    "\n",
    "# Initial each people\n",
    "for people in people_list.list:\n",
    "    gui.add_line(people, people_list.list, people.group_id)\n",
    "    gui.add_oval(people.loc[0] - people.r, people.loc[1] - people.r,\n",
    "                 people.loc[0] + people.r, people.loc[1] + people.r, people.id)\n",
    "gui.update_gui()\n",
    "\n",
    "initial_people_count = len(people_list.list)\n",
    "\n",
    "# Move\n",
    "# start_time = real_time.time() \n",
    "\n",
    "while people_list.list:\n",
    "    i = 0\n",
    "    while i < len(people_list.list):\n",
    "        gui.del_line(people_list.list[i].group_id)\n",
    "        gui.del_oval(people_list.list[i].id)\n",
    "\n",
    "        if people_list.list[i].loc[0] > 1040 and people_list.list[i].loc[1] >300 and people_list.list[i].loc[1] <380:  # delete people if it goes out of room\n",
    "            people_list.list.pop(i)\n",
    "            continue\n",
    "        i += 1\n",
    "\n",
    "    # Check the percentage of people who have moved out\n",
    "    remaining_people_count = len(people_list.list)\n",
    "    moved_out_percentage = ((initial_people_count - remaining_people_count) / initial_people_count) * 100\n",
    "\n",
    "    if not recorded_time and moved_out_percentage >= percent_threshold:\n",
    "        print(f\"Time when {percent_threshold}% of people moved out: {round(time, 3)} seconds\") \n",
    "        recorded_time = True\n",
    "\n",
    "    people_list.move(barrier_set, delta_time=delta_time,  A_p=2000, A_o=5000, B=-0.08, threshold_ped=1.2, threshold_obs=120,\n",
    "                     threshold_group=2,q_A=1, beta1=0.4, beta2=0.2)  # ped movement\n",
    "\n",
    "    for people in people_list.list:  # update position\n",
    "        gui.add_oval(int(people.loc[0]) - people.r,\n",
    "                     int(people.loc[1]) - people.r, int(people.loc[0]) + people.r,\n",
    "                     int(people.loc[1]) + people.r, people.id)\n",
    "        gui.add_line(people, people_list.list, people.group_id)\n",
    "\n",
    "    # time = real_time.time() - start_time  # update time\n",
    "    time += delta_time\n",
    "    gui.update_time(str(round(time, 3)))\n",
    "    gui.update_gui()\n",
    "\n",
    "gui.start()\n"
   ]
  },
  {
   "cell_type": "code",
   "execution_count": null,
   "metadata": {},
   "outputs": [],
   "source": [
    "r_1 = 0.6 # ratio of 1-ped group\n",
    "r_2 = 0.35 # ratio of 2-ped group\n",
    "r_3 = 0.05 # ratio of 3-ped group\n",
    "N = 15*9 # Total pedestrians\n",
    "barrier_set = [(0, 0), (27, 17), (26, 8), (20, 4), (23, 7), (20, 10), (23, 13)]\n",
    "delta_time = 0.005\n",
    "seed = 41\n",
    "percent_threshold = 80\n",
    "A_p=2000\n",
    "A_o=5000\n",
    "B=-0.08\n",
    "beta1=0.4\n",
    "beta2=0.2\n",
    "time = one_simulation(barrier_set, percent_threshold, \n",
    "                   r_1, r_2, r_3, A_p, A_o, B, beta1, beta2,\n",
    "                   N, delta_time, seed, gui_display=True)"
   ]
  },
  {
   "cell_type": "code",
   "execution_count": 14,
   "metadata": {},
   "outputs": [
    {
     "name": "stdout",
     "output_type": "stream",
     "text": [
      "Time when 100% of people moved out: 57.735 seconds\n"
     ]
    }
   ],
   "source": [
    "print(f\"Time when 100% of people moved out: {time:.3f} seconds\")"
   ]
  },
  {
   "cell_type": "markdown",
   "metadata": {},
   "source": [
    "# Global Sensitive Analysis"
   ]
  },
  {
   "cell_type": "code",
   "execution_count": null,
   "metadata": {},
   "outputs": [],
   "source": []
  },
  {
   "cell_type": "markdown",
   "metadata": {},
   "source": [
    "# Local Sensitive Analysis"
   ]
  },
  {
   "cell_type": "code",
   "execution_count": null,
   "metadata": {},
   "outputs": [],
   "source": []
  },
  {
   "cell_type": "markdown",
   "metadata": {},
   "source": [
    "# Experiment"
   ]
  },
  {
   "cell_type": "code",
   "execution_count": 2,
   "metadata": {},
   "outputs": [
    {
     "name": "stdout",
     "output_type": "stream",
     "text": [
      "Time when 80% of people moved out: 41.79 seconds\n"
     ]
    }
   ],
   "source": [
    "r_1 = 0.6 # ratio of 1-ped group\n",
    "r_2 = 0.35 # ratio of 2-ped group\n",
    "r_3 = 0.05 # ratio of 3-ped group\n",
    "N = 15*9 # Total pedestrians\n",
    "barrier_set = [(0, 0), (27, 17), (26, 8), (20, 4), (23, 7), (20, 10), (23, 13)]\n",
    "delta_time = 0.005\n",
    "seed = 41\n",
    "percent_threshold = 80\n",
    "A_p=2000\n",
    "A_o=5000\n",
    "B=-0.08\n",
    "beta1=0.4\n",
    "beta2=0.2\n",
    "time = one_simulation(barrier_set, percent_threshold, \n",
    "                   r_1, r_2, r_3, A_p, A_o, B, beta1, beta2,\n",
    "                   N, delta_time, seed, gui_display=False)"
   ]
  },
  {
   "cell_type": "code",
   "execution_count": 3,
   "metadata": {},
   "outputs": [
    {
     "name": "stdout",
     "output_type": "stream",
     "text": [
      "Time when 100% of people moved out: 57.735 seconds\n"
     ]
    }
   ],
   "source": [
    "print(f\"Time when 100% of people moved out: {time:.3f} seconds\")"
   ]
  }
 ],
 "metadata": {
  "kernelspec": {
   "display_name": "base",
   "language": "python",
   "name": "python3"
  },
  "language_info": {
   "codemirror_mode": {
    "name": "ipython",
    "version": 3
   },
   "file_extension": ".py",
   "mimetype": "text/x-python",
   "name": "python",
   "nbconvert_exporter": "python",
   "pygments_lexer": "ipython3",
   "version": "3.9.7"
  },
  "orig_nbformat": 4
 },
 "nbformat": 4,
 "nbformat_minor": 2
}
