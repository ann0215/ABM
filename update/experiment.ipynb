{
 "cells": [
  {
   "cell_type": "code",
   "execution_count": 4,
   "metadata": {},
   "outputs": [],
   "source": [
    "import importlib\n",
    "import gui\n",
    "import people\n",
    "import astar\n",
    "importlib.reload(gui)\n",
    "importlib.reload(people)\n",
    "importlib.reload(astar)\n",
    "from gui import GUI\n",
    "from people import PeopleList\n",
    "import matplotlib.pyplot as plt"
   ]
  },
  {
   "cell_type": "code",
   "execution_count": 19,
   "metadata": {},
   "outputs": [
    {
     "ename": "TclError",
     "evalue": "can't invoke \"update\" command: application has been destroyed",
     "output_type": "error",
     "traceback": [
      "\u001b[0;31m---------------------------------------------------------------------------\u001b[0m",
      "\u001b[0;31mTclError\u001b[0m                                  Traceback (most recent call last)",
      "\u001b[0;32m/var/folders/jl/vxh7z5b94jl6_r_fykw7brt80000gn/T/ipykernel_22829/3174484349.py\u001b[0m in \u001b[0;36m<module>\u001b[0;34m\u001b[0m\n\u001b[1;32m     66\u001b[0m     \u001b[0mtime\u001b[0m \u001b[0;34m=\u001b[0m \u001b[0mreal_time\u001b[0m\u001b[0;34m.\u001b[0m\u001b[0mtime\u001b[0m\u001b[0;34m(\u001b[0m\u001b[0;34m)\u001b[0m \u001b[0;34m-\u001b[0m \u001b[0mstart_time\u001b[0m  \u001b[0;31m# update time\u001b[0m\u001b[0;34m\u001b[0m\u001b[0;34m\u001b[0m\u001b[0m\n\u001b[1;32m     67\u001b[0m     \u001b[0mgui\u001b[0m\u001b[0;34m.\u001b[0m\u001b[0mupdate_time\u001b[0m\u001b[0;34m(\u001b[0m\u001b[0mstr\u001b[0m\u001b[0;34m(\u001b[0m\u001b[0mround\u001b[0m\u001b[0;34m(\u001b[0m\u001b[0mtime\u001b[0m\u001b[0;34m,\u001b[0m \u001b[0;36m3\u001b[0m\u001b[0;34m)\u001b[0m\u001b[0;34m)\u001b[0m\u001b[0;34m)\u001b[0m\u001b[0;34m\u001b[0m\u001b[0;34m\u001b[0m\u001b[0m\n\u001b[0;32m---> 68\u001b[0;31m     \u001b[0mgui\u001b[0m\u001b[0;34m.\u001b[0m\u001b[0mupdate_gui\u001b[0m\u001b[0;34m(\u001b[0m\u001b[0;34m)\u001b[0m\u001b[0;34m\u001b[0m\u001b[0;34m\u001b[0m\u001b[0m\n\u001b[0m\u001b[1;32m     69\u001b[0m \u001b[0;34m\u001b[0m\u001b[0m\n\u001b[1;32m     70\u001b[0m \u001b[0mgui\u001b[0m\u001b[0;34m.\u001b[0m\u001b[0mstart\u001b[0m\u001b[0;34m(\u001b[0m\u001b[0;34m)\u001b[0m\u001b[0;34m\u001b[0m\u001b[0;34m\u001b[0m\u001b[0m\n",
      "\u001b[0;32m~/2023year/Block6/ABM/ABM_completed/ABM/update/gui.py\u001b[0m in \u001b[0;36mupdate_gui\u001b[0;34m(self)\u001b[0m\n\u001b[1;32m     67\u001b[0m     \u001b[0;32mdef\u001b[0m \u001b[0mupdate_gui\u001b[0m\u001b[0;34m(\u001b[0m\u001b[0mself\u001b[0m\u001b[0;34m)\u001b[0m\u001b[0;34m:\u001b[0m\u001b[0;34m\u001b[0m\u001b[0;34m\u001b[0m\u001b[0m\n\u001b[1;32m     68\u001b[0m         \u001b[0mself\u001b[0m\u001b[0;34m.\u001b[0m\u001b[0mtop\u001b[0m\u001b[0;34m.\u001b[0m\u001b[0mupdate\u001b[0m\u001b[0;34m(\u001b[0m\u001b[0;34m)\u001b[0m\u001b[0;34m\u001b[0m\u001b[0;34m\u001b[0m\u001b[0m\n\u001b[0;32m---> 69\u001b[0;31m         \u001b[0mself\u001b[0m\u001b[0;34m.\u001b[0m\u001b[0mc\u001b[0m\u001b[0;34m.\u001b[0m\u001b[0mupdate\u001b[0m\u001b[0;34m(\u001b[0m\u001b[0;34m)\u001b[0m\u001b[0;34m\u001b[0m\u001b[0;34m\u001b[0m\u001b[0m\n\u001b[0m\u001b[1;32m     70\u001b[0m     \u001b[0;34m'''Sart GUI'''\u001b[0m\u001b[0;34m\u001b[0m\u001b[0;34m\u001b[0m\u001b[0m\n\u001b[1;32m     71\u001b[0m     \u001b[0;32mdef\u001b[0m \u001b[0mstart\u001b[0m\u001b[0;34m(\u001b[0m\u001b[0mself\u001b[0m\u001b[0;34m)\u001b[0m\u001b[0;34m:\u001b[0m\u001b[0;34m\u001b[0m\u001b[0;34m\u001b[0m\u001b[0m\n",
      "\u001b[0;32m/Library/Frameworks/Python.framework/Versions/3.7/lib/python3.7/tkinter/__init__.py\u001b[0m in \u001b[0;36mupdate\u001b[0;34m(self)\u001b[0m\n\u001b[1;32m   1175\u001b[0m     \u001b[0;32mdef\u001b[0m \u001b[0mupdate\u001b[0m\u001b[0;34m(\u001b[0m\u001b[0mself\u001b[0m\u001b[0;34m)\u001b[0m\u001b[0;34m:\u001b[0m\u001b[0;34m\u001b[0m\u001b[0;34m\u001b[0m\u001b[0m\n\u001b[1;32m   1176\u001b[0m         \u001b[0;34m\"\"\"Enter event loop until all pending events have been processed by Tcl.\"\"\"\u001b[0m\u001b[0;34m\u001b[0m\u001b[0;34m\u001b[0m\u001b[0m\n\u001b[0;32m-> 1177\u001b[0;31m         \u001b[0mself\u001b[0m\u001b[0;34m.\u001b[0m\u001b[0mtk\u001b[0m\u001b[0;34m.\u001b[0m\u001b[0mcall\u001b[0m\u001b[0;34m(\u001b[0m\u001b[0;34m'update'\u001b[0m\u001b[0;34m)\u001b[0m\u001b[0;34m\u001b[0m\u001b[0;34m\u001b[0m\u001b[0m\n\u001b[0m\u001b[1;32m   1178\u001b[0m     \u001b[0;32mdef\u001b[0m \u001b[0mupdate_idletasks\u001b[0m\u001b[0;34m(\u001b[0m\u001b[0mself\u001b[0m\u001b[0;34m)\u001b[0m\u001b[0;34m:\u001b[0m\u001b[0;34m\u001b[0m\u001b[0;34m\u001b[0m\u001b[0m\n\u001b[1;32m   1179\u001b[0m         \"\"\"Enter event loop until all idle callbacks have been called. This\n",
      "\u001b[0;31mTclError\u001b[0m: can't invoke \"update\" command: application has been destroyed"
     ]
    }
   ],
   "source": [
    "import time as real_time  # import real time\n",
    "\n",
    "# [(start_boundary), (end_boundary), (door), (start_obstacle1), (end_obstacle1), (start_obstacle2), (end_obstacle2)...]\n",
    "barrier_set = [(0, 0), (27, 17), (26, 8), (24, 4), (25, 7), (24, 10), (25, 13)]\n",
    "# = [(0, 0), (27, 17), (26, 8), (22, 4), (23, 7)]\n",
    "# barrier_set = [(0, 0), (27, 17), (26, 8)]  # -> No obstacles\n",
    "delta_time = 0.005\n",
    "percent_threshold = 50  # the percentage of people being moved out\n",
    "initial_people_count = None\n",
    "recorded_time = False\n",
    "\n",
    "# Build GUI\n",
    "gui = GUI()\n",
    "gui.add_barrier(barrier_set)\n",
    "gui.update_gui()\n",
    "\n",
    "# Build PeopleList saving each people object\n",
    "people_list = PeopleList()\n",
    "# Build direction matrix\n",
    "people_list.direction_matrix(barrier_set)\n",
    "# Assign groups\n",
    "group_split = {4: 1, 3: 2, 2: 5}\n",
    "people_list.assign_groups(group_split)\n",
    "time = 0\n",
    "\n",
    "# Initial each people\n",
    "for people in people_list.list:\n",
    "    gui.add_line(people, people_list.list, people.group_id)\n",
    "    gui.add_oval(people.loc[0] - people.r, people.loc[1] - people.r,\n",
    "                 people.loc[0] + people.r, people.loc[1] + people.r, people.id)\n",
    "gui.update_gui()\n",
    "\n",
    "initial_people_count = len(people_list.list)\n",
    "\n",
    "# Move\n",
    "start_time = real_time.time() \n",
    "\n",
    "while people_list.list:\n",
    "    i = 0\n",
    "    while i < len(people_list.list):\n",
    "        gui.del_line(people_list.list[i].group_id)\n",
    "        gui.del_oval(people_list.list[i].id)\n",
    "\n",
    "        if people_list.list[i].loc[0] > 1040:  # delete people if it goes out of room\n",
    "            people_list.list.pop(i)\n",
    "            continue\n",
    "        i += 1\n",
    "\n",
    "    # Check the percentage of people who have moved out\n",
    "    remaining_people_count = len(people_list.list)\n",
    "    moved_out_percentage = ((initial_people_count - remaining_people_count) / initial_people_count) * 100\n",
    "\n",
    "    if not recorded_time and moved_out_percentage >= percent_threshold:\n",
    "        print(f\"Time when {percent_threshold}% of people moved out: {round(time, 3)} seconds\") \n",
    "        recorded_time = True\n",
    "\n",
    "    people_list.move(barrier_set, delta_time=delta_time, A=2000, B=-0.08, threshold_ped=1.4, threshold_obs=120,\n",
    "                     threshold_group=2, q_A=1, q_R=1, beta1=4, beta2=2, beta3=2)  # ped movement\n",
    "\n",
    "    for people in people_list.list:  # update position\n",
    "        gui.add_oval(int(people.loc[0]) - people.r,\n",
    "                     int(people.loc[1]) - people.r, int(people.loc[0]) + people.r,\n",
    "                     int(people.loc[1]) + people.r, people.id)\n",
    "        gui.add_line(people, people_list.list, people.group_id)\n",
    "\n",
    "    time = real_time.time() - start_time  # update time\n",
    "    gui.update_time(str(round(time, 3)))\n",
    "    gui.update_gui()\n",
    "\n",
    "gui.start()\n"
   ]
  }
 ],
 "metadata": {
  "kernelspec": {
   "display_name": "base",
   "language": "python",
   "name": "python3"
  },
  "language_info": {
   "codemirror_mode": {
    "name": "ipython",
    "version": 3
   },
   "file_extension": ".py",
   "mimetype": "text/x-python",
   "name": "python",
   "nbconvert_exporter": "python",
   "pygments_lexer": "ipython3",
   "version": "3.7.9"
  },
  "orig_nbformat": 4
 },
 "nbformat": 4,
 "nbformat_minor": 2
}
